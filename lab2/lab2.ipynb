{
 "cells": [
  {
   "cell_type": "markdown",
   "metadata": {},
   "source": [
    "# Лабораторная работа №2\n",
    "## Обработка пропусков в данных, кодирование категориальных признаков, масштабирование данных\n",
    "### Выполнил Плешаков Владислав, РТ5-61Б\n",
    "\n",
    "Датасет: https://www.kaggle.com/competitions/spaceship-titanic/data\n",
    "Описание датасета:\n",
    "* **PassengerId** - A unique Id for each passenger. Each Id takes the form gggg_pp where gggg indicates a group the passenger is travelling with and pp is their number within the group. People in a group are often family members, but not always (string)\n",
    "* **HomePlanet** - The planet the passenger departed from, typically their planet of permanent residence (string)\n",
    "* **CryoSleep** - Indicates whether the passenger elected to be put into suspended animation for the duration of the voyage. Passengers in cryosleep are confined to their cabins (True/False)\n",
    "* **Cabin** - The cabin number where the passenger is staying. Takes the form deck/num/side, where side can be either P for Port or S for Starboard (string)\n",
    "* **Destination** - The planet the passenger will be debarking to (string)\n",
    "* **Age** - The age of the passenger (int)\n",
    "* **VIP** - Whether the passenger has paid for special VIP service during the voyage (True/False)**\n",
    "* **RoomService, FoodCourt, ShoppingMall, Spa, VRDeck** - Amount the passenger has billed at each of the Spaceship Titanic's many luxury amenities (float)\n",
    "* **Name** - The first and last names of the passenger (string)\n",
    "* **Transported** - Whether the passenger was transported to another dimension. This is the target, the column you are trying to predict (True/False)\n"
   ]
  },
  {
   "cell_type": "code",
   "execution_count": 1,
   "metadata": {
    "collapsed": true
   },
   "outputs": [],
   "source": [
    "import numpy as np\n",
    "import pandas as pd\n",
    "import matplotlib.pyplot as plt\n",
    "import seaborn as sns\n",
    "from sklearn.impute import SimpleImputer\n",
    "from sklearn.impute import MissingIndicator\n",
    "from sklearn.preprocessing import LabelEncoder, OrdinalEncoder\n",
    "from sklearn.preprocessing import MinMaxScaler, StandardScaler, Normalizer\n",
    "\n",
    "%matplotlib inline\n",
    "sns.set(style=\"ticks\")"
   ]
  },
  {
   "cell_type": "code",
   "execution_count": 2,
   "metadata": {
    "pycharm": {
     "name": "#%%\n"
    }
   },
   "outputs": [],
   "source": [
    "data = pd.read_csv('data/train.csv', sep=',')"
   ]
  },
  {
   "cell_type": "code",
   "execution_count": 3,
   "metadata": {
    "pycharm": {
     "name": "#%%\n"
    }
   },
   "outputs": [
    {
     "data": {
      "text/plain": "  PassengerId HomePlanet CryoSleep  Cabin  Destination   Age    VIP  \\\n0     0001_01     Europa     False  B/0/P  TRAPPIST-1e  39.0  False   \n1     0002_01      Earth     False  F/0/S  TRAPPIST-1e  24.0  False   \n2     0003_01     Europa     False  A/0/S  TRAPPIST-1e  58.0   True   \n3     0003_02     Europa     False  A/0/S  TRAPPIST-1e  33.0  False   \n4     0004_01      Earth     False  F/1/S  TRAPPIST-1e  16.0  False   \n\n   RoomService  FoodCourt  ShoppingMall     Spa  VRDeck               Name  \\\n0          0.0        0.0           0.0     0.0     0.0    Maham Ofracculy   \n1        109.0        9.0          25.0   549.0    44.0       Juanna Vines   \n2         43.0     3576.0           0.0  6715.0    49.0      Altark Susent   \n3          0.0     1283.0         371.0  3329.0   193.0       Solam Susent   \n4        303.0       70.0         151.0   565.0     2.0  Willy Santantines   \n\n   Transported  \n0        False  \n1         True  \n2        False  \n3        False  \n4         True  ",
      "text/html": "<div>\n<style scoped>\n    .dataframe tbody tr th:only-of-type {\n        vertical-align: middle;\n    }\n\n    .dataframe tbody tr th {\n        vertical-align: top;\n    }\n\n    .dataframe thead th {\n        text-align: right;\n    }\n</style>\n<table border=\"1\" class=\"dataframe\">\n  <thead>\n    <tr style=\"text-align: right;\">\n      <th></th>\n      <th>PassengerId</th>\n      <th>HomePlanet</th>\n      <th>CryoSleep</th>\n      <th>Cabin</th>\n      <th>Destination</th>\n      <th>Age</th>\n      <th>VIP</th>\n      <th>RoomService</th>\n      <th>FoodCourt</th>\n      <th>ShoppingMall</th>\n      <th>Spa</th>\n      <th>VRDeck</th>\n      <th>Name</th>\n      <th>Transported</th>\n    </tr>\n  </thead>\n  <tbody>\n    <tr>\n      <th>0</th>\n      <td>0001_01</td>\n      <td>Europa</td>\n      <td>False</td>\n      <td>B/0/P</td>\n      <td>TRAPPIST-1e</td>\n      <td>39.0</td>\n      <td>False</td>\n      <td>0.0</td>\n      <td>0.0</td>\n      <td>0.0</td>\n      <td>0.0</td>\n      <td>0.0</td>\n      <td>Maham Ofracculy</td>\n      <td>False</td>\n    </tr>\n    <tr>\n      <th>1</th>\n      <td>0002_01</td>\n      <td>Earth</td>\n      <td>False</td>\n      <td>F/0/S</td>\n      <td>TRAPPIST-1e</td>\n      <td>24.0</td>\n      <td>False</td>\n      <td>109.0</td>\n      <td>9.0</td>\n      <td>25.0</td>\n      <td>549.0</td>\n      <td>44.0</td>\n      <td>Juanna Vines</td>\n      <td>True</td>\n    </tr>\n    <tr>\n      <th>2</th>\n      <td>0003_01</td>\n      <td>Europa</td>\n      <td>False</td>\n      <td>A/0/S</td>\n      <td>TRAPPIST-1e</td>\n      <td>58.0</td>\n      <td>True</td>\n      <td>43.0</td>\n      <td>3576.0</td>\n      <td>0.0</td>\n      <td>6715.0</td>\n      <td>49.0</td>\n      <td>Altark Susent</td>\n      <td>False</td>\n    </tr>\n    <tr>\n      <th>3</th>\n      <td>0003_02</td>\n      <td>Europa</td>\n      <td>False</td>\n      <td>A/0/S</td>\n      <td>TRAPPIST-1e</td>\n      <td>33.0</td>\n      <td>False</td>\n      <td>0.0</td>\n      <td>1283.0</td>\n      <td>371.0</td>\n      <td>3329.0</td>\n      <td>193.0</td>\n      <td>Solam Susent</td>\n      <td>False</td>\n    </tr>\n    <tr>\n      <th>4</th>\n      <td>0004_01</td>\n      <td>Earth</td>\n      <td>False</td>\n      <td>F/1/S</td>\n      <td>TRAPPIST-1e</td>\n      <td>16.0</td>\n      <td>False</td>\n      <td>303.0</td>\n      <td>70.0</td>\n      <td>151.0</td>\n      <td>565.0</td>\n      <td>2.0</td>\n      <td>Willy Santantines</td>\n      <td>True</td>\n    </tr>\n  </tbody>\n</table>\n</div>"
     },
     "execution_count": 3,
     "metadata": {},
     "output_type": "execute_result"
    }
   ],
   "source": [
    "data.head()"
   ]
  },
  {
   "cell_type": "code",
   "execution_count": 4,
   "metadata": {
    "pycharm": {
     "name": "#%%\n"
    }
   },
   "outputs": [
    {
     "data": {
      "text/plain": "PassengerId       0\nHomePlanet      201\nCryoSleep       217\nCabin           199\nDestination     182\nAge             179\nVIP             203\nRoomService     181\nFoodCourt       183\nShoppingMall    208\nSpa             183\nVRDeck          188\nName            200\nTransported       0\ndtype: int64"
     },
     "execution_count": 4,
     "metadata": {},
     "output_type": "execute_result"
    }
   ],
   "source": [
    "data.isnull().sum()"
   ]
  },
  {
   "cell_type": "code",
   "execution_count": 5,
   "metadata": {
    "pycharm": {
     "name": "#%%\n"
    }
   },
   "outputs": [
    {
     "data": {
      "text/plain": "PassengerId      object\nHomePlanet       object\nCryoSleep        object\nCabin            object\nDestination      object\nAge             float64\nVIP              object\nRoomService     float64\nFoodCourt       float64\nShoppingMall    float64\nSpa             float64\nVRDeck          float64\nName             object\nTransported        bool\ndtype: object"
     },
     "execution_count": 5,
     "metadata": {},
     "output_type": "execute_result"
    }
   ],
   "source": [
    "data.dtypes"
   ]
  },
  {
   "cell_type": "markdown",
   "metadata": {},
   "source": [
    "## Обработка пропусков в данных"
   ]
  },
  {
   "cell_type": "markdown",
   "metadata": {},
   "source": [
    "### Удаление строк и столбцов с пропусками"
   ]
  },
  {
   "cell_type": "code",
   "execution_count": 6,
   "outputs": [],
   "source": [
    "# Удаление строк\n",
    "data_del_row: pd.DataFrame = data.dropna(axis=0, how='any', subset=['Destination', 'VRDeck'])\n",
    "\n",
    "# Удаление столбцов\n",
    "data_deleted: pd.DataFrame = data_del_row.drop(axis=1, columns=['Name', 'PassengerId', 'ShoppingMall', 'Spa', 'Cabin'])"
   ],
   "metadata": {
    "collapsed": false,
    "pycharm": {
     "name": "#%%\n"
    }
   }
  },
  {
   "cell_type": "code",
   "execution_count": 7,
   "outputs": [
    {
     "data": {
      "text/plain": "HomePlanet     196\nCryoSleep      206\nDestination      0\nAge            172\nVIP            198\nRoomService    176\nFoodCourt      171\nVRDeck           0\nTransported      0\ndtype: int64"
     },
     "execution_count": 7,
     "metadata": {},
     "output_type": "execute_result"
    }
   ],
   "source": [
    "data_deleted.isnull().sum()"
   ],
   "metadata": {
    "collapsed": false,
    "pycharm": {
     "name": "#%%\n"
    }
   }
  },
  {
   "cell_type": "markdown",
   "metadata": {},
   "source": [
    "### Обработка пропусков в числовых данных"
   ]
  },
  {
   "cell_type": "code",
   "execution_count": 8,
   "metadata": {
    "pycharm": {
     "name": "#%%\n"
    }
   },
   "outputs": [
    {
     "name": "stdout",
     "output_type": "stream",
     "text": [
      "Колонка Age. Тип данных float64. Количество пустых значений 172, 2.07%.\n",
      "Колонка RoomService. Тип данных float64. Количество пустых значений 176, 2.11%.\n",
      "Колонка FoodCourt. Тип данных float64. Количество пустых значений 171, 2.05%.\n"
     ]
    }
   ],
   "source": [
    "# Выберем числовые колнки с пропусками\n",
    "num_cols = []\n",
    "total_count = data_deleted.shape[0]\n",
    "for col in data_deleted.columns:\n",
    "    temp_null_count = data_deleted[data_deleted[col].isnull()].shape[0]\n",
    "    dt = str(data_deleted[col].dtype)\n",
    "    if temp_null_count>0 and (dt=='float64' or dt=='int64'):\n",
    "        num_cols.append(col)\n",
    "        temp_perc = round((temp_null_count / total_count) * 100.0, 2)\n",
    "        print('Колонка {}. Тип данных {}. Количество пустых значений {}, {}%.'.format(col, dt, temp_null_count, temp_perc))"
   ]
  },
  {
   "cell_type": "code",
   "execution_count": 9,
   "metadata": {
    "pycharm": {
     "name": "#%%\n"
    }
   },
   "outputs": [
    {
     "data": {
      "text/plain": "       Age  RoomService  FoodCourt\n0     39.0          0.0        0.0\n1     24.0        109.0        9.0\n2     58.0         43.0     3576.0\n3     33.0          0.0     1283.0\n4     16.0        303.0       70.0\n...    ...          ...        ...\n8688  41.0          0.0     6819.0\n8689  18.0          0.0        0.0\n8690  26.0          0.0        0.0\n8691  32.0          0.0     1049.0\n8692  44.0        126.0     4688.0\n\n[8325 rows x 3 columns]",
      "text/html": "<div>\n<style scoped>\n    .dataframe tbody tr th:only-of-type {\n        vertical-align: middle;\n    }\n\n    .dataframe tbody tr th {\n        vertical-align: top;\n    }\n\n    .dataframe thead th {\n        text-align: right;\n    }\n</style>\n<table border=\"1\" class=\"dataframe\">\n  <thead>\n    <tr style=\"text-align: right;\">\n      <th></th>\n      <th>Age</th>\n      <th>RoomService</th>\n      <th>FoodCourt</th>\n    </tr>\n  </thead>\n  <tbody>\n    <tr>\n      <th>0</th>\n      <td>39.0</td>\n      <td>0.0</td>\n      <td>0.0</td>\n    </tr>\n    <tr>\n      <th>1</th>\n      <td>24.0</td>\n      <td>109.0</td>\n      <td>9.0</td>\n    </tr>\n    <tr>\n      <th>2</th>\n      <td>58.0</td>\n      <td>43.0</td>\n      <td>3576.0</td>\n    </tr>\n    <tr>\n      <th>3</th>\n      <td>33.0</td>\n      <td>0.0</td>\n      <td>1283.0</td>\n    </tr>\n    <tr>\n      <th>4</th>\n      <td>16.0</td>\n      <td>303.0</td>\n      <td>70.0</td>\n    </tr>\n    <tr>\n      <th>...</th>\n      <td>...</td>\n      <td>...</td>\n      <td>...</td>\n    </tr>\n    <tr>\n      <th>8688</th>\n      <td>41.0</td>\n      <td>0.0</td>\n      <td>6819.0</td>\n    </tr>\n    <tr>\n      <th>8689</th>\n      <td>18.0</td>\n      <td>0.0</td>\n      <td>0.0</td>\n    </tr>\n    <tr>\n      <th>8690</th>\n      <td>26.0</td>\n      <td>0.0</td>\n      <td>0.0</td>\n    </tr>\n    <tr>\n      <th>8691</th>\n      <td>32.0</td>\n      <td>0.0</td>\n      <td>1049.0</td>\n    </tr>\n    <tr>\n      <th>8692</th>\n      <td>44.0</td>\n      <td>126.0</td>\n      <td>4688.0</td>\n    </tr>\n  </tbody>\n</table>\n<p>8325 rows × 3 columns</p>\n</div>"
     },
     "execution_count": 9,
     "metadata": {},
     "output_type": "execute_result"
    }
   ],
   "source": [
    "data_num = data_deleted[num_cols]\n",
    "data_num"
   ]
  },
  {
   "cell_type": "code",
   "execution_count": 10,
   "metadata": {
    "pycharm": {
     "name": "#%%\n"
    }
   },
   "outputs": [
    {
     "data": {
      "text/plain": "<Figure size 432x288 with 1 Axes>",
      "image/png": "[encoded data removed]"
     },
     "metadata": {},
     "output_type": "display_data"
    },
    {
     "data": {
      "text/plain": "<Figure size 432x288 with 1 Axes>",
      "image/png": "[encoded data removed]"
     },
     "metadata": {},
     "output_type": "display_data"
    },
    {
     "data": {
      "text/plain": "<Figure size 432x288 with 1 Axes>",
      "image/png": "[encoded data removed]"
     },
     "metadata": {},
     "output_type": "display_data"
    }
   ],
   "source": [
    "for col in data_num:\n",
    "    plt.hist(data_deleted[col], 50)\n",
    "    plt.xlabel(col)\n",
    "    plt.show()"
   ]
  },
  {
   "cell_type": "code",
   "execution_count": 11,
   "metadata": {
    "pycharm": {
     "name": "#%%\n"
    }
   },
   "outputs": [
    {
     "data": {
      "text/plain": "    Age\n0  39.0\n1  24.0\n2  58.0\n3  33.0\n4  16.0",
      "text/html": "<div>\n<style scoped>\n    .dataframe tbody tr th:only-of-type {\n        vertical-align: middle;\n    }\n\n    .dataframe tbody tr th {\n        vertical-align: top;\n    }\n\n    .dataframe thead th {\n        text-align: right;\n    }\n</style>\n<table border=\"1\" class=\"dataframe\">\n  <thead>\n    <tr style=\"text-align: right;\">\n      <th></th>\n      <th>Age</th>\n    </tr>\n  </thead>\n  <tbody>\n    <tr>\n      <th>0</th>\n      <td>39.0</td>\n    </tr>\n    <tr>\n      <th>1</th>\n      <td>24.0</td>\n    </tr>\n    <tr>\n      <th>2</th>\n      <td>58.0</td>\n    </tr>\n    <tr>\n      <th>3</th>\n      <td>33.0</td>\n    </tr>\n    <tr>\n      <th>4</th>\n      <td>16.0</td>\n    </tr>\n  </tbody>\n</table>\n</div>"
     },
     "execution_count": 11,
     "metadata": {},
     "output_type": "execute_result"
    }
   ],
   "source": [
    "data_age = data_num[['Age']]\n",
    "data_age.head()"
   ]
  },
  {
   "cell_type": "code",
   "execution_count": 12,
   "metadata": {
    "pycharm": {
     "name": "#%%\n"
    }
   },
   "outputs": [
    {
     "data": {
      "text/plain": "array([[False],\n       [False],\n       [False],\n       ...,\n       [False],\n       [False],\n       [False]])"
     },
     "execution_count": 12,
     "metadata": {},
     "output_type": "execute_result"
    }
   ],
   "source": [
    "# Фильтр для проверки заполнения пустых значений\n",
    "indicator = MissingIndicator()\n",
    "mask_missing_values_only = indicator.fit_transform(data_age)\n",
    "mask_missing_values_only"
   ]
  },
  {
   "cell_type": "code",
   "execution_count": 13,
   "outputs": [],
   "source": [
    "# Функция для заполнения пропусков с выбором колонки и стратегии\n",
    "def impute_num_dataframe(df, col_name, strategy_name) -> pd.DataFrame:\n",
    "    temp_data = df.copy()\n",
    "    imp = SimpleImputer(strategy=strategy_name)\n",
    "    data_imputed = imp.fit_transform(temp_data[[col_name]])\n",
    "    temp_data[[col_name]] = data_imputed\n",
    "    return temp_data"
   ],
   "metadata": {
    "collapsed": false,
    "pycharm": {
     "name": "#%%\n"
    }
   }
  },
  {
   "cell_type": "code",
   "execution_count": 14,
   "outputs": [],
   "source": [
    "# Заполним пропуски в колонке Age с применением различных стратегий\n",
    "data_age_imp_mean = impute_num_dataframe(data_deleted, 'Age', 'mean')\n",
    "data_age_imp_median = impute_num_dataframe(data_deleted, 'Age', 'median')\n",
    "data_age_imp_moda = impute_num_dataframe(data_deleted, 'Age', 'most_frequent')"
   ],
   "metadata": {
    "collapsed": false,
    "pycharm": {
     "name": "#%%\n"
    }
   }
  },
  {
   "cell_type": "code",
   "execution_count": 15,
   "outputs": [
    {
     "data": {
      "text/plain": "            Age   Age   Age\n50    28.822151  27.0  24.0\n64    28.822151  27.0  24.0\n137   28.822151  27.0  24.0\n181   28.822151  27.0  24.0\n184   28.822151  27.0  24.0\n...         ...   ...   ...\n8274  28.822151  27.0  24.0\n8301  28.822151  27.0  24.0\n8374  28.822151  27.0  24.0\n8407  28.822151  27.0  24.0\n8557  28.822151  27.0  24.0\n\n[172 rows x 3 columns]",
      "text/html": "<div>\n<style scoped>\n    .dataframe tbody tr th:only-of-type {\n        vertical-align: middle;\n    }\n\n    .dataframe tbody tr th {\n        vertical-align: top;\n    }\n\n    .dataframe thead th {\n        text-align: right;\n    }\n</style>\n<table border=\"1\" class=\"dataframe\">\n  <thead>\n    <tr style=\"text-align: right;\">\n      <th></th>\n      <th>Age</th>\n      <th>Age</th>\n      <th>Age</th>\n    </tr>\n  </thead>\n  <tbody>\n    <tr>\n      <th>50</th>\n      <td>28.822151</td>\n      <td>27.0</td>\n      <td>24.0</td>\n    </tr>\n    <tr>\n      <th>64</th>\n      <td>28.822151</td>\n      <td>27.0</td>\n      <td>24.0</td>\n    </tr>\n    <tr>\n      <th>137</th>\n      <td>28.822151</td>\n      <td>27.0</td>\n      <td>24.0</td>\n    </tr>\n    <tr>\n      <th>181</th>\n      <td>28.822151</td>\n      <td>27.0</td>\n      <td>24.0</td>\n    </tr>\n    <tr>\n      <th>184</th>\n      <td>28.822151</td>\n      <td>27.0</td>\n      <td>24.0</td>\n    </tr>\n    <tr>\n      <th>...</th>\n      <td>...</td>\n      <td>...</td>\n      <td>...</td>\n    </tr>\n    <tr>\n      <th>8274</th>\n      <td>28.822151</td>\n      <td>27.0</td>\n      <td>24.0</td>\n    </tr>\n    <tr>\n      <th>8301</th>\n      <td>28.822151</td>\n      <td>27.0</td>\n      <td>24.0</td>\n    </tr>\n    <tr>\n      <th>8374</th>\n      <td>28.822151</td>\n      <td>27.0</td>\n      <td>24.0</td>\n    </tr>\n    <tr>\n      <th>8407</th>\n      <td>28.822151</td>\n      <td>27.0</td>\n      <td>24.0</td>\n    </tr>\n    <tr>\n      <th>8557</th>\n      <td>28.822151</td>\n      <td>27.0</td>\n      <td>24.0</td>\n    </tr>\n  </tbody>\n</table>\n<p>172 rows × 3 columns</p>\n</div>"
     },
     "execution_count": 15,
     "metadata": {},
     "output_type": "execute_result"
    }
   ],
   "source": [
    "# Посмотрим, какими значениями заполнились пропуски\n",
    "pd.concat([data_age_imp_mean[mask_missing_values_only]['Age'],\n",
    "           data_age_imp_median[mask_missing_values_only]['Age'],\n",
    "           data_age_imp_moda[mask_missing_values_only]['Age']], axis=1)"
   ],
   "metadata": {
    "collapsed": false,
    "pycharm": {
     "name": "#%%\n"
    }
   }
  },
  {
   "cell_type": "code",
   "execution_count": 16,
   "outputs": [
    {
     "data": {
      "text/plain": "(array([306., 175.,  87., 121., 221., 284., 599., 834., 549., 984., 507.,\n        592., 505., 335., 462., 347., 229., 258., 220., 105., 189.,  88.,\n        113.,  81.,  50.,  32.,  22.,  11.,  11.,   8.]),\n array([ 0.        ,  2.63333333,  5.26666667,  7.9       , 10.53333333,\n        13.16666667, 15.8       , 18.43333333, 21.06666667, 23.7       ,\n        26.33333333, 28.96666667, 31.6       , 34.23333333, 36.86666667,\n        39.5       , 42.13333333, 44.76666667, 47.4       , 50.03333333,\n        52.66666667, 55.3       , 57.93333333, 60.56666667, 63.2       ,\n        65.83333333, 68.46666667, 71.1       , 73.73333333, 76.36666667,\n        79.        ]),\n <BarContainer object of 30 artists>)"
     },
     "execution_count": 16,
     "metadata": {},
     "output_type": "execute_result"
    },
    {
     "data": {
      "text/plain": "<Figure size 2160x360 with 4 Axes>",
      "image/png": "[encoded data removed]"
     },
     "metadata": {},
     "output_type": "display_data"
    }
   ],
   "source": [
    "# Сравним полученные гистограммы\n",
    "fig, (ax1, ax2, ax3, ax4) = plt.subplots(1, 4, figsize=(30,5))\n",
    "ax1.hist(data_deleted['Age'], bins=30)\n",
    "ax2.hist(data_age_imp_mean['Age'], bins=30)\n",
    "ax3.hist(data_age_imp_median['Age'], bins=30)\n",
    "ax4.hist(data_age_imp_moda['Age'], bins=30)\n"
   ],
   "metadata": {
    "collapsed": false,
    "pycharm": {
     "name": "#%%\n"
    }
   }
  },
  {
   "cell_type": "code",
   "execution_count": 17,
   "outputs": [],
   "source": [
    "# Заполним пропуски в колонках RoomService и FoodCourt\n",
    "data_food_imp = impute_num_dataframe(data_deleted, 'FoodCourt', 'most_frequent')\n",
    "data_room_imp = impute_num_dataframe(data_deleted, 'RoomService', 'most_frequent')"
   ],
   "metadata": {
    "collapsed": false,
    "pycharm": {
     "name": "#%%\n"
    }
   }
  },
  {
   "cell_type": "code",
   "execution_count": 18,
   "outputs": [
    {
     "data": {
      "text/plain": "HomePlanet     196\nCryoSleep      206\nDestination      0\nAge              0\nVIP            198\nRoomService      0\nFoodCourt        0\nVRDeck           0\nTransported      0\ndtype: int64"
     },
     "execution_count": 18,
     "metadata": {},
     "output_type": "execute_result"
    }
   ],
   "source": [
    "data_num_imputed = data_deleted.copy()\n",
    "data_num_imputed['Age'] = data_age_imp_median['Age']\n",
    "data_num_imputed['FoodCourt'] = data_food_imp['FoodCourt']\n",
    "data_num_imputed['RoomService'] = data_room_imp['RoomService']\n",
    "data_num_imputed.isnull().sum()"
   ],
   "metadata": {
    "collapsed": false,
    "pycharm": {
     "name": "#%%\n"
    }
   }
  },
  {
   "cell_type": "markdown",
   "source": [
    "### Обработка пропусков в категориальных данных"
   ],
   "metadata": {
    "collapsed": false
   }
  },
  {
   "cell_type": "code",
   "execution_count": 19,
   "outputs": [
    {
     "name": "stdout",
     "output_type": "stream",
     "text": [
      "Колонка HomePlanet. Тип данных object. Количество пустых значений 196, 2.35%.\n",
      "Колонка CryoSleep. Тип данных object. Количество пустых значений 206, 2.47%.\n",
      "Колонка VIP. Тип данных object. Количество пустых значений 198, 2.38%.\n"
     ]
    }
   ],
   "source": [
    "# Выберем категориальные колонки с пропущенными значениями\n",
    "# Цикл по колонкам датасета\n",
    "cat_cols = []\n",
    "for col in data_num_imputed.columns:\n",
    "    # Количество пустых значений\n",
    "    temp_null_count = data_num_imputed[data_num_imputed[col].isnull()].shape[0]\n",
    "    dt = str(data_num_imputed[col].dtype)\n",
    "    if temp_null_count>0 and (dt=='object'):\n",
    "        cat_cols.append(col)\n",
    "        temp_perc = round((temp_null_count / total_count) * 100.0, 2)\n",
    "        print('Колонка {}. Тип данных {}. Количество пустых значений {}, {}%.'.format(col, dt, temp_null_count, temp_perc))"
   ],
   "metadata": {
    "collapsed": false,
    "pycharm": {
     "name": "#%%\n"
    }
   }
  },
  {
   "cell_type": "code",
   "execution_count": 20,
   "outputs": [
    {
     "data": {
      "text/plain": "(array(['Europa', 'Earth', 'Mars', nan], dtype=object),\n array([False, True, nan], dtype=object),\n array([False, True, nan], dtype=object))"
     },
     "execution_count": 20,
     "metadata": {},
     "output_type": "execute_result"
    }
   ],
   "source": [
    "# Найдем уникальные значения\n",
    "data_num_imputed['HomePlanet'].unique(), data_num_imputed['CryoSleep'].unique(), data_num_imputed['VIP'].unique()"
   ],
   "metadata": {
    "collapsed": false,
    "pycharm": {
     "name": "#%%\n"
    }
   }
  },
  {
   "cell_type": "code",
   "execution_count": 21,
   "outputs": [
    {
     "data": {
      "text/plain": "(array(['Earth', 'Europa', 'Mars'], dtype=object),\n array([False, True], dtype=object),\n array([False, True], dtype=object))"
     },
     "execution_count": 21,
     "metadata": {},
     "output_type": "execute_result"
    }
   ],
   "source": [
    "# Создадим SimpleImputer со стратегией most frequent\n",
    "cat_imp = SimpleImputer(missing_values=np.nan, strategy='most_frequent')\n",
    "data_planet_imp: np.ndarray = cat_imp.fit_transform(data_num_imputed[['HomePlanet']])\n",
    "data_sleep_imp: np.ndarray = cat_imp.fit_transform(data_num_imputed[['CryoSleep']])\n",
    "data_vip_imp: np.ndarray = cat_imp.fit_transform(data_num_imputed[['VIP']])\n",
    "np.unique(data_planet_imp), np.unique(data_sleep_imp), np.unique(data_vip_imp)"
   ],
   "metadata": {
    "collapsed": false,
    "pycharm": {
     "name": "#%%\n"
    }
   }
  },
  {
   "cell_type": "code",
   "execution_count": 22,
   "outputs": [],
   "source": [
    "data_imputed: pd.DataFrame = data_num_imputed.copy()\n",
    "data_imputed['HomePlanet'] = data_planet_imp\n",
    "data_imputed['CryoSleep'] = data_sleep_imp\n",
    "data_imputed['VIP'] = data_vip_imp"
   ],
   "metadata": {
    "collapsed": false,
    "pycharm": {
     "name": "#%%\n"
    }
   }
  },
  {
   "cell_type": "markdown",
   "source": [
    "## Кодирование категориальных признаков"
   ],
   "metadata": {
    "collapsed": false
   }
  },
  {
   "cell_type": "markdown",
   "source": [
    "## Кодирование нецелевых признаков\n",
    "Для кодирования нецелых признаков воспользуемся OrdinalEncoder"
   ],
   "metadata": {
    "collapsed": false
   }
  },
  {
   "cell_type": "code",
   "execution_count": 23,
   "outputs": [
    {
     "data": {
      "text/plain": "   HomePlanet  CryoSleep  VIP  Destination\n0         1.0        0.0  0.0          2.0\n1         0.0        0.0  0.0          2.0\n2         1.0        0.0  1.0          2.0\n3         1.0        0.0  0.0          2.0\n4         0.0        0.0  0.0          2.0",
      "text/html": "<div>\n<style scoped>\n    .dataframe tbody tr th:only-of-type {\n        vertical-align: middle;\n    }\n\n    .dataframe tbody tr th {\n        vertical-align: top;\n    }\n\n    .dataframe thead th {\n        text-align: right;\n    }\n</style>\n<table border=\"1\" class=\"dataframe\">\n  <thead>\n    <tr style=\"text-align: right;\">\n      <th></th>\n      <th>HomePlanet</th>\n      <th>CryoSleep</th>\n      <th>VIP</th>\n      <th>Destination</th>\n    </tr>\n  </thead>\n  <tbody>\n    <tr>\n      <th>0</th>\n      <td>1.0</td>\n      <td>0.0</td>\n      <td>0.0</td>\n      <td>2.0</td>\n    </tr>\n    <tr>\n      <th>1</th>\n      <td>0.0</td>\n      <td>0.0</td>\n      <td>0.0</td>\n      <td>2.0</td>\n    </tr>\n    <tr>\n      <th>2</th>\n      <td>1.0</td>\n      <td>0.0</td>\n      <td>1.0</td>\n      <td>2.0</td>\n    </tr>\n    <tr>\n      <th>3</th>\n      <td>1.0</td>\n      <td>0.0</td>\n      <td>0.0</td>\n      <td>2.0</td>\n    </tr>\n    <tr>\n      <th>4</th>\n      <td>0.0</td>\n      <td>0.0</td>\n      <td>0.0</td>\n      <td>2.0</td>\n    </tr>\n  </tbody>\n</table>\n</div>"
     },
     "execution_count": 23,
     "metadata": {},
     "output_type": "execute_result"
    }
   ],
   "source": [
    "data_oe = data_imputed[['HomePlanet', 'CryoSleep', 'VIP', 'Destination']]\n",
    "oe = OrdinalEncoder()\n",
    "data_oe_coded = oe.fit_transform(data_oe)\n",
    "data_oe_coded = pd.DataFrame(data_oe_coded, columns=oe.feature_names_in_)\n",
    "data_oe_coded.head()"
   ],
   "metadata": {
    "collapsed": false,
    "pycharm": {
     "name": "#%%\n"
    }
   }
  },
  {
   "cell_type": "markdown",
   "source": [
    "Целевой признак Transported закодируем при помощи LabelEncoding"
   ],
   "metadata": {
    "collapsed": false
   }
  },
  {
   "cell_type": "code",
   "execution_count": 24,
   "outputs": [],
   "source": [
    "data_le = data_imputed['Transported']\n",
    "le = LabelEncoder()\n",
    "data_le_coded = le.fit_transform(data_le)\n",
    "data_le_coded = pd.DataFrame(data_le_coded, columns=['Transported'])"
   ],
   "metadata": {
    "collapsed": false,
    "pycharm": {
     "name": "#%%\n"
    }
   }
  },
  {
   "cell_type": "code",
   "execution_count": 25,
   "outputs": [
    {
     "data": {
      "text/plain": "    Age  RoomService  FoodCourt  VRDeck  HomePlanet  CryoSleep  VIP  \\\n0  39.0          0.0        0.0     0.0         1.0        0.0  0.0   \n1  24.0        109.0        9.0    44.0         0.0        0.0  0.0   \n2  58.0         43.0     3576.0    49.0         1.0        0.0  1.0   \n3  33.0          0.0     1283.0   193.0         1.0        0.0  0.0   \n4  16.0        303.0       70.0     2.0         0.0        0.0  0.0   \n\n   Destination  Transported  \n0          2.0            0  \n1          2.0            1  \n2          2.0            0  \n3          2.0            0  \n4          2.0            1  ",
      "text/html": "<div>\n<style scoped>\n    .dataframe tbody tr th:only-of-type {\n        vertical-align: middle;\n    }\n\n    .dataframe tbody tr th {\n        vertical-align: top;\n    }\n\n    .dataframe thead th {\n        text-align: right;\n    }\n</style>\n<table border=\"1\" class=\"dataframe\">\n  <thead>\n    <tr style=\"text-align: right;\">\n      <th></th>\n      <th>Age</th>\n      <th>RoomService</th>\n      <th>FoodCourt</th>\n      <th>VRDeck</th>\n      <th>HomePlanet</th>\n      <th>CryoSleep</th>\n      <th>VIP</th>\n      <th>Destination</th>\n      <th>Transported</th>\n    </tr>\n  </thead>\n  <tbody>\n    <tr>\n      <th>0</th>\n      <td>39.0</td>\n      <td>0.0</td>\n      <td>0.0</td>\n      <td>0.0</td>\n      <td>1.0</td>\n      <td>0.0</td>\n      <td>0.0</td>\n      <td>2.0</td>\n      <td>0</td>\n    </tr>\n    <tr>\n      <th>1</th>\n      <td>24.0</td>\n      <td>109.0</td>\n      <td>9.0</td>\n      <td>44.0</td>\n      <td>0.0</td>\n      <td>0.0</td>\n      <td>0.0</td>\n      <td>2.0</td>\n      <td>1</td>\n    </tr>\n    <tr>\n      <th>2</th>\n      <td>58.0</td>\n      <td>43.0</td>\n      <td>3576.0</td>\n      <td>49.0</td>\n      <td>1.0</td>\n      <td>0.0</td>\n      <td>1.0</td>\n      <td>2.0</td>\n      <td>0</td>\n    </tr>\n    <tr>\n      <th>3</th>\n      <td>33.0</td>\n      <td>0.0</td>\n      <td>1283.0</td>\n      <td>193.0</td>\n      <td>1.0</td>\n      <td>0.0</td>\n      <td>0.0</td>\n      <td>2.0</td>\n      <td>0</td>\n    </tr>\n    <tr>\n      <th>4</th>\n      <td>16.0</td>\n      <td>303.0</td>\n      <td>70.0</td>\n      <td>2.0</td>\n      <td>0.0</td>\n      <td>0.0</td>\n      <td>0.0</td>\n      <td>2.0</td>\n      <td>1</td>\n    </tr>\n  </tbody>\n</table>\n</div>"
     },
     "execution_count": 25,
     "metadata": {},
     "output_type": "execute_result"
    }
   ],
   "source": [
    "data_proc: pd.DataFrame = data_imputed.copy()\n",
    "data_proc = data_proc.drop(columns=['HomePlanet', 'CryoSleep', 'VIP', 'Destination', 'Transported'])\n",
    "data_proc = pd.concat([data_proc.reset_index(drop=True), data_oe_coded, data_le_coded], axis=1)\n",
    "data_proc.head()"
   ],
   "metadata": {
    "collapsed": false,
    "pycharm": {
     "name": "#%%\n"
    }
   }
  },
  {
   "cell_type": "markdown",
   "source": [
    "Изменим типы колонок HomePlanet, CryoSleep, Age, Vip и Transported на int64"
   ],
   "metadata": {
    "collapsed": false
   }
  },
  {
   "cell_type": "code",
   "execution_count": 26,
   "outputs": [
    {
     "data": {
      "text/plain": "   Age  RoomService  FoodCourt  VRDeck  HomePlanet  CryoSleep  VIP  \\\n0   39          0.0        0.0     0.0           1          0    0   \n1   24        109.0        9.0    44.0           0          0    0   \n2   58         43.0     3576.0    49.0           1          0    1   \n3   33          0.0     1283.0   193.0           1          0    0   \n4   16        303.0       70.0     2.0           0          0    0   \n\n   Destination  Transported  \n0            2            0  \n1            2            1  \n2            2            0  \n3            2            0  \n4            2            1  ",
      "text/html": "<div>\n<style scoped>\n    .dataframe tbody tr th:only-of-type {\n        vertical-align: middle;\n    }\n\n    .dataframe tbody tr th {\n        vertical-align: top;\n    }\n\n    .dataframe thead th {\n        text-align: right;\n    }\n</style>\n<table border=\"1\" class=\"dataframe\">\n  <thead>\n    <tr style=\"text-align: right;\">\n      <th></th>\n      <th>Age</th>\n      <th>RoomService</th>\n      <th>FoodCourt</th>\n      <th>VRDeck</th>\n      <th>HomePlanet</th>\n      <th>CryoSleep</th>\n      <th>VIP</th>\n      <th>Destination</th>\n      <th>Transported</th>\n    </tr>\n  </thead>\n  <tbody>\n    <tr>\n      <th>0</th>\n      <td>39</td>\n      <td>0.0</td>\n      <td>0.0</td>\n      <td>0.0</td>\n      <td>1</td>\n      <td>0</td>\n      <td>0</td>\n      <td>2</td>\n      <td>0</td>\n    </tr>\n    <tr>\n      <th>1</th>\n      <td>24</td>\n      <td>109.0</td>\n      <td>9.0</td>\n      <td>44.0</td>\n      <td>0</td>\n      <td>0</td>\n      <td>0</td>\n      <td>2</td>\n      <td>1</td>\n    </tr>\n    <tr>\n      <th>2</th>\n      <td>58</td>\n      <td>43.0</td>\n      <td>3576.0</td>\n      <td>49.0</td>\n      <td>1</td>\n      <td>0</td>\n      <td>1</td>\n      <td>2</td>\n      <td>0</td>\n    </tr>\n    <tr>\n      <th>3</th>\n      <td>33</td>\n      <td>0.0</td>\n      <td>1283.0</td>\n      <td>193.0</td>\n      <td>1</td>\n      <td>0</td>\n      <td>0</td>\n      <td>2</td>\n      <td>0</td>\n    </tr>\n    <tr>\n      <th>4</th>\n      <td>16</td>\n      <td>303.0</td>\n      <td>70.0</td>\n      <td>2.0</td>\n      <td>0</td>\n      <td>0</td>\n      <td>0</td>\n      <td>2</td>\n      <td>1</td>\n    </tr>\n  </tbody>\n</table>\n</div>"
     },
     "execution_count": 26,
     "metadata": {},
     "output_type": "execute_result"
    }
   ],
   "source": [
    "data_proc = data_proc.astype({'HomePlanet': 'int64',\n",
    "                  'CryoSleep': 'int64',\n",
    "                  'Age': 'int64',\n",
    "                  'VIP': 'int64',\n",
    "                  'Destination': 'int64',\n",
    "                  'Transported': 'int64'})\n",
    "data_proc.head()"
   ],
   "metadata": {
    "collapsed": false,
    "pycharm": {
     "name": "#%%\n"
    }
   }
  },
  {
   "cell_type": "markdown",
   "source": [
    "## Масштабирование данных"
   ],
   "metadata": {
    "collapsed": false
   }
  },
  {
   "cell_type": "code",
   "execution_count": 27,
   "outputs": [],
   "source": [
    "sc1 = MinMaxScaler()\n",
    "sc2 = StandardScaler()\n",
    "data_min_max_sc = sc1.fit_transform(data_proc[['Age']])\n",
    "data_standard_sc = sc2.fit_transform(data_proc[['Age']])"
   ],
   "metadata": {
    "collapsed": false,
    "pycharm": {
     "name": "#%%\n"
    }
   }
  },
  {
   "cell_type": "code",
   "execution_count": 28,
   "outputs": [
    {
     "data": {
      "text/plain": "<AxesSubplot:ylabel='Count'>"
     },
     "execution_count": 28,
     "metadata": {},
     "output_type": "execute_result"
    },
    {
     "data": {
      "text/plain": "<Figure size 1944x360 with 3 Axes>",
      "image/png": "[encoded data removed]"
     },
     "metadata": {},
     "output_type": "display_data"
    }
   ],
   "source": [
    "fig, ax = plt.subplots(1, 3, sharey='row', figsize=(27, 5))\n",
    "sns.histplot(data_proc[['Age']], ax=ax[0], legend=False)\n",
    "sns.histplot(data_min_max_sc, ax=ax[1], legend=False)\n",
    "sns.histplot(data_standard_sc, ax=ax[2], legend=False)"
   ],
   "metadata": {
    "collapsed": false,
    "pycharm": {
     "name": "#%%\n"
    }
   }
  }
 ],
 "metadata": {
  "kernelspec": {
   "display_name": "Python 3 (ipykernel)",
   "language": "python",
   "name": "python3"
  },
  "language_info": {
   "codemirror_mode": {
    "name": "ipython",
    "version": 3
   },
   "file_extension": ".py",
   "mimetype": "text/x-python",
   "name": "python",
   "nbconvert_exporter": "python",
   "pygments_lexer": "ipython3",
   "version": "3.9.7"
  }
 },
 "nbformat": 4,
 "nbformat_minor": 1
}