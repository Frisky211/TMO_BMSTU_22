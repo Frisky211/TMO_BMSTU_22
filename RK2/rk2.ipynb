{
 "cells": [
  {
   "cell_type": "markdown",
   "metadata": {},
   "source": [
    "# Рубежный контроль №2\n",
    "## Методы построения моделей машинного обучения. Вариант 12\n",
    "## Выполнил Плешаков Владислав, РТ5-61Б\n",
    "\n",
    "Задача: Для заданного набора данных (по Вашему варианту) постройте модели классификации или регрессии (в зависимости от конкретной задачи, рассматриваемой в наборе данных). Для построения моделей используйте методы 1 и 2 (по варианту для Вашей группы). Оцените качество моделей на основе подходящих метрик качества (не менее двух метрик). Какие метрики качества Вы использовали и почему? Какие выводы Вы можете сделать о качестве построенных моделей? Для построения моделей необходимо выполнить требуемую предобработку данных: заполнение пропусков, кодирование категориальных признаков, и т.д.\n",
    "\n",
    "Датасет: https://www.kaggle.com/datasets/fivethirtyeight/fivethirtyeight-comic-characters-dataset?select=dc-wikia-data.csv"
   ]
  },
  {
   "cell_type": "code",
   "execution_count": 1,
   "metadata": {
    "collapsed": true
   },
   "outputs": [],
   "source": [
    "import pandas as pd\n",
    "import matplotlib.pyplot as plt\n",
    "from sklearn.metrics import ConfusionMatrixDisplay, accuracy_score\n",
    "from sklearn.tree import DecisionTreeClassifier\n",
    "from sklearn.impute import SimpleImputer\n",
    "from sklearn.preprocessing import LabelEncoder, OrdinalEncoder\n",
    "import xgboost as xgb\n",
    "import graphviz\n",
    "from sklearn.tree import export_graphviz\n",
    "from sklearn.model_selection import train_test_split, GridSearchCV, StratifiedKFold"
   ]
  },
  {
   "cell_type": "code",
   "execution_count": 2,
   "metadata": {
    "pycharm": {
     "name": "#%%\n"
    }
   },
   "outputs": [
    {
     "data": {
      "text/html": [
       "<div>\n",
       "<style scoped>\n",
       "    .dataframe tbody tr th:only-of-type {\n",
       "        vertical-align: middle;\n",
       "    }\n",
       "\n",
       "    .dataframe tbody tr th {\n",
       "        vertical-align: top;\n",
       "    }\n",
       "\n",
       "    .dataframe thead th {\n",
       "        text-align: right;\n",
       "    }\n",
       "</style>\n",
       "<table border=\"1\" class=\"dataframe\">\n",
       "  <thead>\n",
       "    <tr style=\"text-align: right;\">\n",
       "      <th></th>\n",
       "      <th>page_id</th>\n",
       "      <th>name</th>\n",
       "      <th>urlslug</th>\n",
       "      <th>ID</th>\n",
       "      <th>ALIGN</th>\n",
       "      <th>EYE</th>\n",
       "      <th>HAIR</th>\n",
       "      <th>SEX</th>\n",
       "      <th>GSM</th>\n",
       "      <th>ALIVE</th>\n",
       "      <th>APPEARANCES</th>\n",
       "      <th>FIRST APPEARANCE</th>\n",
       "      <th>YEAR</th>\n",
       "    </tr>\n",
       "  </thead>\n",
       "  <tbody>\n",
       "    <tr>\n",
       "      <th>0</th>\n",
       "      <td>1422</td>\n",
       "      <td>Batman (Bruce Wayne)</td>\n",
       "      <td>\\/wiki\\/Batman_(Bruce_Wayne)</td>\n",
       "      <td>Secret Identity</td>\n",
       "      <td>Good Characters</td>\n",
       "      <td>Blue Eyes</td>\n",
       "      <td>Black Hair</td>\n",
       "      <td>Male Characters</td>\n",
       "      <td>NaN</td>\n",
       "      <td>Living Characters</td>\n",
       "      <td>3093.0</td>\n",
       "      <td>1939, May</td>\n",
       "      <td>1939.0</td>\n",
       "    </tr>\n",
       "    <tr>\n",
       "      <th>1</th>\n",
       "      <td>23387</td>\n",
       "      <td>Superman (Clark Kent)</td>\n",
       "      <td>\\/wiki\\/Superman_(Clark_Kent)</td>\n",
       "      <td>Secret Identity</td>\n",
       "      <td>Good Characters</td>\n",
       "      <td>Blue Eyes</td>\n",
       "      <td>Black Hair</td>\n",
       "      <td>Male Characters</td>\n",
       "      <td>NaN</td>\n",
       "      <td>Living Characters</td>\n",
       "      <td>2496.0</td>\n",
       "      <td>1986, October</td>\n",
       "      <td>1986.0</td>\n",
       "    </tr>\n",
       "    <tr>\n",
       "      <th>2</th>\n",
       "      <td>1458</td>\n",
       "      <td>Green Lantern (Hal Jordan)</td>\n",
       "      <td>\\/wiki\\/Green_Lantern_(Hal_Jordan)</td>\n",
       "      <td>Secret Identity</td>\n",
       "      <td>Good Characters</td>\n",
       "      <td>Brown Eyes</td>\n",
       "      <td>Brown Hair</td>\n",
       "      <td>Male Characters</td>\n",
       "      <td>NaN</td>\n",
       "      <td>Living Characters</td>\n",
       "      <td>1565.0</td>\n",
       "      <td>1959, October</td>\n",
       "      <td>1959.0</td>\n",
       "    </tr>\n",
       "    <tr>\n",
       "      <th>3</th>\n",
       "      <td>1659</td>\n",
       "      <td>James Gordon (New Earth)</td>\n",
       "      <td>\\/wiki\\/James_Gordon_(New_Earth)</td>\n",
       "      <td>Public Identity</td>\n",
       "      <td>Good Characters</td>\n",
       "      <td>Brown Eyes</td>\n",
       "      <td>White Hair</td>\n",
       "      <td>Male Characters</td>\n",
       "      <td>NaN</td>\n",
       "      <td>Living Characters</td>\n",
       "      <td>1316.0</td>\n",
       "      <td>1987, February</td>\n",
       "      <td>1987.0</td>\n",
       "    </tr>\n",
       "    <tr>\n",
       "      <th>4</th>\n",
       "      <td>1576</td>\n",
       "      <td>Richard Grayson (New Earth)</td>\n",
       "      <td>\\/wiki\\/Richard_Grayson_(New_Earth)</td>\n",
       "      <td>Secret Identity</td>\n",
       "      <td>Good Characters</td>\n",
       "      <td>Blue Eyes</td>\n",
       "      <td>Black Hair</td>\n",
       "      <td>Male Characters</td>\n",
       "      <td>NaN</td>\n",
       "      <td>Living Characters</td>\n",
       "      <td>1237.0</td>\n",
       "      <td>1940, April</td>\n",
       "      <td>1940.0</td>\n",
       "    </tr>\n",
       "  </tbody>\n",
       "</table>\n",
       "</div>"
      ],
      "text/plain": [
       "   page_id                         name                              urlslug  \\\n",
       "0     1422         Batman (Bruce Wayne)         \\/wiki\\/Batman_(Bruce_Wayne)   \n",
       "1    23387        Superman (Clark Kent)        \\/wiki\\/Superman_(Clark_Kent)   \n",
       "2     1458   Green Lantern (Hal Jordan)   \\/wiki\\/Green_Lantern_(Hal_Jordan)   \n",
       "3     1659     James Gordon (New Earth)     \\/wiki\\/James_Gordon_(New_Earth)   \n",
       "4     1576  Richard Grayson (New Earth)  \\/wiki\\/Richard_Grayson_(New_Earth)   \n",
       "\n",
       "                ID            ALIGN         EYE        HAIR              SEX  \\\n",
       "0  Secret Identity  Good Characters   Blue Eyes  Black Hair  Male Characters   \n",
       "1  Secret Identity  Good Characters   Blue Eyes  Black Hair  Male Characters   \n",
       "2  Secret Identity  Good Characters  Brown Eyes  Brown Hair  Male Characters   \n",
       "3  Public Identity  Good Characters  Brown Eyes  White Hair  Male Characters   \n",
       "4  Secret Identity  Good Characters   Blue Eyes  Black Hair  Male Characters   \n",
       "\n",
       "   GSM              ALIVE  APPEARANCES FIRST APPEARANCE    YEAR  \n",
       "0  NaN  Living Characters       3093.0        1939, May  1939.0  \n",
       "1  NaN  Living Characters       2496.0    1986, October  1986.0  \n",
       "2  NaN  Living Characters       1565.0    1959, October  1959.0  \n",
       "3  NaN  Living Characters       1316.0   1987, February  1987.0  \n",
       "4  NaN  Living Characters       1237.0      1940, April  1940.0  "
      ]
     },
     "execution_count": 2,
     "metadata": {},
     "output_type": "execute_result"
    }
   ],
   "source": [
    "data = pd.read_csv('data/dc-wikia-data.csv', sep=',')\n",
    "data.head()"
   ]
  },
  {
   "cell_type": "code",
   "execution_count": 3,
   "metadata": {
    "pycharm": {
     "name": "#%%\n"
    }
   },
   "outputs": [],
   "source": [
    "# Удаление ненужных колонок\n",
    "data.drop(columns=['page_id', 'name', 'urlslug'], inplace=True)"
   ]
  },
  {
   "cell_type": "code",
   "execution_count": 4,
   "metadata": {
    "pycharm": {
     "name": "#%%\n"
    }
   },
   "outputs": [
    {
     "data": {
      "text/plain": [
       "ID                   object\n",
       "ALIGN                object\n",
       "EYE                  object\n",
       "HAIR                 object\n",
       "SEX                  object\n",
       "GSM                  object\n",
       "ALIVE                object\n",
       "APPEARANCES         float64\n",
       "FIRST APPEARANCE     object\n",
       "YEAR                float64\n",
       "dtype: object"
      ]
     },
     "execution_count": 4,
     "metadata": {},
     "output_type": "execute_result"
    }
   ],
   "source": [
    "data.dtypes"
   ]
  },
  {
   "cell_type": "markdown",
   "metadata": {},
   "source": [
    "Посмотрим сколько значений пропущено"
   ]
  },
  {
   "cell_type": "code",
   "execution_count": 5,
   "metadata": {
    "pycharm": {
     "name": "#%%\n"
    }
   },
   "outputs": [
    {
     "name": "stdout",
     "output_type": "stream",
     "text": [
      "Колонка ID. Тип данных object. Количество пустых значений 2013, 29.19%.\n",
      "Колонка ALIGN. Тип данных object. Количество пустых значений 601, 8.72%.\n",
      "Колонка EYE. Тип данных object. Количество пустых значений 3628, 52.61%.\n",
      "Колонка HAIR. Тип данных object. Количество пустых значений 2274, 32.98%.\n",
      "Колонка SEX. Тип данных object. Количество пустых значений 125, 1.81%.\n",
      "Колонка GSM. Тип данных object. Количество пустых значений 6832, 99.07%.\n",
      "Колонка ALIVE. Тип данных object. Количество пустых значений 3, 0.04%.\n",
      "Колонка APPEARANCES. Тип данных float64. Количество пустых значений 355, 5.15%.\n",
      "Колонка FIRST APPEARANCE. Тип данных object. Количество пустых значений 69, 1.0%.\n",
      "Колонка YEAR. Тип данных float64. Количество пустых значений 69, 1.0%.\n"
     ]
    }
   ],
   "source": [
    "for col in data.columns:\n",
    "    temp_null_count = data[data[col].isnull()].shape[0]\n",
    "    dt = str(data[col].dtype)\n",
    "    if temp_null_count>0:\n",
    "        temp_perc = round((temp_null_count / data.shape[0]) * 100.0, 2)\n",
    "        print('Колонка {}. Тип данных {}. Количество пустых значений {}, {}%.'.format(col, dt, temp_null_count, temp_perc))"
   ]
  },
  {
   "cell_type": "markdown",
   "metadata": {},
   "source": [
    "Удалим столбцы EYE и GSM из-за большого количества пропусков"
   ]
  },
  {
   "cell_type": "code",
   "execution_count": 6,
   "metadata": {
    "pycharm": {
     "name": "#%%\n"
    }
   },
   "outputs": [],
   "source": [
    "data.drop(columns=['EYE', 'GSM', 'YEAR'], inplace=True)"
   ]
  },
  {
   "cell_type": "markdown",
   "metadata": {},
   "source": [
    "Удалим строки, содержащие пропуски в столбцах YEAR, FIRST APPEARANCE и ALIGN"
   ]
  },
  {
   "cell_type": "code",
   "execution_count": 7,
   "metadata": {
    "pycharm": {
     "name": "#%%\n"
    }
   },
   "outputs": [],
   "source": [
    "data.dropna(axis=0, how='any', subset=['FIRST APPEARANCE', 'ALIGN', 'APPEARANCES'], inplace=True)"
   ]
  },
  {
   "cell_type": "markdown",
   "metadata": {},
   "source": [
    "Заполним пропуски в категориальных столбцах при помощих самых часто встречаемых значений"
   ]
  },
  {
   "cell_type": "code",
   "execution_count": 8,
   "metadata": {
    "pycharm": {
     "name": "#%%\n"
    }
   },
   "outputs": [
    {
     "data": {
      "text/plain": [
       "ID                  0\n",
       "ALIGN               0\n",
       "HAIR                0\n",
       "SEX                 0\n",
       "ALIVE               0\n",
       "APPEARANCES         0\n",
       "FIRST APPEARANCE    0\n",
       "dtype: int64"
      ]
     },
     "execution_count": 8,
     "metadata": {},
     "output_type": "execute_result"
    }
   ],
   "source": [
    "cat_simp_imp = SimpleImputer(strategy='most_frequent')\n",
    "cat_data_imputed = cat_simp_imp.fit_transform(data.drop(columns=['APPEARANCES']))\n",
    "data[data.drop(columns=['APPEARANCES']).columns] = cat_data_imputed\n",
    "data.isnull().sum()"
   ]
  },
  {
   "cell_type": "markdown",
   "metadata": {},
   "source": [
    "Теперь закодируем категориальные признаки"
   ]
  },
  {
   "cell_type": "code",
   "execution_count": 9,
   "metadata": {
    "pycharm": {
     "name": "#%%\n"
    }
   },
   "outputs": [
    {
     "name": "stderr",
     "output_type": "stream",
     "text": [
      "D:\\Stud\\6 term\\TMO_BMSTU_22\\venv\\lib\\site-packages\\sklearn\\preprocessing\\_label.py:115: DataConversionWarning: A column-vector y was passed when a 1d array was expected. Please change the shape of y to (n_samples, ), for example using ravel().\n",
      "  y = column_or_1d(y, warn=True)\n"
     ]
    },
    {
     "data": {
      "text/plain": [
       "array(['Bad Characters', 'Good Characters', 'Neutral Characters',\n",
       "       'Reformed Criminals'], dtype=object)"
      ]
     },
     "execution_count": 9,
     "metadata": {},
     "output_type": "execute_result"
    }
   ],
   "source": [
    "oe = OrdinalEncoder()\n",
    "attrs_coded = oe.fit_transform(data.drop(columns=['ALIGN', 'APPEARANCES']))\n",
    "data[data.drop(columns=['ALIGN', 'APPEARANCES']).columns] = attrs_coded\n",
    "\n",
    "le = LabelEncoder()\n",
    "target_coded = le.fit_transform(data[['ALIGN']])\n",
    "data['ALIGN'] = target_coded\n",
    "le.classes_"
   ]
  },
  {
   "cell_type": "markdown",
   "metadata": {},
   "source": [
    "## Разделение выборки на обучающую и тестовую"
   ]
  },
  {
   "cell_type": "markdown",
   "metadata": {},
   "source": [
    "В качестве уелевого признака возьмем столбец ALIGN"
   ]
  },
  {
   "cell_type": "code",
   "execution_count": 10,
   "metadata": {
    "pycharm": {
     "name": "#%%\n"
    }
   },
   "outputs": [],
   "source": [
    "data_X = data.drop(columns=['ALIGN'])\n",
    "data_y = data[['ALIGN']]\n",
    "train_X, test_X, train_y, test_y = train_test_split(data_X, data_y)"
   ]
  },
  {
   "cell_type": "markdown",
   "metadata": {},
   "source": [
    "## Дерево решений"
   ]
  },
  {
   "cell_type": "code",
   "execution_count": 11,
   "metadata": {
    "pycharm": {
     "name": "#%%\n"
    }
   },
   "outputs": [],
   "source": [
    "tree_params_search = {\n",
    "    'max_depth': [2, 4, 6, 8, 10],\n",
    "    'min_samples_leaf': [0.04, 0.06, 0.08, 0.1],\n",
    "    'max_features': [0.2, 0.4, 0.6, 0.8, 1]\n",
    "}"
   ]
  },
  {
   "cell_type": "code",
   "execution_count": 12,
   "metadata": {
    "pycharm": {
     "name": "#%%\n"
    }
   },
   "outputs": [
    {
     "name": "stderr",
     "output_type": "stream",
     "text": [
      "D:\\Stud\\6 term\\TMO_BMSTU_22\\venv\\lib\\site-packages\\sklearn\\model_selection\\_split.py:676: UserWarning: The least populated class in y has only 2 members, which is less than n_splits=5.\n",
      "  warnings.warn(\n"
     ]
    },
    {
     "data": {
      "text/plain": [
       "({'max_depth': 6, 'max_features': 0.8, 'min_samples_leaf': 0.04},\n",
       " 0.5963507939885894)"
      ]
     },
     "execution_count": 12,
     "metadata": {},
     "output_type": "execute_result"
    }
   ],
   "source": [
    "grid_search_tree = GridSearchCV(DecisionTreeClassifier(), tree_params_search, scoring='accuracy', cv=StratifiedKFold(n_splits=5), n_jobs=4)\n",
    "grid_search_tree.fit(train_X, train_y)\n",
    "\n",
    "grid_search_tree.best_params_, grid_search_tree.best_score_"
   ]
  },
  {
   "cell_type": "code",
   "execution_count": 13,
   "metadata": {
    "pycharm": {
     "name": "#%%\n"
    }
   },
   "outputs": [
    {
     "data": {
      "text/plain": [
       "0.6009453072248481"
      ]
     },
     "execution_count": 13,
     "metadata": {},
     "output_type": "execute_result"
    },
    {
     "data": {
      "image/png": "[encoded data removed]",
      "text/plain": [
       "<Figure size 720x720 with 2 Axes>"
      ]
     },
     "metadata": {
      "needs_background": "light"
     },
     "output_type": "display_data"
    }
   ],
   "source": [
    "tree: DecisionTreeClassifier = grid_search_tree.best_estimator_\n",
    "tree.fit(train_X, train_y)\n",
    "tree_pred = tree.predict(test_X)\n",
    "fig, ax = plt.subplots(figsize=(10, 10))\n",
    "ConfusionMatrixDisplay.from_predictions(test_y, tree_pred, ax=ax, cmap='Greens', display_labels=le.classes_)\n",
    "accuracy_score(tree_pred, test_y)"
   ]
  },
  {
   "cell_type": "code",
   "execution_count": 14,
   "metadata": {
    "pycharm": {
     "name": "#%%\n"
    }
   },
   "outputs": [
    {
     "data": {
      "image/svg+xml": [
       "<?xml version=\"1.0\" encoding=\"UTF-8\" standalone=\"no\"?>\n",
       "<!DOCTYPE svg PUBLIC \"-//W3C//DTD SVG 1.1//EN\"\n",
       " \"http://www.w3.org/Graphics/SVG/1.1/DTD/svg11.dtd\">\n",
       "<!-- Generated by graphviz version 3.0.0 (20220226.1711)\n",
       " -->\n",
       "<!-- Title: Tree Pages: 1 -->\n",
       "<svg width=\"2058pt\" height=\"790pt\"\n",
       " viewBox=\"0.00 0.00 2058.00 790.00\" xmlns=\"http://www.w3.org/2000/svg\" xmlns:xlink=\"http://www.w3.org/1999/xlink\">\n",
       "<g id=\"graph0\" class=\"graph\" transform=\"scale(1 1) rotate(0) translate(4 786)\">\n",
       "<title>Tree</title>\n",
       "<polygon fill=\"white\" stroke=\"transparent\" points=\"-4,4 -4,-786 2054,-786 2054,4 -4,4\"/>\n",
       "<!-- 0 -->\n",
       "<g id=\"node1\" class=\"node\">\n",
       "<title>0</title>\n",
       "<path fill=\"#fffffe\" stroke=\"black\" d=\"M1135,-782C1135,-782 965,-782 965,-782 959,-782 953,-776 953,-770 953,-770 953,-711 953,-711 953,-705 959,-699 965,-699 965,-699 1135,-699 1135,-699 1141,-699 1147,-705 1147,-711 1147,-711 1147,-770 1147,-770 1147,-776 1141,-782 1135,-782\"/>\n",
       "<text text-anchor=\"start\" x=\"973.5\" y=\"-766.8\" font-family=\"Helvetica,sans-Serif\" font-size=\"14.00\">APPEARANCES ≤ 12.5</text>\n",
       "<text text-anchor=\"start\" x=\"1012.5\" y=\"-751.8\" font-family=\"Helvetica,sans-Serif\" font-size=\"14.00\">gini = 0.578</text>\n",
       "<text text-anchor=\"start\" x=\"998.5\" y=\"-736.8\" font-family=\"Helvetica,sans-Serif\" font-size=\"14.00\">samples = 4442</text>\n",
       "<text text-anchor=\"start\" x=\"961\" y=\"-721.8\" font-family=\"Helvetica,sans-Serif\" font-size=\"14.00\">value = [2024, 2015, 401, 2]</text>\n",
       "<text text-anchor=\"start\" x=\"976\" y=\"-706.8\" font-family=\"Helvetica,sans-Serif\" font-size=\"14.00\">class = Bad Characters</text>\n",
       "</g>\n",
       "<!-- 1 -->\n",
       "<g id=\"node2\" class=\"node\">\n",
       "<title>1</title>\n",
       "<path fill=\"#f9e1cf\" stroke=\"black\" d=\"M949,-663C949,-663 779,-663 779,-663 773,-663 767,-657 767,-651 767,-651 767,-592 767,-592 767,-586 773,-580 779,-580 779,-580 949,-580 949,-580 955,-580 961,-586 961,-592 961,-592 961,-651 961,-651 961,-657 955,-663 949,-663\"/>\n",
       "<text text-anchor=\"start\" x=\"831.5\" y=\"-647.8\" font-family=\"Helvetica,sans-Serif\" font-size=\"14.00\">SEX ≤ 0.5</text>\n",
       "<text text-anchor=\"start\" x=\"826.5\" y=\"-632.8\" font-family=\"Helvetica,sans-Serif\" font-size=\"14.00\">gini = 0.563</text>\n",
       "<text text-anchor=\"start\" x=\"812.5\" y=\"-617.8\" font-family=\"Helvetica,sans-Serif\" font-size=\"14.00\">samples = 3139</text>\n",
       "<text text-anchor=\"start\" x=\"775\" y=\"-602.8\" font-family=\"Helvetica,sans-Serif\" font-size=\"14.00\">value = [1670, 1202, 265, 2]</text>\n",
       "<text text-anchor=\"start\" x=\"790\" y=\"-587.8\" font-family=\"Helvetica,sans-Serif\" font-size=\"14.00\">class = Bad Characters</text>\n",
       "</g>\n",
       "<!-- 0&#45;&gt;1 -->\n",
       "<g id=\"edge1\" class=\"edge\">\n",
       "<title>0&#45;&gt;1</title>\n",
       "<path fill=\"none\" stroke=\"black\" d=\"M985.47,-698.91C969.89,-689.11 953.13,-678.56 937.18,-668.53\"/>\n",
       "<polygon fill=\"black\" stroke=\"black\" points=\"938.75,-665.38 928.42,-663.02 935.02,-671.31 938.75,-665.38\"/>\n",
       "<text text-anchor=\"middle\" x=\"933.97\" y=\"-683.7\" font-family=\"Helvetica,sans-Serif\" font-size=\"14.00\">True</text>\n",
       "</g>\n",
       "<!-- 24 -->\n",
       "<g id=\"node25\" class=\"node\">\n",
       "<title>24</title>\n",
       "<path fill=\"#a6f29f\" stroke=\"black\" d=\"M1550,-663C1550,-663 1396,-663 1396,-663 1390,-663 1384,-657 1384,-651 1384,-651 1384,-592 1384,-592 1384,-586 1390,-580 1396,-580 1396,-580 1550,-580 1550,-580 1556,-580 1562,-586 1562,-592 1562,-592 1562,-651 1562,-651 1562,-657 1556,-663 1550,-663\"/>\n",
       "<text text-anchor=\"start\" x=\"1392.5\" y=\"-647.8\" font-family=\"Helvetica,sans-Serif\" font-size=\"14.00\">APPEARANCES ≤ 103.5</text>\n",
       "<text text-anchor=\"start\" x=\"1435.5\" y=\"-632.8\" font-family=\"Helvetica,sans-Serif\" font-size=\"14.00\">gini = 0.526</text>\n",
       "<text text-anchor=\"start\" x=\"1421.5\" y=\"-617.8\" font-family=\"Helvetica,sans-Serif\" font-size=\"14.00\">samples = 1303</text>\n",
       "<text text-anchor=\"start\" x=\"1392\" y=\"-602.8\" font-family=\"Helvetica,sans-Serif\" font-size=\"14.00\">value = [354, 813, 136, 0]</text>\n",
       "<text text-anchor=\"start\" x=\"1394\" y=\"-587.8\" font-family=\"Helvetica,sans-Serif\" font-size=\"14.00\">class = Good Characters</text>\n",
       "</g>\n",
       "<!-- 0&#45;&gt;24 -->\n",
       "<g id=\"edge24\" class=\"edge\">\n",
       "<title>0&#45;&gt;24</title>\n",
       "<path fill=\"none\" stroke=\"black\" d=\"M1147.04,-712.66C1215.05,-693.85 1305.63,-668.79 1374.05,-649.87\"/>\n",
       "<polygon fill=\"black\" stroke=\"black\" points=\"1375.27,-653.16 1383.98,-647.12 1373.41,-646.42 1375.27,-653.16\"/>\n",
       "<text text-anchor=\"middle\" x=\"1371.65\" y=\"-665.17\" font-family=\"Helvetica,sans-Serif\" font-size=\"14.00\">False</text>\n",
       "</g>\n",
       "<!-- 2 -->\n",
       "<g id=\"node3\" class=\"node\">\n",
       "<title>2</title>\n",
       "<path fill=\"#e8fce6\" stroke=\"black\" d=\"M374,-544C374,-544 184,-544 184,-544 178,-544 172,-538 172,-532 172,-532 172,-473 172,-473 172,-467 178,-461 184,-461 184,-461 374,-461 374,-461 380,-461 386,-467 386,-473 386,-473 386,-532 386,-532 386,-538 380,-544 374,-544\"/>\n",
       "<text text-anchor=\"start\" x=\"180\" y=\"-528.8\" font-family=\"Helvetica,sans-Serif\" font-size=\"14.00\">FIRST APPEARANCE ≤ 491.5</text>\n",
       "<text text-anchor=\"start\" x=\"241.5\" y=\"-513.8\" font-family=\"Helvetica,sans-Serif\" font-size=\"14.00\">gini = 0.586</text>\n",
       "<text text-anchor=\"start\" x=\"231.5\" y=\"-498.8\" font-family=\"Helvetica,sans-Serif\" font-size=\"14.00\">samples = 842</text>\n",
       "<text text-anchor=\"start\" x=\"202\" y=\"-483.8\" font-family=\"Helvetica,sans-Serif\" font-size=\"14.00\">value = [345, 408, 88, 1]</text>\n",
       "<text text-anchor=\"start\" x=\"200\" y=\"-468.8\" font-family=\"Helvetica,sans-Serif\" font-size=\"14.00\">class = Good Characters</text>\n",
       "</g>\n",
       "<!-- 1&#45;&gt;2 -->\n",
       "<g id=\"edge2\" class=\"edge\">\n",
       "<title>1&#45;&gt;2</title>\n",
       "<path fill=\"none\" stroke=\"black\" d=\"M766.74,-601.05C664.9,-580.68 504.94,-548.69 396.2,-526.94\"/>\n",
       "<polygon fill=\"black\" stroke=\"black\" points=\"396.66,-523.46 386.17,-524.93 395.29,-530.33 396.66,-523.46\"/>\n",
       "</g>\n",
       "<!-- 7 -->\n",
       "<g id=\"node8\" class=\"node\">\n",
       "<title>7</title>\n",
       "<path fill=\"#f6d2b9\" stroke=\"black\" d=\"M945,-544C945,-544 783,-544 783,-544 777,-544 771,-538 771,-532 771,-532 771,-473 771,-473 771,-467 777,-461 783,-461 783,-461 945,-461 945,-461 951,-461 957,-467 957,-473 957,-473 957,-532 957,-532 957,-538 951,-544 945,-544\"/>\n",
       "<text text-anchor=\"start\" x=\"838.5\" y=\"-528.8\" font-family=\"Helvetica,sans-Serif\" font-size=\"14.00\">ID ≤ 1.5</text>\n",
       "<text text-anchor=\"start\" x=\"826.5\" y=\"-513.8\" font-family=\"Helvetica,sans-Serif\" font-size=\"14.00\">gini = 0.542</text>\n",
       "<text text-anchor=\"start\" x=\"812.5\" y=\"-498.8\" font-family=\"Helvetica,sans-Serif\" font-size=\"14.00\">samples = 2297</text>\n",
       "<text text-anchor=\"start\" x=\"779\" y=\"-483.8\" font-family=\"Helvetica,sans-Serif\" font-size=\"14.00\">value = [1325, 794, 177, 1]</text>\n",
       "<text text-anchor=\"start\" x=\"790\" y=\"-468.8\" font-family=\"Helvetica,sans-Serif\" font-size=\"14.00\">class = Bad Characters</text>\n",
       "</g>\n",
       "<!-- 1&#45;&gt;7 -->\n",
       "<g id=\"edge7\" class=\"edge\">\n",
       "<title>1&#45;&gt;7</title>\n",
       "<path fill=\"none\" stroke=\"black\" d=\"M864,-579.91C864,-571.65 864,-562.86 864,-554.3\"/>\n",
       "<polygon fill=\"black\" stroke=\"black\" points=\"867.5,-554.02 864,-544.02 860.5,-554.02 867.5,-554.02\"/>\n",
       "</g>\n",
       "<!-- 3 -->\n",
       "<g id=\"node4\" class=\"node\">\n",
       "<title>3</title>\n",
       "<path fill=\"#c1f6bd\" stroke=\"black\" d=\"M162,-417.5C162,-417.5 12,-417.5 12,-417.5 6,-417.5 0,-411.5 0,-405.5 0,-405.5 0,-361.5 0,-361.5 0,-355.5 6,-349.5 12,-349.5 12,-349.5 162,-349.5 162,-349.5 168,-349.5 174,-355.5 174,-361.5 174,-361.5 174,-405.5 174,-405.5 174,-411.5 168,-417.5 162,-417.5\"/>\n",
       "<text text-anchor=\"start\" x=\"49.5\" y=\"-402.3\" font-family=\"Helvetica,sans-Serif\" font-size=\"14.00\">gini = 0.573</text>\n",
       "<text text-anchor=\"start\" x=\"39.5\" y=\"-387.3\" font-family=\"Helvetica,sans-Serif\" font-size=\"14.00\">samples = 275</text>\n",
       "<text text-anchor=\"start\" x=\"14.5\" y=\"-372.3\" font-family=\"Helvetica,sans-Serif\" font-size=\"14.00\">value = [90, 152, 33, 0]</text>\n",
       "<text text-anchor=\"start\" x=\"8\" y=\"-357.3\" font-family=\"Helvetica,sans-Serif\" font-size=\"14.00\">class = Good Characters</text>\n",
       "</g>\n",
       "<!-- 2&#45;&gt;3 -->\n",
       "<g id=\"edge3\" class=\"edge\">\n",
       "<title>2&#45;&gt;3</title>\n",
       "<path fill=\"none\" stroke=\"black\" d=\"M212.39,-460.91C192.2,-448.6 170.09,-435.13 150.13,-422.97\"/>\n",
       "<polygon fill=\"black\" stroke=\"black\" points=\"151.79,-419.88 141.43,-417.67 148.15,-425.86 151.79,-419.88\"/>\n",
       "</g>\n",
       "<!-- 4 -->\n",
       "<g id=\"node5\" class=\"node\">\n",
       "<title>4</title>\n",
       "<path fill=\"#fefffe\" stroke=\"black\" d=\"M354,-425C354,-425 204,-425 204,-425 198,-425 192,-419 192,-413 192,-413 192,-354 192,-354 192,-348 198,-342 204,-342 204,-342 354,-342 354,-342 360,-342 366,-348 366,-354 366,-354 366,-413 366,-413 366,-419 360,-425 354,-425\"/>\n",
       "<text text-anchor=\"start\" x=\"253.5\" y=\"-409.8\" font-family=\"Helvetica,sans-Serif\" font-size=\"14.00\">ID ≤ 1.5</text>\n",
       "<text text-anchor=\"start\" x=\"241.5\" y=\"-394.8\" font-family=\"Helvetica,sans-Serif\" font-size=\"14.00\">gini = 0.584</text>\n",
       "<text text-anchor=\"start\" x=\"231.5\" y=\"-379.8\" font-family=\"Helvetica,sans-Serif\" font-size=\"14.00\">samples = 567</text>\n",
       "<text text-anchor=\"start\" x=\"202\" y=\"-364.8\" font-family=\"Helvetica,sans-Serif\" font-size=\"14.00\">value = [255, 256, 55, 1]</text>\n",
       "<text text-anchor=\"start\" x=\"200\" y=\"-349.8\" font-family=\"Helvetica,sans-Serif\" font-size=\"14.00\">class = Good Characters</text>\n",
       "</g>\n",
       "<!-- 2&#45;&gt;4 -->\n",
       "<g id=\"edge4\" class=\"edge\">\n",
       "<title>2&#45;&gt;4</title>\n",
       "<path fill=\"none\" stroke=\"black\" d=\"M279,-460.91C279,-452.65 279,-443.86 279,-435.3\"/>\n",
       "<polygon fill=\"black\" stroke=\"black\" points=\"282.5,-435.02 279,-425.02 275.5,-435.02 282.5,-435.02\"/>\n",
       "</g>\n",
       "<!-- 5 -->\n",
       "<g id=\"node6\" class=\"node\">\n",
       "<title>5</title>\n",
       "<path fill=\"#cdf8ca\" stroke=\"black\" d=\"M167,-298.5C167,-298.5 17,-298.5 17,-298.5 11,-298.5 5,-292.5 5,-286.5 5,-286.5 5,-242.5 5,-242.5 5,-236.5 11,-230.5 17,-230.5 17,-230.5 167,-230.5 167,-230.5 173,-230.5 179,-236.5 179,-242.5 179,-242.5 179,-286.5 179,-286.5 179,-292.5 173,-298.5 167,-298.5\"/>\n",
       "<text text-anchor=\"start\" x=\"54.5\" y=\"-283.3\" font-family=\"Helvetica,sans-Serif\" font-size=\"14.00\">gini = 0.583</text>\n",
       "<text text-anchor=\"start\" x=\"44.5\" y=\"-268.3\" font-family=\"Helvetica,sans-Serif\" font-size=\"14.00\">samples = 373</text>\n",
       "<text text-anchor=\"start\" x=\"15\" y=\"-253.3\" font-family=\"Helvetica,sans-Serif\" font-size=\"14.00\">value = [132, 197, 43, 1]</text>\n",
       "<text text-anchor=\"start\" x=\"13\" y=\"-238.3\" font-family=\"Helvetica,sans-Serif\" font-size=\"14.00\">class = Good Characters</text>\n",
       "</g>\n",
       "<!-- 4&#45;&gt;5 -->\n",
       "<g id=\"edge5\" class=\"edge\">\n",
       "<title>4&#45;&gt;5</title>\n",
       "<path fill=\"none\" stroke=\"black\" d=\"M214.12,-341.91C194.54,-329.66 173.12,-316.25 153.75,-304.13\"/>\n",
       "<polygon fill=\"black\" stroke=\"black\" points=\"155.34,-301 145.01,-298.67 151.63,-306.94 155.34,-301\"/>\n",
       "</g>\n",
       "<!-- 6 -->\n",
       "<g id=\"node7\" class=\"node\">\n",
       "<title>6</title>\n",
       "<path fill=\"#f3c3a1\" stroke=\"black\" d=\"M349,-298.5C349,-298.5 209,-298.5 209,-298.5 203,-298.5 197,-292.5 197,-286.5 197,-286.5 197,-242.5 197,-242.5 197,-236.5 203,-230.5 209,-230.5 209,-230.5 349,-230.5 349,-230.5 355,-230.5 361,-236.5 361,-242.5 361,-242.5 361,-286.5 361,-286.5 361,-292.5 355,-298.5 349,-298.5\"/>\n",
       "<text text-anchor=\"start\" x=\"241.5\" y=\"-283.3\" font-family=\"Helvetica,sans-Serif\" font-size=\"14.00\">gini = 0.502</text>\n",
       "<text text-anchor=\"start\" x=\"231.5\" y=\"-268.3\" font-family=\"Helvetica,sans-Serif\" font-size=\"14.00\">samples = 194</text>\n",
       "<text text-anchor=\"start\" x=\"206.5\" y=\"-253.3\" font-family=\"Helvetica,sans-Serif\" font-size=\"14.00\">value = [123, 59, 12, 0]</text>\n",
       "<text text-anchor=\"start\" x=\"205\" y=\"-238.3\" font-family=\"Helvetica,sans-Serif\" font-size=\"14.00\">class = Bad Characters</text>\n",
       "</g>\n",
       "<!-- 4&#45;&gt;6 -->\n",
       "<g id=\"edge6\" class=\"edge\">\n",
       "<title>4&#45;&gt;6</title>\n",
       "<path fill=\"none\" stroke=\"black\" d=\"M279,-341.91C279,-331.2 279,-319.62 279,-308.78\"/>\n",
       "<polygon fill=\"black\" stroke=\"black\" points=\"282.5,-308.67 279,-298.67 275.5,-308.67 282.5,-308.67\"/>\n",
       "</g>\n",
       "<!-- 8 -->\n",
       "<g id=\"node9\" class=\"node\">\n",
       "<title>8</title>\n",
       "<path fill=\"#f9e3d4\" stroke=\"black\" d=\"M808,-425C808,-425 618,-425 618,-425 612,-425 606,-419 606,-413 606,-413 606,-354 606,-354 606,-348 612,-342 618,-342 618,-342 808,-342 808,-342 814,-342 820,-348 820,-354 820,-354 820,-413 820,-413 820,-419 814,-425 808,-425\"/>\n",
       "<text text-anchor=\"start\" x=\"614\" y=\"-409.8\" font-family=\"Helvetica,sans-Serif\" font-size=\"14.00\">FIRST APPEARANCE ≤ 481.5</text>\n",
       "<text text-anchor=\"start\" x=\"675.5\" y=\"-394.8\" font-family=\"Helvetica,sans-Serif\" font-size=\"14.00\">gini = 0.569</text>\n",
       "<text text-anchor=\"start\" x=\"661.5\" y=\"-379.8\" font-family=\"Helvetica,sans-Serif\" font-size=\"14.00\">samples = 1494</text>\n",
       "<text text-anchor=\"start\" x=\"632\" y=\"-364.8\" font-family=\"Helvetica,sans-Serif\" font-size=\"14.00\">value = [780, 580, 133, 1]</text>\n",
       "<text text-anchor=\"start\" x=\"639\" y=\"-349.8\" font-family=\"Helvetica,sans-Serif\" font-size=\"14.00\">class = Bad Characters</text>\n",
       "</g>\n",
       "<!-- 7&#45;&gt;8 -->\n",
       "<g id=\"edge8\" class=\"edge\">\n",
       "<title>7&#45;&gt;8</title>\n",
       "<path fill=\"none\" stroke=\"black\" d=\"M811.61,-460.91C799.31,-451.38 786.11,-441.15 773.49,-431.37\"/>\n",
       "<polygon fill=\"black\" stroke=\"black\" points=\"775.34,-428.38 765.3,-425.02 771.06,-433.91 775.34,-428.38\"/>\n",
       "</g>\n",
       "<!-- 19 -->\n",
       "<g id=\"node20\" class=\"node\">\n",
       "<title>19</title>\n",
       "<path fill=\"#f0b890\" stroke=\"black\" d=\"M1088,-425C1088,-425 942,-425 942,-425 936,-425 930,-419 930,-413 930,-413 930,-354 930,-354 930,-348 936,-342 942,-342 942,-342 1088,-342 1088,-342 1094,-342 1100,-348 1100,-354 1100,-354 1100,-413 1100,-413 1100,-419 1094,-425 1088,-425\"/>\n",
       "<text text-anchor=\"start\" x=\"942.5\" y=\"-409.8\" font-family=\"Helvetica,sans-Serif\" font-size=\"14.00\">APPEARANCES ≤ 5.5</text>\n",
       "<text text-anchor=\"start\" x=\"977.5\" y=\"-394.8\" font-family=\"Helvetica,sans-Serif\" font-size=\"14.00\">gini = 0.465</text>\n",
       "<text text-anchor=\"start\" x=\"967.5\" y=\"-379.8\" font-family=\"Helvetica,sans-Serif\" font-size=\"14.00\">samples = 803</text>\n",
       "<text text-anchor=\"start\" x=\"938\" y=\"-364.8\" font-family=\"Helvetica,sans-Serif\" font-size=\"14.00\">value = [545, 214, 44, 0]</text>\n",
       "<text text-anchor=\"start\" x=\"941\" y=\"-349.8\" font-family=\"Helvetica,sans-Serif\" font-size=\"14.00\">class = Bad Characters</text>\n",
       "</g>\n",
       "<!-- 7&#45;&gt;19 -->\n",
       "<g id=\"edge19\" class=\"edge\">\n",
       "<title>7&#45;&gt;19</title>\n",
       "<path fill=\"none\" stroke=\"black\" d=\"M916.39,-460.91C928.69,-451.38 941.89,-441.15 954.51,-431.37\"/>\n",
       "<polygon fill=\"black\" stroke=\"black\" points=\"956.94,-433.91 962.7,-425.02 952.66,-428.38 956.94,-433.91\"/>\n",
       "</g>\n",
       "<!-- 9 -->\n",
       "<g id=\"node10\" class=\"node\">\n",
       "<title>9</title>\n",
       "<path fill=\"#fefffe\" stroke=\"black\" d=\"M541,-306C541,-306 391,-306 391,-306 385,-306 379,-300 379,-294 379,-294 379,-235 379,-235 379,-229 385,-223 391,-223 391,-223 541,-223 541,-223 547,-223 553,-229 553,-235 553,-235 553,-294 553,-294 553,-300 547,-306 541,-306\"/>\n",
       "<text text-anchor=\"start\" x=\"431\" y=\"-290.8\" font-family=\"Helvetica,sans-Serif\" font-size=\"14.00\">HAIR ≤ 0.5</text>\n",
       "<text text-anchor=\"start\" x=\"428.5\" y=\"-275.8\" font-family=\"Helvetica,sans-Serif\" font-size=\"14.00\">gini = 0.562</text>\n",
       "<text text-anchor=\"start\" x=\"418.5\" y=\"-260.8\" font-family=\"Helvetica,sans-Serif\" font-size=\"14.00\">samples = 625</text>\n",
       "<text text-anchor=\"start\" x=\"389\" y=\"-245.8\" font-family=\"Helvetica,sans-Serif\" font-size=\"14.00\">value = [290, 292, 43, 0]</text>\n",
       "<text text-anchor=\"start\" x=\"387\" y=\"-230.8\" font-family=\"Helvetica,sans-Serif\" font-size=\"14.00\">class = Good Characters</text>\n",
       "</g>\n",
       "<!-- 8&#45;&gt;9 -->\n",
       "<g id=\"edge9\" class=\"edge\">\n",
       "<title>8&#45;&gt;9</title>\n",
       "<path fill=\"none\" stroke=\"black\" d=\"M627.3,-341.91C605.85,-331.74 582.7,-320.78 560.83,-310.42\"/>\n",
       "<polygon fill=\"black\" stroke=\"black\" points=\"562.08,-307.14 551.54,-306.02 559.08,-313.46 562.08,-307.14\"/>\n",
       "</g>\n",
       "<!-- 14 -->\n",
       "<g id=\"node15\" class=\"node\">\n",
       "<title>14</title>\n",
       "<path fill=\"#f6d3ba\" stroke=\"black\" d=\"M786,-306C786,-306 640,-306 640,-306 634,-306 628,-300 628,-294 628,-294 628,-235 628,-235 628,-229 634,-223 640,-223 640,-223 786,-223 786,-223 792,-223 798,-229 798,-235 798,-235 798,-294 798,-294 798,-300 792,-306 786,-306\"/>\n",
       "<text text-anchor=\"start\" x=\"640.5\" y=\"-290.8\" font-family=\"Helvetica,sans-Serif\" font-size=\"14.00\">APPEARANCES ≤ 4.5</text>\n",
       "<text text-anchor=\"start\" x=\"675.5\" y=\"-275.8\" font-family=\"Helvetica,sans-Serif\" font-size=\"14.00\">gini = 0.561</text>\n",
       "<text text-anchor=\"start\" x=\"665.5\" y=\"-260.8\" font-family=\"Helvetica,sans-Serif\" font-size=\"14.00\">samples = 869</text>\n",
       "<text text-anchor=\"start\" x=\"636\" y=\"-245.8\" font-family=\"Helvetica,sans-Serif\" font-size=\"14.00\">value = [490, 288, 90, 1]</text>\n",
       "<text text-anchor=\"start\" x=\"639\" y=\"-230.8\" font-family=\"Helvetica,sans-Serif\" font-size=\"14.00\">class = Bad Characters</text>\n",
       "</g>\n",
       "<!-- 8&#45;&gt;14 -->\n",
       "<g id=\"edge14\" class=\"edge\">\n",
       "<title>8&#45;&gt;14</title>\n",
       "<path fill=\"none\" stroke=\"black\" d=\"M713,-341.91C713,-333.65 713,-324.86 713,-316.3\"/>\n",
       "<polygon fill=\"black\" stroke=\"black\" points=\"716.5,-316.02 713,-306.02 709.5,-316.02 716.5,-316.02\"/>\n",
       "</g>\n",
       "<!-- 10 -->\n",
       "<g id=\"node11\" class=\"node\">\n",
       "<title>10</title>\n",
       "<path fill=\"#f9e3d3\" stroke=\"black\" d=\"M320,-187C320,-187 174,-187 174,-187 168,-187 162,-181 162,-175 162,-175 162,-116 162,-116 162,-110 168,-104 174,-104 174,-104 320,-104 320,-104 326,-104 332,-110 332,-116 332,-116 332,-175 332,-175 332,-181 326,-187 320,-187\"/>\n",
       "<text text-anchor=\"start\" x=\"174.5\" y=\"-171.8\" font-family=\"Helvetica,sans-Serif\" font-size=\"14.00\">APPEARANCES ≤ 3.5</text>\n",
       "<text text-anchor=\"start\" x=\"213.5\" y=\"-156.8\" font-family=\"Helvetica,sans-Serif\" font-size=\"14.00\">gini = 0.55</text>\n",
       "<text text-anchor=\"start\" x=\"199.5\" y=\"-141.8\" font-family=\"Helvetica,sans-Serif\" font-size=\"14.00\">samples = 382</text>\n",
       "<text text-anchor=\"start\" x=\"170\" y=\"-126.8\" font-family=\"Helvetica,sans-Serif\" font-size=\"14.00\">value = [204, 153, 25, 0]</text>\n",
       "<text text-anchor=\"start\" x=\"173\" y=\"-111.8\" font-family=\"Helvetica,sans-Serif\" font-size=\"14.00\">class = Bad Characters</text>\n",
       "</g>\n",
       "<!-- 9&#45;&gt;10 -->\n",
       "<g id=\"edge10\" class=\"edge\">\n",
       "<title>9&#45;&gt;10</title>\n",
       "<path fill=\"none\" stroke=\"black\" d=\"M390.02,-222.91C371.25,-212.88 351.02,-202.07 331.86,-191.84\"/>\n",
       "<polygon fill=\"black\" stroke=\"black\" points=\"333.32,-188.65 322.85,-187.02 330.02,-194.82 333.32,-188.65\"/>\n",
       "</g>\n",
       "<!-- 13 -->\n",
       "<g id=\"node14\" class=\"node\">\n",
       "<title>13</title>\n",
       "<path fill=\"#c1f6bc\" stroke=\"black\" d=\"M512,-179.5C512,-179.5 362,-179.5 362,-179.5 356,-179.5 350,-173.5 350,-167.5 350,-167.5 350,-123.5 350,-123.5 350,-117.5 356,-111.5 362,-111.5 362,-111.5 512,-111.5 512,-111.5 518,-111.5 524,-117.5 524,-123.5 524,-123.5 524,-167.5 524,-167.5 524,-173.5 518,-179.5 512,-179.5\"/>\n",
       "<text text-anchor=\"start\" x=\"399.5\" y=\"-164.3\" font-family=\"Helvetica,sans-Serif\" font-size=\"14.00\">gini = 0.542</text>\n",
       "<text text-anchor=\"start\" x=\"389.5\" y=\"-149.3\" font-family=\"Helvetica,sans-Serif\" font-size=\"14.00\">samples = 243</text>\n",
       "<text text-anchor=\"start\" x=\"364.5\" y=\"-134.3\" font-family=\"Helvetica,sans-Serif\" font-size=\"14.00\">value = [86, 139, 18, 0]</text>\n",
       "<text text-anchor=\"start\" x=\"358\" y=\"-119.3\" font-family=\"Helvetica,sans-Serif\" font-size=\"14.00\">class = Good Characters</text>\n",
       "</g>\n",
       "<!-- 9&#45;&gt;13 -->\n",
       "<g id=\"edge13\" class=\"edge\">\n",
       "<title>9&#45;&gt;13</title>\n",
       "<path fill=\"none\" stroke=\"black\" d=\"M455.94,-222.91C453.26,-212.09 450.35,-200.38 447.64,-189.44\"/>\n",
       "<polygon fill=\"black\" stroke=\"black\" points=\"451.02,-188.53 445.22,-179.67 444.23,-190.22 451.02,-188.53\"/>\n",
       "</g>\n",
       "<!-- 11 -->\n",
       "<g id=\"node12\" class=\"node\">\n",
       "<title>11</title>\n",
       "<path fill=\"#f4c9aa\" stroke=\"black\" d=\"M240,-68C240,-68 100,-68 100,-68 94,-68 88,-62 88,-56 88,-56 88,-12 88,-12 88,-6 94,0 100,0 100,0 240,0 240,0 246,0 252,-6 252,-12 252,-12 252,-56 252,-56 252,-62 246,-68 240,-68\"/>\n",
       "<text text-anchor=\"start\" x=\"132.5\" y=\"-52.8\" font-family=\"Helvetica,sans-Serif\" font-size=\"14.00\">gini = 0.521</text>\n",
       "<text text-anchor=\"start\" x=\"122.5\" y=\"-37.8\" font-family=\"Helvetica,sans-Serif\" font-size=\"14.00\">samples = 182</text>\n",
       "<text text-anchor=\"start\" x=\"97.5\" y=\"-22.8\" font-family=\"Helvetica,sans-Serif\" font-size=\"14.00\">value = [111, 58, 13, 0]</text>\n",
       "<text text-anchor=\"start\" x=\"96\" y=\"-7.8\" font-family=\"Helvetica,sans-Serif\" font-size=\"14.00\">class = Bad Characters</text>\n",
       "</g>\n",
       "<!-- 10&#45;&gt;11 -->\n",
       "<g id=\"edge11\" class=\"edge\">\n",
       "<title>10&#45;&gt;11</title>\n",
       "<path fill=\"none\" stroke=\"black\" d=\"M218.33,-103.73C212.11,-94.88 205.52,-85.51 199.27,-76.63\"/>\n",
       "<polygon fill=\"black\" stroke=\"black\" points=\"202.03,-74.47 193.42,-68.3 196.31,-78.49 202.03,-74.47\"/>\n",
       "</g>\n",
       "<!-- 12 -->\n",
       "<g id=\"node13\" class=\"node\">\n",
       "<title>12</title>\n",
       "<path fill=\"#fcfffb\" stroke=\"black\" d=\"M432,-68C432,-68 282,-68 282,-68 276,-68 270,-62 270,-56 270,-56 270,-12 270,-12 270,-6 276,0 282,0 282,0 432,0 432,0 438,0 444,-6 444,-12 444,-12 444,-56 444,-56 444,-62 438,-68 432,-68\"/>\n",
       "<text text-anchor=\"start\" x=\"319.5\" y=\"-52.8\" font-family=\"Helvetica,sans-Serif\" font-size=\"14.00\">gini = 0.555</text>\n",
       "<text text-anchor=\"start\" x=\"309.5\" y=\"-37.8\" font-family=\"Helvetica,sans-Serif\" font-size=\"14.00\">samples = 200</text>\n",
       "<text text-anchor=\"start\" x=\"288.5\" y=\"-22.8\" font-family=\"Helvetica,sans-Serif\" font-size=\"14.00\">value = [93, 95, 12, 0]</text>\n",
       "<text text-anchor=\"start\" x=\"278\" y=\"-7.8\" font-family=\"Helvetica,sans-Serif\" font-size=\"14.00\">class = Good Characters</text>\n",
       "</g>\n",
       "<!-- 10&#45;&gt;12 -->\n",
       "<g id=\"edge12\" class=\"edge\">\n",
       "<title>10&#45;&gt;12</title>\n",
       "<path fill=\"none\" stroke=\"black\" d=\"M287.96,-103.73C297.21,-94.51 307.04,-84.74 316.28,-75.53\"/>\n",
       "<polygon fill=\"black\" stroke=\"black\" points=\"318.93,-77.84 323.55,-68.3 313.99,-72.87 318.93,-77.84\"/>\n",
       "</g>\n",
       "<!-- 15 -->\n",
       "<g id=\"node16\" class=\"node\">\n",
       "<title>15</title>\n",
       "<path fill=\"#f2c19d\" stroke=\"black\" d=\"M744,-187C744,-187 554,-187 554,-187 548,-187 542,-181 542,-175 542,-175 542,-116 542,-116 542,-110 548,-104 554,-104 554,-104 744,-104 744,-104 750,-104 756,-110 756,-116 756,-116 756,-175 756,-175 756,-181 750,-187 744,-187\"/>\n",
       "<text text-anchor=\"start\" x=\"550\" y=\"-171.8\" font-family=\"Helvetica,sans-Serif\" font-size=\"14.00\">FIRST APPEARANCE ≤ 579.5</text>\n",
       "<text text-anchor=\"start\" x=\"611.5\" y=\"-156.8\" font-family=\"Helvetica,sans-Serif\" font-size=\"14.00\">gini = 0.523</text>\n",
       "<text text-anchor=\"start\" x=\"601.5\" y=\"-141.8\" font-family=\"Helvetica,sans-Serif\" font-size=\"14.00\">samples = 520</text>\n",
       "<text text-anchor=\"start\" x=\"572\" y=\"-126.8\" font-family=\"Helvetica,sans-Serif\" font-size=\"14.00\">value = [327, 138, 55, 0]</text>\n",
       "<text text-anchor=\"start\" x=\"575\" y=\"-111.8\" font-family=\"Helvetica,sans-Serif\" font-size=\"14.00\">class = Bad Characters</text>\n",
       "</g>\n",
       "<!-- 14&#45;&gt;15 -->\n",
       "<g id=\"edge15\" class=\"edge\">\n",
       "<title>14&#45;&gt;15</title>\n",
       "<path fill=\"none\" stroke=\"black\" d=\"M690.8,-222.91C686.03,-214.2 680.94,-204.9 676.02,-195.89\"/>\n",
       "<polygon fill=\"black\" stroke=\"black\" points=\"679.03,-194.11 671.17,-187.02 672.89,-197.47 679.03,-194.11\"/>\n",
       "</g>\n",
       "<!-- 18 -->\n",
       "<g id=\"node19\" class=\"node\">\n",
       "<title>18</title>\n",
       "<path fill=\"#fdf7f2\" stroke=\"black\" d=\"M932,-179.5C932,-179.5 786,-179.5 786,-179.5 780,-179.5 774,-173.5 774,-167.5 774,-167.5 774,-123.5 774,-123.5 774,-117.5 780,-111.5 786,-111.5 786,-111.5 932,-111.5 932,-111.5 938,-111.5 944,-117.5 944,-123.5 944,-123.5 944,-167.5 944,-167.5 944,-173.5 938,-179.5 932,-179.5\"/>\n",
       "<text text-anchor=\"start\" x=\"821.5\" y=\"-164.3\" font-family=\"Helvetica,sans-Serif\" font-size=\"14.00\">gini = 0.587</text>\n",
       "<text text-anchor=\"start\" x=\"811.5\" y=\"-149.3\" font-family=\"Helvetica,sans-Serif\" font-size=\"14.00\">samples = 349</text>\n",
       "<text text-anchor=\"start\" x=\"782\" y=\"-134.3\" font-family=\"Helvetica,sans-Serif\" font-size=\"14.00\">value = [163, 150, 35, 1]</text>\n",
       "<text text-anchor=\"start\" x=\"785\" y=\"-119.3\" font-family=\"Helvetica,sans-Serif\" font-size=\"14.00\">class = Bad Characters</text>\n",
       "</g>\n",
       "<!-- 14&#45;&gt;18 -->\n",
       "<g id=\"edge18\" class=\"edge\">\n",
       "<title>14&#45;&gt;18</title>\n",
       "<path fill=\"none\" stroke=\"black\" d=\"M763.65,-222.91C778.53,-210.99 794.77,-197.98 809.56,-186.12\"/>\n",
       "<polygon fill=\"black\" stroke=\"black\" points=\"812,-188.65 817.61,-179.67 807.62,-183.19 812,-188.65\"/>\n",
       "</g>\n",
       "<!-- 16 -->\n",
       "<g id=\"node17\" class=\"node\">\n",
       "<title>16</title>\n",
       "<path fill=\"#efb286\" stroke=\"black\" d=\"M666,-68C666,-68 526,-68 526,-68 520,-68 514,-62 514,-56 514,-56 514,-12 514,-12 514,-6 520,0 526,0 526,0 666,0 666,0 672,0 678,-6 678,-12 678,-12 678,-56 678,-56 678,-62 672,-68 666,-68\"/>\n",
       "<text text-anchor=\"start\" x=\"558.5\" y=\"-52.8\" font-family=\"Helvetica,sans-Serif\" font-size=\"14.00\">gini = 0.464</text>\n",
       "<text text-anchor=\"start\" x=\"548.5\" y=\"-37.8\" font-family=\"Helvetica,sans-Serif\" font-size=\"14.00\">samples = 209</text>\n",
       "<text text-anchor=\"start\" x=\"523.5\" y=\"-22.8\" font-family=\"Helvetica,sans-Serif\" font-size=\"14.00\">value = [145, 45, 19, 0]</text>\n",
       "<text text-anchor=\"start\" x=\"522\" y=\"-7.8\" font-family=\"Helvetica,sans-Serif\" font-size=\"14.00\">class = Bad Characters</text>\n",
       "</g>\n",
       "<!-- 15&#45;&gt;16 -->\n",
       "<g id=\"edge16\" class=\"edge\">\n",
       "<title>15&#45;&gt;16</title>\n",
       "<path fill=\"none\" stroke=\"black\" d=\"M629.26,-103.73C625.11,-95.15 620.73,-86.09 616.55,-77.46\"/>\n",
       "<polygon fill=\"black\" stroke=\"black\" points=\"619.62,-75.78 612.12,-68.3 613.32,-78.83 619.62,-75.78\"/>\n",
       "</g>\n",
       "<!-- 17 -->\n",
       "<g id=\"node18\" class=\"node\">\n",
       "<title>17</title>\n",
       "<path fill=\"#f4ccae\" stroke=\"black\" d=\"M848,-68C848,-68 708,-68 708,-68 702,-68 696,-62 696,-56 696,-56 696,-12 696,-12 696,-6 702,0 708,0 708,0 848,0 848,0 854,0 860,-6 860,-12 860,-12 860,-56 860,-56 860,-62 854,-68 848,-68\"/>\n",
       "<text text-anchor=\"start\" x=\"740.5\" y=\"-52.8\" font-family=\"Helvetica,sans-Serif\" font-size=\"14.00\">gini = 0.555</text>\n",
       "<text text-anchor=\"start\" x=\"730.5\" y=\"-37.8\" font-family=\"Helvetica,sans-Serif\" font-size=\"14.00\">samples = 311</text>\n",
       "<text text-anchor=\"start\" x=\"705.5\" y=\"-22.8\" font-family=\"Helvetica,sans-Serif\" font-size=\"14.00\">value = [182, 93, 36, 0]</text>\n",
       "<text text-anchor=\"start\" x=\"704\" y=\"-7.8\" font-family=\"Helvetica,sans-Serif\" font-size=\"14.00\">class = Bad Characters</text>\n",
       "</g>\n",
       "<!-- 15&#45;&gt;17 -->\n",
       "<g id=\"edge17\" class=\"edge\">\n",
       "<title>15&#45;&gt;17</title>\n",
       "<path fill=\"none\" stroke=\"black\" d=\"M697.03,-103.73C708.1,-94.33 719.86,-84.35 730.89,-74.99\"/>\n",
       "<polygon fill=\"black\" stroke=\"black\" points=\"733.41,-77.44 738.77,-68.3 728.88,-72.1 733.41,-77.44\"/>\n",
       "</g>\n",
       "<!-- 20 -->\n",
       "<g id=\"node21\" class=\"node\">\n",
       "<title>20</title>\n",
       "<path fill=\"#efb286\" stroke=\"black\" d=\"M1088,-306C1088,-306 942,-306 942,-306 936,-306 930,-300 930,-294 930,-294 930,-235 930,-235 930,-229 936,-223 942,-223 942,-223 1088,-223 1088,-223 1094,-223 1100,-229 1100,-235 1100,-235 1100,-294 1100,-294 1100,-300 1094,-306 1088,-306\"/>\n",
       "<text text-anchor=\"start\" x=\"980\" y=\"-290.8\" font-family=\"Helvetica,sans-Serif\" font-size=\"14.00\">HAIR ≤ 0.5</text>\n",
       "<text text-anchor=\"start\" x=\"977.5\" y=\"-275.8\" font-family=\"Helvetica,sans-Serif\" font-size=\"14.00\">gini = 0.435</text>\n",
       "<text text-anchor=\"start\" x=\"967.5\" y=\"-260.8\" font-family=\"Helvetica,sans-Serif\" font-size=\"14.00\">samples = 571</text>\n",
       "<text text-anchor=\"start\" x=\"938\" y=\"-245.8\" font-family=\"Helvetica,sans-Serif\" font-size=\"14.00\">value = [404, 143, 24, 0]</text>\n",
       "<text text-anchor=\"start\" x=\"941\" y=\"-230.8\" font-family=\"Helvetica,sans-Serif\" font-size=\"14.00\">class = Bad Characters</text>\n",
       "</g>\n",
       "<!-- 19&#45;&gt;20 -->\n",
       "<g id=\"edge20\" class=\"edge\">\n",
       "<title>19&#45;&gt;20</title>\n",
       "<path fill=\"none\" stroke=\"black\" d=\"M1015,-341.91C1015,-333.65 1015,-324.86 1015,-316.3\"/>\n",
       "<polygon fill=\"black\" stroke=\"black\" points=\"1018.5,-316.02 1015,-306.02 1011.5,-316.02 1018.5,-316.02\"/>\n",
       "</g>\n",
       "<!-- 23 -->\n",
       "<g id=\"node24\" class=\"node\">\n",
       "<title>23</title>\n",
       "<path fill=\"#f4c8a9\" stroke=\"black\" d=\"M1270,-298.5C1270,-298.5 1130,-298.5 1130,-298.5 1124,-298.5 1118,-292.5 1118,-286.5 1118,-286.5 1118,-242.5 1118,-242.5 1118,-236.5 1124,-230.5 1130,-230.5 1130,-230.5 1270,-230.5 1270,-230.5 1276,-230.5 1282,-236.5 1282,-242.5 1282,-242.5 1282,-286.5 1282,-286.5 1282,-292.5 1276,-298.5 1270,-298.5\"/>\n",
       "<text text-anchor=\"start\" x=\"1166.5\" y=\"-283.3\" font-family=\"Helvetica,sans-Serif\" font-size=\"14.00\">gini = 0.53</text>\n",
       "<text text-anchor=\"start\" x=\"1152.5\" y=\"-268.3\" font-family=\"Helvetica,sans-Serif\" font-size=\"14.00\">samples = 232</text>\n",
       "<text text-anchor=\"start\" x=\"1127.5\" y=\"-253.3\" font-family=\"Helvetica,sans-Serif\" font-size=\"14.00\">value = [141, 71, 20, 0]</text>\n",
       "<text text-anchor=\"start\" x=\"1126\" y=\"-238.3\" font-family=\"Helvetica,sans-Serif\" font-size=\"14.00\">class = Bad Characters</text>\n",
       "</g>\n",
       "<!-- 19&#45;&gt;23 -->\n",
       "<g id=\"edge23\" class=\"edge\">\n",
       "<title>19&#45;&gt;23</title>\n",
       "<path fill=\"none\" stroke=\"black\" d=\"M1079.18,-341.91C1098.55,-329.66 1119.75,-316.25 1138.91,-304.13\"/>\n",
       "<polygon fill=\"black\" stroke=\"black\" points=\"1140.98,-306.97 1147.56,-298.67 1137.23,-301.05 1140.98,-306.97\"/>\n",
       "</g>\n",
       "<!-- 21 -->\n",
       "<g id=\"node22\" class=\"node\">\n",
       "<title>21</title>\n",
       "<path fill=\"#efb285\" stroke=\"black\" d=\"M1114,-179.5C1114,-179.5 974,-179.5 974,-179.5 968,-179.5 962,-173.5 962,-167.5 962,-167.5 962,-123.5 962,-123.5 962,-117.5 968,-111.5 974,-111.5 974,-111.5 1114,-111.5 1114,-111.5 1120,-111.5 1126,-117.5 1126,-123.5 1126,-123.5 1126,-167.5 1126,-167.5 1126,-173.5 1120,-179.5 1114,-179.5\"/>\n",
       "<text text-anchor=\"start\" x=\"1006.5\" y=\"-164.3\" font-family=\"Helvetica,sans-Serif\" font-size=\"14.00\">gini = 0.436</text>\n",
       "<text text-anchor=\"start\" x=\"996.5\" y=\"-149.3\" font-family=\"Helvetica,sans-Serif\" font-size=\"14.00\">samples = 374</text>\n",
       "<text text-anchor=\"start\" x=\"971.5\" y=\"-134.3\" font-family=\"Helvetica,sans-Serif\" font-size=\"14.00\">value = [265, 91, 18, 0]</text>\n",
       "<text text-anchor=\"start\" x=\"970\" y=\"-119.3\" font-family=\"Helvetica,sans-Serif\" font-size=\"14.00\">class = Bad Characters</text>\n",
       "</g>\n",
       "<!-- 20&#45;&gt;21 -->\n",
       "<g id=\"edge21\" class=\"edge\">\n",
       "<title>20&#45;&gt;21</title>\n",
       "<path fill=\"none\" stroke=\"black\" d=\"M1025.06,-222.91C1027.74,-212.09 1030.65,-200.38 1033.36,-189.44\"/>\n",
       "<polygon fill=\"black\" stroke=\"black\" points=\"1036.77,-190.22 1035.78,-179.67 1029.98,-188.53 1036.77,-190.22\"/>\n",
       "</g>\n",
       "<!-- 22 -->\n",
       "<g id=\"node23\" class=\"node\">\n",
       "<title>22</title>\n",
       "<path fill=\"#efb388\" stroke=\"black\" d=\"M1296,-179.5C1296,-179.5 1156,-179.5 1156,-179.5 1150,-179.5 1144,-173.5 1144,-167.5 1144,-167.5 1144,-123.5 1144,-123.5 1144,-117.5 1150,-111.5 1156,-111.5 1156,-111.5 1296,-111.5 1296,-111.5 1302,-111.5 1308,-117.5 1308,-123.5 1308,-123.5 1308,-167.5 1308,-167.5 1308,-173.5 1302,-179.5 1296,-179.5\"/>\n",
       "<text text-anchor=\"start\" x=\"1188.5\" y=\"-164.3\" font-family=\"Helvetica,sans-Serif\" font-size=\"14.00\">gini = 0.432</text>\n",
       "<text text-anchor=\"start\" x=\"1178.5\" y=\"-149.3\" font-family=\"Helvetica,sans-Serif\" font-size=\"14.00\">samples = 197</text>\n",
       "<text text-anchor=\"start\" x=\"1157.5\" y=\"-134.3\" font-family=\"Helvetica,sans-Serif\" font-size=\"14.00\">value = [139, 52, 6, 0]</text>\n",
       "<text text-anchor=\"start\" x=\"1152\" y=\"-119.3\" font-family=\"Helvetica,sans-Serif\" font-size=\"14.00\">class = Bad Characters</text>\n",
       "</g>\n",
       "<!-- 20&#45;&gt;22 -->\n",
       "<g id=\"edge22\" class=\"edge\">\n",
       "<title>20&#45;&gt;22</title>\n",
       "<path fill=\"none\" stroke=\"black\" d=\"M1088.21,-222.91C1110.59,-210.49 1135.13,-196.89 1157.21,-184.64\"/>\n",
       "<polygon fill=\"black\" stroke=\"black\" points=\"1159.14,-187.58 1166.19,-179.67 1155.74,-181.46 1159.14,-187.58\"/>\n",
       "</g>\n",
       "<!-- 25 -->\n",
       "<g id=\"node26\" class=\"node\">\n",
       "<title>25</title>\n",
       "<path fill=\"#b1f4ab\" stroke=\"black\" d=\"M1568,-544C1568,-544 1378,-544 1378,-544 1372,-544 1366,-538 1366,-532 1366,-532 1366,-473 1366,-473 1366,-467 1372,-461 1378,-461 1378,-461 1568,-461 1568,-461 1574,-461 1580,-467 1580,-473 1580,-473 1580,-532 1580,-532 1580,-538 1574,-544 1568,-544\"/>\n",
       "<text text-anchor=\"start\" x=\"1374\" y=\"-528.8\" font-family=\"Helvetica,sans-Serif\" font-size=\"14.00\">FIRST APPEARANCE ≤ 446.5</text>\n",
       "<text text-anchor=\"start\" x=\"1435.5\" y=\"-513.8\" font-family=\"Helvetica,sans-Serif\" font-size=\"14.00\">gini = 0.544</text>\n",
       "<text text-anchor=\"start\" x=\"1421.5\" y=\"-498.8\" font-family=\"Helvetica,sans-Serif\" font-size=\"14.00\">samples = 1124</text>\n",
       "<text text-anchor=\"start\" x=\"1392\" y=\"-483.8\" font-family=\"Helvetica,sans-Serif\" font-size=\"14.00\">value = [336, 670, 118, 0]</text>\n",
       "<text text-anchor=\"start\" x=\"1394\" y=\"-468.8\" font-family=\"Helvetica,sans-Serif\" font-size=\"14.00\">class = Good Characters</text>\n",
       "</g>\n",
       "<!-- 24&#45;&gt;25 -->\n",
       "<g id=\"edge25\" class=\"edge\">\n",
       "<title>24&#45;&gt;25</title>\n",
       "<path fill=\"none\" stroke=\"black\" d=\"M1473,-579.91C1473,-571.65 1473,-562.86 1473,-554.3\"/>\n",
       "<polygon fill=\"black\" stroke=\"black\" points=\"1476.5,-554.02 1473,-544.02 1469.5,-554.02 1476.5,-554.02\"/>\n",
       "</g>\n",
       "<!-- 32 -->\n",
       "<g id=\"node33\" class=\"node\">\n",
       "<title>32</title>\n",
       "<path fill=\"#70eb65\" stroke=\"black\" d=\"M1760,-536.5C1760,-536.5 1610,-536.5 1610,-536.5 1604,-536.5 1598,-530.5 1598,-524.5 1598,-524.5 1598,-480.5 1598,-480.5 1598,-474.5 1604,-468.5 1610,-468.5 1610,-468.5 1760,-468.5 1760,-468.5 1766,-468.5 1772,-474.5 1772,-480.5 1772,-480.5 1772,-524.5 1772,-524.5 1772,-530.5 1766,-536.5 1760,-536.5\"/>\n",
       "<text text-anchor=\"start\" x=\"1647.5\" y=\"-521.3\" font-family=\"Helvetica,sans-Serif\" font-size=\"14.00\">gini = 0.342</text>\n",
       "<text text-anchor=\"start\" x=\"1637.5\" y=\"-506.3\" font-family=\"Helvetica,sans-Serif\" font-size=\"14.00\">samples = 179</text>\n",
       "<text text-anchor=\"start\" x=\"1612.5\" y=\"-491.3\" font-family=\"Helvetica,sans-Serif\" font-size=\"14.00\">value = [18, 143, 18, 0]</text>\n",
       "<text text-anchor=\"start\" x=\"1606\" y=\"-476.3\" font-family=\"Helvetica,sans-Serif\" font-size=\"14.00\">class = Good Characters</text>\n",
       "</g>\n",
       "<!-- 24&#45;&gt;32 -->\n",
       "<g id=\"edge32\" class=\"edge\">\n",
       "<title>24&#45;&gt;32</title>\n",
       "<path fill=\"none\" stroke=\"black\" d=\"M1546.55,-579.91C1569.05,-567.49 1593.7,-553.89 1615.88,-541.64\"/>\n",
       "<polygon fill=\"black\" stroke=\"black\" points=\"1617.84,-544.56 1624.9,-536.67 1614.46,-538.43 1617.84,-544.56\"/>\n",
       "</g>\n",
       "<!-- 26 -->\n",
       "<g id=\"node27\" class=\"node\">\n",
       "<title>26</title>\n",
       "<path fill=\"#c9f7c4\" stroke=\"black\" d=\"M1548,-425C1548,-425 1398,-425 1398,-425 1392,-425 1386,-419 1386,-413 1386,-413 1386,-354 1386,-354 1386,-348 1392,-342 1398,-342 1398,-342 1548,-342 1548,-342 1554,-342 1560,-348 1560,-354 1560,-354 1560,-413 1560,-413 1560,-419 1554,-425 1548,-425\"/>\n",
       "<text text-anchor=\"start\" x=\"1438\" y=\"-409.8\" font-family=\"Helvetica,sans-Serif\" font-size=\"14.00\">HAIR ≤ 0.5</text>\n",
       "<text text-anchor=\"start\" x=\"1435.5\" y=\"-394.8\" font-family=\"Helvetica,sans-Serif\" font-size=\"14.00\">gini = 0.576</text>\n",
       "<text text-anchor=\"start\" x=\"1425.5\" y=\"-379.8\" font-family=\"Helvetica,sans-Serif\" font-size=\"14.00\">samples = 532</text>\n",
       "<text text-anchor=\"start\" x=\"1396\" y=\"-364.8\" font-family=\"Helvetica,sans-Serif\" font-size=\"14.00\">value = [184, 287, 61, 0]</text>\n",
       "<text text-anchor=\"start\" x=\"1394\" y=\"-349.8\" font-family=\"Helvetica,sans-Serif\" font-size=\"14.00\">class = Good Characters</text>\n",
       "</g>\n",
       "<!-- 25&#45;&gt;26 -->\n",
       "<g id=\"edge26\" class=\"edge\">\n",
       "<title>25&#45;&gt;26</title>\n",
       "<path fill=\"none\" stroke=\"black\" d=\"M1473,-460.91C1473,-452.65 1473,-443.86 1473,-435.3\"/>\n",
       "<polygon fill=\"black\" stroke=\"black\" points=\"1476.5,-435.02 1473,-425.02 1469.5,-435.02 1476.5,-435.02\"/>\n",
       "</g>\n",
       "<!-- 29 -->\n",
       "<g id=\"node30\" class=\"node\">\n",
       "<title>29</title>\n",
       "<path fill=\"#9ef197\" stroke=\"black\" d=\"M1866,-425C1866,-425 1676,-425 1676,-425 1670,-425 1664,-419 1664,-413 1664,-413 1664,-354 1664,-354 1664,-348 1670,-342 1676,-342 1676,-342 1866,-342 1866,-342 1872,-342 1878,-348 1878,-354 1878,-354 1878,-413 1878,-413 1878,-419 1872,-425 1866,-425\"/>\n",
       "<text text-anchor=\"start\" x=\"1672\" y=\"-409.8\" font-family=\"Helvetica,sans-Serif\" font-size=\"14.00\">FIRST APPEARANCE ≤ 577.0</text>\n",
       "<text text-anchor=\"start\" x=\"1733.5\" y=\"-394.8\" font-family=\"Helvetica,sans-Serif\" font-size=\"14.00\">gini = 0.506</text>\n",
       "<text text-anchor=\"start\" x=\"1723.5\" y=\"-379.8\" font-family=\"Helvetica,sans-Serif\" font-size=\"14.00\">samples = 592</text>\n",
       "<text text-anchor=\"start\" x=\"1694\" y=\"-364.8\" font-family=\"Helvetica,sans-Serif\" font-size=\"14.00\">value = [152, 383, 57, 0]</text>\n",
       "<text text-anchor=\"start\" x=\"1692\" y=\"-349.8\" font-family=\"Helvetica,sans-Serif\" font-size=\"14.00\">class = Good Characters</text>\n",
       "</g>\n",
       "<!-- 25&#45;&gt;29 -->\n",
       "<g id=\"edge29\" class=\"edge\">\n",
       "<title>25&#45;&gt;29</title>\n",
       "<path fill=\"none\" stroke=\"black\" d=\"M1576.39,-460.91C1602.86,-450.52 1631.45,-439.29 1658.35,-428.73\"/>\n",
       "<polygon fill=\"black\" stroke=\"black\" points=\"1659.76,-431.93 1667.79,-425.02 1657.21,-425.42 1659.76,-431.93\"/>\n",
       "</g>\n",
       "<!-- 27 -->\n",
       "<g id=\"node28\" class=\"node\">\n",
       "<title>27</title>\n",
       "<path fill=\"#e5fbe3\" stroke=\"black\" d=\"M1462,-298.5C1462,-298.5 1312,-298.5 1312,-298.5 1306,-298.5 1300,-292.5 1300,-286.5 1300,-286.5 1300,-242.5 1300,-242.5 1300,-236.5 1306,-230.5 1312,-230.5 1312,-230.5 1462,-230.5 1462,-230.5 1468,-230.5 1474,-236.5 1474,-242.5 1474,-242.5 1474,-286.5 1474,-286.5 1474,-292.5 1468,-298.5 1462,-298.5\"/>\n",
       "<text text-anchor=\"start\" x=\"1349.5\" y=\"-283.3\" font-family=\"Helvetica,sans-Serif\" font-size=\"14.00\">gini = 0.586</text>\n",
       "<text text-anchor=\"start\" x=\"1339.5\" y=\"-268.3\" font-family=\"Helvetica,sans-Serif\" font-size=\"14.00\">samples = 262</text>\n",
       "<text text-anchor=\"start\" x=\"1310\" y=\"-253.3\" font-family=\"Helvetica,sans-Serif\" font-size=\"14.00\">value = [106, 128, 28, 0]</text>\n",
       "<text text-anchor=\"start\" x=\"1308\" y=\"-238.3\" font-family=\"Helvetica,sans-Serif\" font-size=\"14.00\">class = Good Characters</text>\n",
       "</g>\n",
       "<!-- 26&#45;&gt;27 -->\n",
       "<g id=\"edge27\" class=\"edge\">\n",
       "<title>26&#45;&gt;27</title>\n",
       "<path fill=\"none\" stroke=\"black\" d=\"M1443.16,-341.91C1434.81,-330.54 1425.72,-318.18 1417.34,-306.77\"/>\n",
       "<polygon fill=\"black\" stroke=\"black\" points=\"1420.12,-304.65 1411.38,-298.67 1414.48,-308.8 1420.12,-304.65\"/>\n",
       "</g>\n",
       "<!-- 28 -->\n",
       "<g id=\"node29\" class=\"node\">\n",
       "<title>28</title>\n",
       "<path fill=\"#b1f4ab\" stroke=\"black\" d=\"M1654,-298.5C1654,-298.5 1504,-298.5 1504,-298.5 1498,-298.5 1492,-292.5 1492,-286.5 1492,-286.5 1492,-242.5 1492,-242.5 1492,-236.5 1498,-230.5 1504,-230.5 1504,-230.5 1654,-230.5 1654,-230.5 1660,-230.5 1666,-236.5 1666,-242.5 1666,-242.5 1666,-286.5 1666,-286.5 1666,-292.5 1660,-298.5 1654,-298.5\"/>\n",
       "<text text-anchor=\"start\" x=\"1541.5\" y=\"-283.3\" font-family=\"Helvetica,sans-Serif\" font-size=\"14.00\">gini = 0.555</text>\n",
       "<text text-anchor=\"start\" x=\"1531.5\" y=\"-268.3\" font-family=\"Helvetica,sans-Serif\" font-size=\"14.00\">samples = 270</text>\n",
       "<text text-anchor=\"start\" x=\"1506.5\" y=\"-253.3\" font-family=\"Helvetica,sans-Serif\" font-size=\"14.00\">value = [78, 159, 33, 0]</text>\n",
       "<text text-anchor=\"start\" x=\"1500\" y=\"-238.3\" font-family=\"Helvetica,sans-Serif\" font-size=\"14.00\">class = Good Characters</text>\n",
       "</g>\n",
       "<!-- 26&#45;&gt;28 -->\n",
       "<g id=\"edge28\" class=\"edge\">\n",
       "<title>26&#45;&gt;28</title>\n",
       "<path fill=\"none\" stroke=\"black\" d=\"M1509.78,-341.91C1520.27,-330.32 1531.71,-317.7 1542.21,-306.11\"/>\n",
       "<polygon fill=\"black\" stroke=\"black\" points=\"1544.83,-308.43 1548.95,-298.67 1539.64,-303.73 1544.83,-308.43\"/>\n",
       "</g>\n",
       "<!-- 30 -->\n",
       "<g id=\"node31\" class=\"node\">\n",
       "<title>30</title>\n",
       "<path fill=\"#8bef82\" stroke=\"black\" d=\"M1846,-298.5C1846,-298.5 1696,-298.5 1696,-298.5 1690,-298.5 1684,-292.5 1684,-286.5 1684,-286.5 1684,-242.5 1684,-242.5 1684,-236.5 1690,-230.5 1696,-230.5 1696,-230.5 1846,-230.5 1846,-230.5 1852,-230.5 1858,-236.5 1858,-242.5 1858,-242.5 1858,-286.5 1858,-286.5 1858,-292.5 1852,-298.5 1846,-298.5\"/>\n",
       "<text text-anchor=\"start\" x=\"1733.5\" y=\"-283.3\" font-family=\"Helvetica,sans-Serif\" font-size=\"14.00\">gini = 0.444</text>\n",
       "<text text-anchor=\"start\" x=\"1723.5\" y=\"-268.3\" font-family=\"Helvetica,sans-Serif\" font-size=\"14.00\">samples = 317</text>\n",
       "<text text-anchor=\"start\" x=\"1698.5\" y=\"-253.3\" font-family=\"Helvetica,sans-Serif\" font-size=\"14.00\">value = [68, 225, 24, 0]</text>\n",
       "<text text-anchor=\"start\" x=\"1692\" y=\"-238.3\" font-family=\"Helvetica,sans-Serif\" font-size=\"14.00\">class = Good Characters</text>\n",
       "</g>\n",
       "<!-- 29&#45;&gt;30 -->\n",
       "<g id=\"edge30\" class=\"edge\">\n",
       "<title>29&#45;&gt;30</title>\n",
       "<path fill=\"none\" stroke=\"black\" d=\"M1771,-341.91C1771,-331.2 1771,-319.62 1771,-308.78\"/>\n",
       "<polygon fill=\"black\" stroke=\"black\" points=\"1774.5,-308.67 1771,-298.67 1767.5,-308.67 1774.5,-308.67\"/>\n",
       "</g>\n",
       "<!-- 31 -->\n",
       "<g id=\"node32\" class=\"node\">\n",
       "<title>31</title>\n",
       "<path fill=\"#b8f5b2\" stroke=\"black\" d=\"M2038,-298.5C2038,-298.5 1888,-298.5 1888,-298.5 1882,-298.5 1876,-292.5 1876,-286.5 1876,-286.5 1876,-242.5 1876,-242.5 1876,-236.5 1882,-230.5 1888,-230.5 1888,-230.5 2038,-230.5 2038,-230.5 2044,-230.5 2050,-236.5 2050,-242.5 2050,-242.5 2050,-286.5 2050,-286.5 2050,-292.5 2044,-298.5 2038,-298.5\"/>\n",
       "<text text-anchor=\"start\" x=\"1925.5\" y=\"-283.3\" font-family=\"Helvetica,sans-Serif\" font-size=\"14.00\">gini = 0.562</text>\n",
       "<text text-anchor=\"start\" x=\"1915.5\" y=\"-268.3\" font-family=\"Helvetica,sans-Serif\" font-size=\"14.00\">samples = 275</text>\n",
       "<text text-anchor=\"start\" x=\"1890.5\" y=\"-253.3\" font-family=\"Helvetica,sans-Serif\" font-size=\"14.00\">value = [84, 158, 33, 0]</text>\n",
       "<text text-anchor=\"start\" x=\"1884\" y=\"-238.3\" font-family=\"Helvetica,sans-Serif\" font-size=\"14.00\">class = Good Characters</text>\n",
       "</g>\n",
       "<!-- 29&#45;&gt;31 -->\n",
       "<g id=\"edge31\" class=\"edge\">\n",
       "<title>29&#45;&gt;31</title>\n",
       "<path fill=\"none\" stroke=\"black\" d=\"M1837.61,-341.91C1857.8,-329.6 1879.91,-316.13 1899.87,-303.97\"/>\n",
       "<polygon fill=\"black\" stroke=\"black\" points=\"1901.85,-306.86 1908.57,-298.67 1898.21,-300.88 1901.85,-306.86\"/>\n",
       "</g>\n",
       "</g>\n",
       "</svg>\n"
      ],
      "text/plain": [
       "<graphviz.sources.Source at 0x136924407f0>"
      ]
     },
     "execution_count": 14,
     "metadata": {},
     "output_type": "execute_result"
    }
   ],
   "source": [
    "dot_data = export_graphviz(tree, out_file=None,\n",
    "                           feature_names=list(data_X.columns),\n",
    "                           class_names=list(le.classes_),\n",
    "                           filled=True, rounded=True, special_characters=True)\n",
    "graph = graphviz.Source(dot_data)\n",
    "graph"
   ]
  },
  {
   "cell_type": "markdown",
   "metadata": {},
   "source": [
    "## Градиентный бустинг"
   ]
  },
  {
   "cell_type": "code",
   "execution_count": 15,
   "metadata": {
    "pycharm": {
     "name": "#%%\n"
    }
   },
   "outputs": [
    {
     "name": "stderr",
     "output_type": "stream",
     "text": [
      "D:\\Stud\\6 term\\TMO_BMSTU_22\\venv\\lib\\site-packages\\sklearn\\model_selection\\_split.py:676: UserWarning: The least populated class in y has only 2 members, which is less than n_splits=5.\n",
      "  warnings.warn(\n"
     ]
    },
    {
     "data": {
      "text/plain": [
       "({'learning_rate': 0.12,\n",
       "  'max_depth': 7,\n",
       "  'min_child_weight': 5,\n",
       "  'n_estimators': 15},\n",
       " 0.615038660707952)"
      ]
     },
     "execution_count": 15,
     "metadata": {},
     "output_type": "execute_result"
    }
   ],
   "source": [
    "xgb_model = xgb.XGBClassifier()\n",
    "xgb_params = {'learning_rate': [0.01, 0.05, 0.1, 0.12, 0.15, 0.2, 0.3, 0.5, 0.7],\n",
    "              'max_depth': [5, 6, 7, 8],\n",
    "              'min_child_weight': [2, 3, 5, 11],\n",
    "              'n_estimators': [1, 2, 5, 10, 12, 15, 20]}\n",
    "\n",
    "xgb_search = GridSearchCV(estimator=xgb_model, param_grid=xgb_params, cv=5, n_jobs=4, scoring='accuracy')\n",
    "xgb_search.fit(train_X, train_y)\n",
    "xgb_search.best_params_, xgb_search.best_score_"
   ]
  },
  {
   "cell_type": "code",
   "execution_count": 16,
   "metadata": {
    "pycharm": {
     "name": "#%%\n"
    }
   },
   "outputs": [
    {
     "data": {
      "text/plain": [
       "0.6158001350438893"
      ]
     },
     "execution_count": 16,
     "metadata": {},
     "output_type": "execute_result"
    },
    {
     "data": {
      "image/png": "[encoded data removed]",
      "text/plain": [
       "<Figure size 720x720 with 2 Axes>"
      ]
     },
     "metadata": {
      "needs_background": "light"
     },
     "output_type": "display_data"
    }
   ],
   "source": [
    "xgb_class: xgb.XGBClassifier = xgb_search.best_estimator_\n",
    "xgb_class.fit(train_X, train_y)\n",
    "xgb_pred = xgb_class.predict(test_X)\n",
    "fig, ax = plt.subplots(figsize=(10, 10))\n",
    "ConfusionMatrixDisplay.from_predictions(test_y, xgb_pred, ax=ax, cmap='Greens', display_labels=le.classes_)\n",
    "accuracy_score(xgb_pred, test_y)"
   ]
  },
  {
   "cell_type": "markdown",
   "metadata": {},
   "source": [
    "Градиентный бустинг получился точнее, чем дерево решений, но при этом все равно ошибается при определении классов Neutral Characters и Reformed Criminals"
   ]
  },
  {
   "cell_type": "code",
   "execution_count": 16,
   "metadata": {
    "pycharm": {
     "name": "#%%\n"
    }
   },
   "outputs": [],
   "source": []
  }
 ],
 "metadata": {
  "kernelspec": {
   "display_name": "Python 3 (ipykernel)",
   "language": "python",
   "name": "python3"
  },
  "language_info": {
   "codemirror_mode": {
    "name": "ipython",
    "version": 3
   },
   "file_extension": ".py",
   "mimetype": "text/x-python",
   "name": "python",
   "nbconvert_exporter": "python",
   "pygments_lexer": "ipython3",
   "version": "3.9.7"
  }
 },
 "nbformat": 4,
 "nbformat_minor": 1
}