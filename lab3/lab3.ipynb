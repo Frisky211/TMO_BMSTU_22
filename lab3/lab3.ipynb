{
 "cells": [
  {
   "cell_type": "markdown",
   "source": [
    "# Лабораторная работа №3\n",
    "## Подготовка обучающей и тестовой выборки, кросс-валидация и подбор гиперпараметров на примере метода ближайших соседей\n",
    "## Выполнил Плешаков Владислав, РТ5-61Б\n",
    "### Задание\n",
    "1. Выберите набор данных (датасет) для решения задачи классификации или регрессии.\n",
    "2. С использованием метода train_test_split разделите выборку на обучающую и тестовую.\n",
    "3. Обучите модель ближайших соседей для произвольно заданного гиперпараметра K. Оцените качество модели с помощью подходящих для задачи метрик.\n",
    "4. Произведите подбор гиперпараметра K с использованием GridSearchCV и/или RandomizedSearchCV и кросс-валидации, оцените качество оптимальной модели. Желательно использование нескольких стратегий кросс-валидации.\n",
    "5. Сравните метрики качества исходной и оптимальной моделей.\n",
    "\n",
    "Датасет: https://www.kaggle.com/datasets/vicsuperman/prediction-of-music-genre"
   ],
   "metadata": {
    "collapsed": false
   }
  },
  {
   "cell_type": "code",
   "execution_count": 1,
   "metadata": {
    "collapsed": true
   },
   "outputs": [],
   "source": [
    "import numpy as np\n",
    "import pandas as pd\n",
    "import matplotlib.pyplot as plt\n",
    "from typing import Dict"
   ]
  },
  {
   "cell_type": "code",
   "execution_count": 2,
   "outputs": [],
   "source": [
    "data = pd.read_csv('data/music_genre.csv', sep=',')"
   ],
   "metadata": {
    "collapsed": false,
    "pycharm": {
     "name": "#%%\n"
    }
   }
  },
  {
   "cell_type": "markdown",
   "source": [
    "## Общая информация о датасете"
   ],
   "metadata": {
    "collapsed": false
   }
  },
  {
   "cell_type": "code",
   "execution_count": 3,
   "outputs": [
    {
     "data": {
      "text/plain": "   instance_id           artist_name            track_name  popularity  \\\n0      32894.0              Röyksopp  Röyksopp's Night Out        27.0   \n1      46652.0  Thievery Corporation      The Shining Path        31.0   \n2      30097.0        Dillon Francis             Hurricane        28.0   \n3      62177.0              Dubloadz                 Nitro        34.0   \n4      24907.0           What So Not      Divide & Conquer        32.0   \n5      89064.0            Axel Boman                 Hello        47.0   \n6      43760.0        Jordan Comolli                 Clash        46.0   \n7      30738.0                Hraach               Delirio        43.0   \n8      84950.0                 Kayzo           NEVER ALONE        39.0   \n9      56950.0                Shlump            Lazer Beam        22.0   \n\n   acousticness  danceability  duration_ms  energy  instrumentalness key  \\\n0       0.00468         0.652         -1.0   0.941          0.792000  A#   \n1       0.01270         0.622     218293.0   0.890          0.950000   D   \n2       0.00306         0.620     215613.0   0.755          0.011800  G#   \n3       0.02540         0.774     166875.0   0.700          0.002530  C#   \n4       0.00465         0.638     222369.0   0.587          0.909000  F#   \n5       0.00523         0.755     519468.0   0.731          0.854000   D   \n6       0.02890         0.572     214408.0   0.803          0.000008   B   \n7       0.02970         0.809     416132.0   0.706          0.903000   G   \n8       0.00299         0.509     292800.0   0.921          0.000276   F   \n9       0.00934         0.578     204800.0   0.731          0.011200   A   \n\n   liveness  loudness   mode  speechiness               tempo obtained_date  \\\n0    0.1150    -5.201  Minor       0.0748             100.889         4-Apr   \n1    0.1240    -7.043  Minor       0.0300  115.00200000000001         4-Apr   \n2    0.5340    -4.617  Major       0.0345             127.994         4-Apr   \n3    0.1570    -4.498  Major       0.2390             128.014         4-Apr   \n4    0.1570    -6.266  Major       0.0413             145.036         4-Apr   \n5    0.2160   -10.517  Minor       0.0412                   ?         4-Apr   \n6    0.1060    -4.294  Major       0.3510             149.995         4-Apr   \n7    0.0635    -9.339  Minor       0.0484             120.008         4-Apr   \n8    0.1780    -3.175  Minor       0.2680  149.94799999999998         4-Apr   \n9    0.1110    -7.091  Minor       0.1730             139.933         4-Apr   \n\n   valence music_genre  \n0    0.759  Electronic  \n1    0.531  Electronic  \n2    0.333  Electronic  \n3    0.270  Electronic  \n4    0.323  Electronic  \n5    0.614  Electronic  \n6    0.230  Electronic  \n7    0.761  Electronic  \n8    0.273  Electronic  \n9    0.203  Electronic  ",
      "text/html": "<div>\n<style scoped>\n    .dataframe tbody tr th:only-of-type {\n        vertical-align: middle;\n    }\n\n    .dataframe tbody tr th {\n        vertical-align: top;\n    }\n\n    .dataframe thead th {\n        text-align: right;\n    }\n</style>\n<table border=\"1\" class=\"dataframe\">\n  <thead>\n    <tr style=\"text-align: right;\">\n      <th></th>\n      <th>instance_id</th>\n      <th>artist_name</th>\n      <th>track_name</th>\n      <th>popularity</th>\n      <th>acousticness</th>\n      <th>danceability</th>\n      <th>duration_ms</th>\n      <th>energy</th>\n      <th>instrumentalness</th>\n      <th>key</th>\n      <th>liveness</th>\n      <th>loudness</th>\n      <th>mode</th>\n      <th>speechiness</th>\n      <th>tempo</th>\n      <th>obtained_date</th>\n      <th>valence</th>\n      <th>music_genre</th>\n    </tr>\n  </thead>\n  <tbody>\n    <tr>\n      <th>0</th>\n      <td>32894.0</td>\n      <td>Röyksopp</td>\n      <td>Röyksopp's Night Out</td>\n      <td>27.0</td>\n      <td>0.00468</td>\n      <td>0.652</td>\n      <td>-1.0</td>\n      <td>0.941</td>\n      <td>0.792000</td>\n      <td>A#</td>\n      <td>0.1150</td>\n      <td>-5.201</td>\n      <td>Minor</td>\n      <td>0.0748</td>\n      <td>100.889</td>\n      <td>4-Apr</td>\n      <td>0.759</td>\n      <td>Electronic</td>\n    </tr>\n    <tr>\n      <th>1</th>\n      <td>46652.0</td>\n      <td>Thievery Corporation</td>\n      <td>The Shining Path</td>\n      <td>31.0</td>\n      <td>0.01270</td>\n      <td>0.622</td>\n      <td>218293.0</td>\n      <td>0.890</td>\n      <td>0.950000</td>\n      <td>D</td>\n      <td>0.1240</td>\n      <td>-7.043</td>\n      <td>Minor</td>\n      <td>0.0300</td>\n      <td>115.00200000000001</td>\n      <td>4-Apr</td>\n      <td>0.531</td>\n      <td>Electronic</td>\n    </tr>\n    <tr>\n      <th>2</th>\n      <td>30097.0</td>\n      <td>Dillon Francis</td>\n      <td>Hurricane</td>\n      <td>28.0</td>\n      <td>0.00306</td>\n      <td>0.620</td>\n      <td>215613.0</td>\n      <td>0.755</td>\n      <td>0.011800</td>\n      <td>G#</td>\n      <td>0.5340</td>\n      <td>-4.617</td>\n      <td>Major</td>\n      <td>0.0345</td>\n      <td>127.994</td>\n      <td>4-Apr</td>\n      <td>0.333</td>\n      <td>Electronic</td>\n    </tr>\n    <tr>\n      <th>3</th>\n      <td>62177.0</td>\n      <td>Dubloadz</td>\n      <td>Nitro</td>\n      <td>34.0</td>\n      <td>0.02540</td>\n      <td>0.774</td>\n      <td>166875.0</td>\n      <td>0.700</td>\n      <td>0.002530</td>\n      <td>C#</td>\n      <td>0.1570</td>\n      <td>-4.498</td>\n      <td>Major</td>\n      <td>0.2390</td>\n      <td>128.014</td>\n      <td>4-Apr</td>\n      <td>0.270</td>\n      <td>Electronic</td>\n    </tr>\n    <tr>\n      <th>4</th>\n      <td>24907.0</td>\n      <td>What So Not</td>\n      <td>Divide &amp; Conquer</td>\n      <td>32.0</td>\n      <td>0.00465</td>\n      <td>0.638</td>\n      <td>222369.0</td>\n      <td>0.587</td>\n      <td>0.909000</td>\n      <td>F#</td>\n      <td>0.1570</td>\n      <td>-6.266</td>\n      <td>Major</td>\n      <td>0.0413</td>\n      <td>145.036</td>\n      <td>4-Apr</td>\n      <td>0.323</td>\n      <td>Electronic</td>\n    </tr>\n    <tr>\n      <th>5</th>\n      <td>89064.0</td>\n      <td>Axel Boman</td>\n      <td>Hello</td>\n      <td>47.0</td>\n      <td>0.00523</td>\n      <td>0.755</td>\n      <td>519468.0</td>\n      <td>0.731</td>\n      <td>0.854000</td>\n      <td>D</td>\n      <td>0.2160</td>\n      <td>-10.517</td>\n      <td>Minor</td>\n      <td>0.0412</td>\n      <td>?</td>\n      <td>4-Apr</td>\n      <td>0.614</td>\n      <td>Electronic</td>\n    </tr>\n    <tr>\n      <th>6</th>\n      <td>43760.0</td>\n      <td>Jordan Comolli</td>\n      <td>Clash</td>\n      <td>46.0</td>\n      <td>0.02890</td>\n      <td>0.572</td>\n      <td>214408.0</td>\n      <td>0.803</td>\n      <td>0.000008</td>\n      <td>B</td>\n      <td>0.1060</td>\n      <td>-4.294</td>\n      <td>Major</td>\n      <td>0.3510</td>\n      <td>149.995</td>\n      <td>4-Apr</td>\n      <td>0.230</td>\n      <td>Electronic</td>\n    </tr>\n    <tr>\n      <th>7</th>\n      <td>30738.0</td>\n      <td>Hraach</td>\n      <td>Delirio</td>\n      <td>43.0</td>\n      <td>0.02970</td>\n      <td>0.809</td>\n      <td>416132.0</td>\n      <td>0.706</td>\n      <td>0.903000</td>\n      <td>G</td>\n      <td>0.0635</td>\n      <td>-9.339</td>\n      <td>Minor</td>\n      <td>0.0484</td>\n      <td>120.008</td>\n      <td>4-Apr</td>\n      <td>0.761</td>\n      <td>Electronic</td>\n    </tr>\n    <tr>\n      <th>8</th>\n      <td>84950.0</td>\n      <td>Kayzo</td>\n      <td>NEVER ALONE</td>\n      <td>39.0</td>\n      <td>0.00299</td>\n      <td>0.509</td>\n      <td>292800.0</td>\n      <td>0.921</td>\n      <td>0.000276</td>\n      <td>F</td>\n      <td>0.1780</td>\n      <td>-3.175</td>\n      <td>Minor</td>\n      <td>0.2680</td>\n      <td>149.94799999999998</td>\n      <td>4-Apr</td>\n      <td>0.273</td>\n      <td>Electronic</td>\n    </tr>\n    <tr>\n      <th>9</th>\n      <td>56950.0</td>\n      <td>Shlump</td>\n      <td>Lazer Beam</td>\n      <td>22.0</td>\n      <td>0.00934</td>\n      <td>0.578</td>\n      <td>204800.0</td>\n      <td>0.731</td>\n      <td>0.011200</td>\n      <td>A</td>\n      <td>0.1110</td>\n      <td>-7.091</td>\n      <td>Minor</td>\n      <td>0.1730</td>\n      <td>139.933</td>\n      <td>4-Apr</td>\n      <td>0.203</td>\n      <td>Electronic</td>\n    </tr>\n  </tbody>\n</table>\n</div>"
     },
     "execution_count": 3,
     "metadata": {},
     "output_type": "execute_result"
    }
   ],
   "source": [
    "data.head(10)"
   ],
   "metadata": {
    "collapsed": false,
    "pycharm": {
     "name": "#%%\n"
    }
   }
  },
  {
   "cell_type": "code",
   "execution_count": 4,
   "outputs": [
    {
     "data": {
      "text/plain": "        instance_id    popularity  acousticness  danceability   duration_ms  \\\ncount  50000.000000  50000.000000  50000.000000  50000.000000  5.000000e+04   \nmean   55888.396360     44.220420      0.306383      0.558241  2.212526e+05   \nstd    20725.256253     15.542008      0.341340      0.178632  1.286720e+05   \nmin    20002.000000      0.000000      0.000000      0.059600 -1.000000e+00   \n25%    37973.500000     34.000000      0.020000      0.442000  1.748000e+05   \n50%    55913.500000     45.000000      0.144000      0.568000  2.192810e+05   \n75%    73863.250000     56.000000      0.552000      0.687000  2.686122e+05   \nmax    91759.000000     99.000000      0.996000      0.986000  4.830606e+06   \n\n             energy  instrumentalness      liveness      loudness  \\\ncount  50000.000000      50000.000000  50000.000000  50000.000000   \nmean       0.599755          0.181601      0.193896     -9.133761   \nstd        0.264559          0.325409      0.161637      6.162990   \nmin        0.000792          0.000000      0.009670    -47.046000   \n25%        0.433000          0.000000      0.096900    -10.860000   \n50%        0.643000          0.000158      0.126000     -7.276500   \n75%        0.815000          0.155000      0.244000     -5.173000   \nmax        0.999000          0.996000      1.000000      3.744000   \n\n        speechiness       valence  \ncount  50000.000000  50000.000000  \nmean       0.093586      0.456264  \nstd        0.101373      0.247119  \nmin        0.022300      0.000000  \n25%        0.036100      0.257000  \n50%        0.048900      0.448000  \n75%        0.098525      0.648000  \nmax        0.942000      0.992000  ",
      "text/html": "<div>\n<style scoped>\n    .dataframe tbody tr th:only-of-type {\n        vertical-align: middle;\n    }\n\n    .dataframe tbody tr th {\n        vertical-align: top;\n    }\n\n    .dataframe thead th {\n        text-align: right;\n    }\n</style>\n<table border=\"1\" class=\"dataframe\">\n  <thead>\n    <tr style=\"text-align: right;\">\n      <th></th>\n      <th>instance_id</th>\n      <th>popularity</th>\n      <th>acousticness</th>\n      <th>danceability</th>\n      <th>duration_ms</th>\n      <th>energy</th>\n      <th>instrumentalness</th>\n      <th>liveness</th>\n      <th>loudness</th>\n      <th>speechiness</th>\n      <th>valence</th>\n    </tr>\n  </thead>\n  <tbody>\n    <tr>\n      <th>count</th>\n      <td>50000.000000</td>\n      <td>50000.000000</td>\n      <td>50000.000000</td>\n      <td>50000.000000</td>\n      <td>5.000000e+04</td>\n      <td>50000.000000</td>\n      <td>50000.000000</td>\n      <td>50000.000000</td>\n      <td>50000.000000</td>\n      <td>50000.000000</td>\n      <td>50000.000000</td>\n    </tr>\n    <tr>\n      <th>mean</th>\n      <td>55888.396360</td>\n      <td>44.220420</td>\n      <td>0.306383</td>\n      <td>0.558241</td>\n      <td>2.212526e+05</td>\n      <td>0.599755</td>\n      <td>0.181601</td>\n      <td>0.193896</td>\n      <td>-9.133761</td>\n      <td>0.093586</td>\n      <td>0.456264</td>\n    </tr>\n    <tr>\n      <th>std</th>\n      <td>20725.256253</td>\n      <td>15.542008</td>\n      <td>0.341340</td>\n      <td>0.178632</td>\n      <td>1.286720e+05</td>\n      <td>0.264559</td>\n      <td>0.325409</td>\n      <td>0.161637</td>\n      <td>6.162990</td>\n      <td>0.101373</td>\n      <td>0.247119</td>\n    </tr>\n    <tr>\n      <th>min</th>\n      <td>20002.000000</td>\n      <td>0.000000</td>\n      <td>0.000000</td>\n      <td>0.059600</td>\n      <td>-1.000000e+00</td>\n      <td>0.000792</td>\n      <td>0.000000</td>\n      <td>0.009670</td>\n      <td>-47.046000</td>\n      <td>0.022300</td>\n      <td>0.000000</td>\n    </tr>\n    <tr>\n      <th>25%</th>\n      <td>37973.500000</td>\n      <td>34.000000</td>\n      <td>0.020000</td>\n      <td>0.442000</td>\n      <td>1.748000e+05</td>\n      <td>0.433000</td>\n      <td>0.000000</td>\n      <td>0.096900</td>\n      <td>-10.860000</td>\n      <td>0.036100</td>\n      <td>0.257000</td>\n    </tr>\n    <tr>\n      <th>50%</th>\n      <td>55913.500000</td>\n      <td>45.000000</td>\n      <td>0.144000</td>\n      <td>0.568000</td>\n      <td>2.192810e+05</td>\n      <td>0.643000</td>\n      <td>0.000158</td>\n      <td>0.126000</td>\n      <td>-7.276500</td>\n      <td>0.048900</td>\n      <td>0.448000</td>\n    </tr>\n    <tr>\n      <th>75%</th>\n      <td>73863.250000</td>\n      <td>56.000000</td>\n      <td>0.552000</td>\n      <td>0.687000</td>\n      <td>2.686122e+05</td>\n      <td>0.815000</td>\n      <td>0.155000</td>\n      <td>0.244000</td>\n      <td>-5.173000</td>\n      <td>0.098525</td>\n      <td>0.648000</td>\n    </tr>\n    <tr>\n      <th>max</th>\n      <td>91759.000000</td>\n      <td>99.000000</td>\n      <td>0.996000</td>\n      <td>0.986000</td>\n      <td>4.830606e+06</td>\n      <td>0.999000</td>\n      <td>0.996000</td>\n      <td>1.000000</td>\n      <td>3.744000</td>\n      <td>0.942000</td>\n      <td>0.992000</td>\n    </tr>\n  </tbody>\n</table>\n</div>"
     },
     "execution_count": 4,
     "metadata": {},
     "output_type": "execute_result"
    }
   ],
   "source": [
    "data.describe()"
   ],
   "metadata": {
    "collapsed": false,
    "pycharm": {
     "name": "#%%\n"
    }
   }
  },
  {
   "cell_type": "code",
   "execution_count": 5,
   "outputs": [
    {
     "data": {
      "text/plain": "(50000, 18)"
     },
     "execution_count": 5,
     "metadata": {},
     "output_type": "execute_result"
    }
   ],
   "source": [
    "data.shape"
   ],
   "metadata": {
    "collapsed": false,
    "pycharm": {
     "name": "#%%\n"
    }
   }
  },
  {
   "cell_type": "code",
   "execution_count": 6,
   "outputs": [
    {
     "data": {
      "text/plain": "instance_id         0\nartist_name         0\ntrack_name          0\npopularity          0\nacousticness        0\ndanceability        0\nduration_ms         0\nenergy              0\ninstrumentalness    0\nkey                 0\nliveness            0\nloudness            0\nmode                0\nspeechiness         0\ntempo               0\nobtained_date       0\nvalence             0\nmusic_genre         0\ndtype: int64"
     },
     "execution_count": 6,
     "metadata": {},
     "output_type": "execute_result"
    }
   ],
   "source": [
    "data.isnull().sum()"
   ],
   "metadata": {
    "collapsed": false,
    "pycharm": {
     "name": "#%%\n"
    }
   }
  },
  {
   "cell_type": "code",
   "execution_count": 7,
   "outputs": [
    {
     "data": {
      "text/plain": "instance_id         float64\nartist_name          object\ntrack_name           object\npopularity          float64\nacousticness        float64\ndanceability        float64\nduration_ms         float64\nenergy              float64\ninstrumentalness    float64\nkey                  object\nliveness            float64\nloudness            float64\nmode                 object\nspeechiness         float64\ntempo                object\nobtained_date        object\nvalence             float64\nmusic_genre          object\ndtype: object"
     },
     "execution_count": 7,
     "metadata": {},
     "output_type": "execute_result"
    }
   ],
   "source": [
    "data.dtypes"
   ],
   "metadata": {
    "collapsed": false,
    "pycharm": {
     "name": "#%%\n"
    }
   }
  },
  {
   "cell_type": "code",
   "execution_count": 8,
   "outputs": [
    {
     "name": "stdout",
     "output_type": "stream",
     "text": [
      "Класс Electronic. Процент 10.0%\n",
      "Класс Anime. Процент 10.0%\n",
      "Класс Jazz. Процент 10.0%\n",
      "Класс Alternative. Процент 10.0%\n",
      "Класс Country. Процент 10.0%\n",
      "Класс Rap. Процент 10.0%\n",
      "Класс Blues. Процент 10.0%\n",
      "Класс Rock. Процент 10.0%\n",
      "Класс Classical. Процент 10.0%\n",
      "Класс Hip-Hop. Процент 10.0%\n"
     ]
    }
   ],
   "source": [
    "# Посмотрим на соотношение классов целевого признака\n",
    "for cls in pd.unique(data['music_genre'], ):\n",
    "    print(f'Класс {cls}. Процент {data[data[\"music_genre\"] == str(cls)].shape[0]/data.shape[0] * 100}%')"
   ],
   "metadata": {
    "collapsed": false,
    "pycharm": {
     "name": "#%%\n"
    }
   }
  },
  {
   "cell_type": "markdown",
   "source": [
    "## Предобработка данных"
   ],
   "metadata": {
    "collapsed": false
   }
  },
  {
   "cell_type": "markdown",
   "source": [
    "### Заполнение пропусков"
   ],
   "metadata": {
    "collapsed": false
   }
  },
  {
   "cell_type": "markdown",
   "source": [
    "Колонка tempo должна иметь тип float64, но из-за того что отсутствующие значения заполнили занаками вопроса, она имеет тип object. Исправим это"
   ],
   "metadata": {
    "collapsed": false
   }
  },
  {
   "cell_type": "code",
   "execution_count": 9,
   "outputs": [
    {
     "data": {
      "text/plain": "instance_id         float64\nartist_name          object\ntrack_name           object\npopularity          float64\nacousticness        float64\ndanceability        float64\nduration_ms         float64\nenergy              float64\ninstrumentalness    float64\nkey                  object\nliveness            float64\nloudness            float64\nmode                 object\nspeechiness         float64\ntempo               float64\nobtained_date        object\nvalence             float64\nmusic_genre          object\ndtype: object"
     },
     "execution_count": 9,
     "metadata": {},
     "output_type": "execute_result"
    }
   ],
   "source": [
    "data['tempo'] = pd.to_numeric(data['tempo'], errors='coerce')  # errors='coerce' заполняет ошибки NaN\n",
    "data.dtypes"
   ],
   "metadata": {
    "collapsed": false,
    "pycharm": {
     "name": "#%%\n"
    }
   }
  },
  {
   "cell_type": "markdown",
   "source": [
    "Заполним пропуски в колонке tempo"
   ],
   "metadata": {
    "collapsed": false
   }
  },
  {
   "cell_type": "code",
   "execution_count": 10,
   "outputs": [
    {
     "data": {
      "text/plain": "5        119.879\n32       119.879\n35       119.879\n36       119.879\n39       119.879\n          ...   \n49913    119.879\n49959    119.879\n49962    119.879\n49971    119.879\n49972    119.879\nName: tempo, Length: 4980, dtype: float64"
     },
     "execution_count": 10,
     "metadata": {},
     "output_type": "execute_result"
    }
   ],
   "source": [
    "from sklearn.impute import SimpleImputer, MissingIndicator\n",
    "indicator = MissingIndicator()\n",
    "missing_tempo = indicator.fit_transform(data[['tempo']])\n",
    "\n",
    "imp_tempo = SimpleImputer(strategy='median')\n",
    "data[['tempo']] = imp_tempo.fit_transform(data[['tempo']])\n",
    "data[missing_tempo]['tempo']"
   ],
   "metadata": {
    "collapsed": false,
    "pycharm": {
     "name": "#%%\n"
    }
   }
  },
  {
   "cell_type": "markdown",
   "source": [
    "Также пропуски были обнаружены в колонке duration_ms. Они были записаны как -1"
   ],
   "metadata": {
    "collapsed": false
   }
  },
  {
   "cell_type": "code",
   "execution_count": 11,
   "outputs": [
    {
     "data": {
      "text/plain": "   duration_ms\n0          NaN\n1     218293.0\n2     215613.0\n3     166875.0\n4     222369.0",
      "text/html": "<div>\n<style scoped>\n    .dataframe tbody tr th:only-of-type {\n        vertical-align: middle;\n    }\n\n    .dataframe tbody tr th {\n        vertical-align: top;\n    }\n\n    .dataframe thead th {\n        text-align: right;\n    }\n</style>\n<table border=\"1\" class=\"dataframe\">\n  <thead>\n    <tr style=\"text-align: right;\">\n      <th></th>\n      <th>duration_ms</th>\n    </tr>\n  </thead>\n  <tbody>\n    <tr>\n      <th>0</th>\n      <td>NaN</td>\n    </tr>\n    <tr>\n      <th>1</th>\n      <td>218293.0</td>\n    </tr>\n    <tr>\n      <th>2</th>\n      <td>215613.0</td>\n    </tr>\n    <tr>\n      <th>3</th>\n      <td>166875.0</td>\n    </tr>\n    <tr>\n      <th>4</th>\n      <td>222369.0</td>\n    </tr>\n  </tbody>\n</table>\n</div>"
     },
     "execution_count": 11,
     "metadata": {},
     "output_type": "execute_result"
    }
   ],
   "source": [
    "data_dur = data[['duration_ms']].copy()\n",
    "data_dur[data_dur['duration_ms'] == -1] = np.nan\n",
    "data_dur.head()"
   ],
   "metadata": {
    "collapsed": false,
    "pycharm": {
     "name": "#%%\n"
    }
   }
  },
  {
   "cell_type": "markdown",
   "source": [
    "Теперь заполним эти пропуски"
   ],
   "metadata": {
    "collapsed": false
   }
  },
  {
   "cell_type": "code",
   "execution_count": 12,
   "outputs": [
    {
     "data": {
      "text/plain": "0        227360.0\n13       227360.0\n16       227360.0\n24       227360.0\n35       227360.0\n           ...   \n49951    227360.0\n49964    227360.0\n49974    227360.0\n49976    227360.0\n49995    227360.0\nName: duration_ms, Length: 4939, dtype: float64"
     },
     "execution_count": 12,
     "metadata": {},
     "output_type": "execute_result"
    }
   ],
   "source": [
    "indicator = MissingIndicator()\n",
    "missing_duration = indicator.fit_transform(data_dur[['duration_ms']])\n",
    "\n",
    "imp_duration = SimpleImputer(strategy='median')\n",
    "data[['duration_ms']] = imp_duration.fit_transform(data_dur[['duration_ms']])\n",
    "data[missing_duration]['duration_ms']"
   ],
   "metadata": {
    "collapsed": false,
    "pycharm": {
     "name": "#%%\n"
    }
   }
  },
  {
   "cell_type": "markdown",
   "source": [
    "### Кодирование категориальных атрибутов"
   ],
   "metadata": {
    "collapsed": false
   }
  },
  {
   "cell_type": "markdown",
   "source": [
    "Для корректной работы алгоритма необходимо закодировать категориальные признаки"
   ],
   "metadata": {
    "collapsed": false
   }
  },
  {
   "cell_type": "code",
   "execution_count": 13,
   "outputs": [],
   "source": [
    "data: pd.DataFrame = data.drop(columns=['obtained_date', 'track_name', 'instance_id'])"
   ],
   "metadata": {
    "collapsed": false,
    "pycharm": {
     "name": "#%%\n"
    }
   }
  },
  {
   "cell_type": "code",
   "execution_count": 14,
   "outputs": [
    {
     "data": {
      "text/plain": "   artist_name  popularity  acousticness  danceability  duration_ms  energy  \\\n0       5029.0        27.0       0.00468         0.652     227360.0   0.941   \n1       6117.0        31.0       0.01270         0.622     218293.0   0.890   \n2       1591.0        28.0       0.00306         0.620     215613.0   0.755   \n3       1707.0        34.0       0.02540         0.774     166875.0   0.700   \n4       6519.0        32.0       0.00465         0.638     222369.0   0.587   \n\n   instrumentalness   key  liveness  loudness  speechiness    tempo  valence  \\\n0           0.79200   1.0     0.115    -5.201       0.0748  100.889    0.759   \n1           0.95000   5.0     0.124    -7.043       0.0300  115.002    0.531   \n2           0.01180  11.0     0.534    -4.617       0.0345  127.994    0.333   \n3           0.00253   4.0     0.157    -4.498       0.2390  128.014    0.270   \n4           0.90900   9.0     0.157    -6.266       0.0413  145.036    0.323   \n\n   music_genre  mode_Major  mode_Minor  \n0            5           0           1  \n1            5           0           1  \n2            5           1           0  \n3            5           1           0  \n4            5           1           0  ",
      "text/html": "<div>\n<style scoped>\n    .dataframe tbody tr th:only-of-type {\n        vertical-align: middle;\n    }\n\n    .dataframe tbody tr th {\n        vertical-align: top;\n    }\n\n    .dataframe thead th {\n        text-align: right;\n    }\n</style>\n<table border=\"1\" class=\"dataframe\">\n  <thead>\n    <tr style=\"text-align: right;\">\n      <th></th>\n      <th>artist_name</th>\n      <th>popularity</th>\n      <th>acousticness</th>\n      <th>danceability</th>\n      <th>duration_ms</th>\n      <th>energy</th>\n      <th>instrumentalness</th>\n      <th>key</th>\n      <th>liveness</th>\n      <th>loudness</th>\n      <th>speechiness</th>\n      <th>tempo</th>\n      <th>valence</th>\n      <th>music_genre</th>\n      <th>mode_Major</th>\n      <th>mode_Minor</th>\n    </tr>\n  </thead>\n  <tbody>\n    <tr>\n      <th>0</th>\n      <td>5029.0</td>\n      <td>27.0</td>\n      <td>0.00468</td>\n      <td>0.652</td>\n      <td>227360.0</td>\n      <td>0.941</td>\n      <td>0.79200</td>\n      <td>1.0</td>\n      <td>0.115</td>\n      <td>-5.201</td>\n      <td>0.0748</td>\n      <td>100.889</td>\n      <td>0.759</td>\n      <td>5</td>\n      <td>0</td>\n      <td>1</td>\n    </tr>\n    <tr>\n      <th>1</th>\n      <td>6117.0</td>\n      <td>31.0</td>\n      <td>0.01270</td>\n      <td>0.622</td>\n      <td>218293.0</td>\n      <td>0.890</td>\n      <td>0.95000</td>\n      <td>5.0</td>\n      <td>0.124</td>\n      <td>-7.043</td>\n      <td>0.0300</td>\n      <td>115.002</td>\n      <td>0.531</td>\n      <td>5</td>\n      <td>0</td>\n      <td>1</td>\n    </tr>\n    <tr>\n      <th>2</th>\n      <td>1591.0</td>\n      <td>28.0</td>\n      <td>0.00306</td>\n      <td>0.620</td>\n      <td>215613.0</td>\n      <td>0.755</td>\n      <td>0.01180</td>\n      <td>11.0</td>\n      <td>0.534</td>\n      <td>-4.617</td>\n      <td>0.0345</td>\n      <td>127.994</td>\n      <td>0.333</td>\n      <td>5</td>\n      <td>1</td>\n      <td>0</td>\n    </tr>\n    <tr>\n      <th>3</th>\n      <td>1707.0</td>\n      <td>34.0</td>\n      <td>0.02540</td>\n      <td>0.774</td>\n      <td>166875.0</td>\n      <td>0.700</td>\n      <td>0.00253</td>\n      <td>4.0</td>\n      <td>0.157</td>\n      <td>-4.498</td>\n      <td>0.2390</td>\n      <td>128.014</td>\n      <td>0.270</td>\n      <td>5</td>\n      <td>1</td>\n      <td>0</td>\n    </tr>\n    <tr>\n      <th>4</th>\n      <td>6519.0</td>\n      <td>32.0</td>\n      <td>0.00465</td>\n      <td>0.638</td>\n      <td>222369.0</td>\n      <td>0.587</td>\n      <td>0.90900</td>\n      <td>9.0</td>\n      <td>0.157</td>\n      <td>-6.266</td>\n      <td>0.0413</td>\n      <td>145.036</td>\n      <td>0.323</td>\n      <td>5</td>\n      <td>1</td>\n      <td>0</td>\n    </tr>\n  </tbody>\n</table>\n</div>"
     },
     "execution_count": 14,
     "metadata": {},
     "output_type": "execute_result"
    }
   ],
   "source": [
    "from sklearn.preprocessing import OrdinalEncoder, LabelEncoder\n",
    "oe = OrdinalEncoder()\n",
    "le = LabelEncoder()\n",
    "\n",
    "data_coded: pd.DataFrame = data.copy()\n",
    "\n",
    "atr_coded = oe.fit_transform(data[['artist_name', 'key']])\n",
    "target_coded = le.fit_transform(data['music_genre'])\n",
    "data_coded[['artist_name', 'key']] = atr_coded\n",
    "data_coded['music_genre'] = target_coded\n",
    "dummies = pd.get_dummies(data_coded[['mode']])\n",
    "data_coded[dummies.columns] = dummies[dummies.columns]\n",
    "data_coded = data_coded.drop(columns=['mode'])\n",
    "data_coded.head()"
   ],
   "metadata": {
    "collapsed": false,
    "pycharm": {
     "name": "#%%\n"
    }
   }
  },
  {
   "cell_type": "code",
   "execution_count": 15,
   "outputs": [
    {
     "data": {
      "text/plain": "array(['Alternative', 'Anime', 'Blues', 'Classical', 'Country',\n       'Electronic', 'Hip-Hop', 'Jazz', 'Rap', 'Rock'], dtype=object)"
     },
     "execution_count": 15,
     "metadata": {},
     "output_type": "execute_result"
    }
   ],
   "source": [
    "# Классы целевого признака\n",
    "le.classes_"
   ],
   "metadata": {
    "collapsed": false,
    "pycharm": {
     "name": "#%%\n"
    }
   }
  },
  {
   "cell_type": "markdown",
   "source": [
    "### Масштабирование"
   ],
   "metadata": {
    "collapsed": false
   }
  },
  {
   "cell_type": "code",
   "execution_count": 16,
   "outputs": [
    {
     "data": {
      "text/plain": "   artist_name  popularity  acousticness  danceability  duration_ms    energy  \\\n0     0.695929   -1.108003     -0.883886      0.524878    -0.154369  1.289876   \n1     1.221540   -0.850633     -0.860390      0.356933    -0.239968  1.097101   \n2    -0.964965   -1.043661     -0.888632      0.345737    -0.265269  0.586813   \n3    -0.908926   -0.657606     -0.823184      1.207853    -0.725393  0.378918   \n4     1.415746   -0.786291     -0.883974      0.446504    -0.201488 -0.048212   \n\n   instrumentalness       key  liveness  loudness  speechiness     tempo  \\\n0          1.875809 -1.259526 -0.488113  0.638132    -0.185322 -0.655420   \n1          2.361357 -0.102517 -0.432433  0.339248    -0.627258 -0.170027   \n2         -0.521812  1.632996  2.104140  0.732892    -0.582867  0.276811   \n3         -0.550300 -0.391769 -0.228269  0.752201     1.434452  0.277499   \n4          2.235361  1.054492 -0.228269  0.465324    -0.515787  0.862942   \n\n    valence  music_genre  mode_Major  mode_Minor  \n0  1.225073            5   -1.339082    1.339082  \n1  0.302431            5   -1.339082    1.339082  \n2 -0.498812            5    0.746780   -0.746780  \n3 -0.753752            5    0.746780   -0.746780  \n4 -0.539278            5    0.746780   -0.746780  ",
      "text/html": "<div>\n<style scoped>\n    .dataframe tbody tr th:only-of-type {\n        vertical-align: middle;\n    }\n\n    .dataframe tbody tr th {\n        vertical-align: top;\n    }\n\n    .dataframe thead th {\n        text-align: right;\n    }\n</style>\n<table border=\"1\" class=\"dataframe\">\n  <thead>\n    <tr style=\"text-align: right;\">\n      <th></th>\n      <th>artist_name</th>\n      <th>popularity</th>\n      <th>acousticness</th>\n      <th>danceability</th>\n      <th>duration_ms</th>\n      <th>energy</th>\n      <th>instrumentalness</th>\n      <th>key</th>\n      <th>liveness</th>\n      <th>loudness</th>\n      <th>speechiness</th>\n      <th>tempo</th>\n      <th>valence</th>\n      <th>music_genre</th>\n      <th>mode_Major</th>\n      <th>mode_Minor</th>\n    </tr>\n  </thead>\n  <tbody>\n    <tr>\n      <th>0</th>\n      <td>0.695929</td>\n      <td>-1.108003</td>\n      <td>-0.883886</td>\n      <td>0.524878</td>\n      <td>-0.154369</td>\n      <td>1.289876</td>\n      <td>1.875809</td>\n      <td>-1.259526</td>\n      <td>-0.488113</td>\n      <td>0.638132</td>\n      <td>-0.185322</td>\n      <td>-0.655420</td>\n      <td>1.225073</td>\n      <td>5</td>\n      <td>-1.339082</td>\n      <td>1.339082</td>\n    </tr>\n    <tr>\n      <th>1</th>\n      <td>1.221540</td>\n      <td>-0.850633</td>\n      <td>-0.860390</td>\n      <td>0.356933</td>\n      <td>-0.239968</td>\n      <td>1.097101</td>\n      <td>2.361357</td>\n      <td>-0.102517</td>\n      <td>-0.432433</td>\n      <td>0.339248</td>\n      <td>-0.627258</td>\n      <td>-0.170027</td>\n      <td>0.302431</td>\n      <td>5</td>\n      <td>-1.339082</td>\n      <td>1.339082</td>\n    </tr>\n    <tr>\n      <th>2</th>\n      <td>-0.964965</td>\n      <td>-1.043661</td>\n      <td>-0.888632</td>\n      <td>0.345737</td>\n      <td>-0.265269</td>\n      <td>0.586813</td>\n      <td>-0.521812</td>\n      <td>1.632996</td>\n      <td>2.104140</td>\n      <td>0.732892</td>\n      <td>-0.582867</td>\n      <td>0.276811</td>\n      <td>-0.498812</td>\n      <td>5</td>\n      <td>0.746780</td>\n      <td>-0.746780</td>\n    </tr>\n    <tr>\n      <th>3</th>\n      <td>-0.908926</td>\n      <td>-0.657606</td>\n      <td>-0.823184</td>\n      <td>1.207853</td>\n      <td>-0.725393</td>\n      <td>0.378918</td>\n      <td>-0.550300</td>\n      <td>-0.391769</td>\n      <td>-0.228269</td>\n      <td>0.752201</td>\n      <td>1.434452</td>\n      <td>0.277499</td>\n      <td>-0.753752</td>\n      <td>5</td>\n      <td>0.746780</td>\n      <td>-0.746780</td>\n    </tr>\n    <tr>\n      <th>4</th>\n      <td>1.415746</td>\n      <td>-0.786291</td>\n      <td>-0.883974</td>\n      <td>0.446504</td>\n      <td>-0.201488</td>\n      <td>-0.048212</td>\n      <td>2.235361</td>\n      <td>1.054492</td>\n      <td>-0.228269</td>\n      <td>0.465324</td>\n      <td>-0.515787</td>\n      <td>0.862942</td>\n      <td>-0.539278</td>\n      <td>5</td>\n      <td>0.746780</td>\n      <td>-0.746780</td>\n    </tr>\n  </tbody>\n</table>\n</div>"
     },
     "execution_count": 16,
     "metadata": {},
     "output_type": "execute_result"
    }
   ],
   "source": [
    "from sklearn.preprocessing import StandardScaler\n",
    "\n",
    "scl = StandardScaler()\n",
    "data_scaled = data_coded.copy()\n",
    "data_scaled[data_coded.drop(columns=['music_genre']).columns] = scl.fit_transform(data_coded.drop(columns=['music_genre']))\n",
    "data_scaled.head()"
   ],
   "metadata": {
    "collapsed": false,
    "pycharm": {
     "name": "#%%\n"
    }
   }
  },
  {
   "cell_type": "code",
   "execution_count": 17,
   "outputs": [
    {
     "data": {
      "text/plain": "        artist_name    popularity  acousticness  danceability   duration_ms  \\\ncount  5.000000e+04  5.000000e+04  5.000000e+04  5.000000e+04  5.000000e+04   \nmean  -4.689582e-18  1.796252e-16  2.842171e-16 -1.250555e-16  9.833911e-17   \nstd    1.000010e+00  1.000010e+00  1.000010e+00  1.000010e+00  1.000010e+00   \nmin   -1.733575e+00 -2.845248e+00 -8.975970e-01 -2.791471e+00 -2.154402e+00   \n25%   -8.388763e-01 -6.576063e-01 -8.390039e-01 -6.507353e-01 -4.610517e-01   \n50%   -2.002380e-02  5.016004e-02 -4.757261e-01  5.463274e-02 -1.543688e-01   \n75%    8.857865e-01  7.579264e-01  7.195750e-01  7.208136e-01  2.350835e-01   \nmax    1.581449e+00  3.524649e+00  2.020344e+00  2.394663e+00  4.330374e+01   \n\n             energy  instrumentalness           key      liveness  \\\ncount  5.000000e+04      5.000000e+04  5.000000e+04  5.000000e+04   \nmean  -7.958079e-18     -2.728484e-17 -5.400125e-17 -1.014655e-16   \nstd    1.000010e+00      1.000010e+00  1.000010e+00  1.000010e+00   \nmin   -2.264025e+00     -5.580745e-01 -1.548778e+00 -1.139765e+00   \n25%   -6.303180e-01     -5.580745e-01 -6.810212e-01 -6.000939e-01   \n50%    1.634630e-01     -5.575889e-01 -1.025168e-01 -4.200591e-01   \n75%    8.136074e-01     -8.174618e-02  7.652399e-01  3.099788e-01   \nmax    1.509111e+00      2.502719e+00  1.632996e+00  4.987171e+00   \n\n           loudness   speechiness         tempo       valence  music_genre  \\\ncount  5.000000e+04  5.000000e+04  5.000000e+04  5.000000e+04  50000.00000   \nmean  -1.136868e-16 -9.094947e-17  6.230039e-16  8.128609e-17      4.50000   \nstd    1.000010e+00  1.000010e+00  1.000010e+00  1.000010e+00      2.87231   \nmin   -6.151660e+00 -7.032154e-01 -2.944020e+00 -1.846356e+00      0.00000   \n25%   -2.801004e-01 -5.670834e-01 -7.968878e-01 -8.063593e-01      2.00000   \n50%    3.013602e-01 -4.408160e-01 -2.290393e-03 -3.344372e-02      4.50000   \n75%    6.426752e-01  4.871678e-02  6.714489e-01  7.758919e-01      7.00000   \nmax    2.089552e+00  8.369295e+00  3.450696e+00  2.167949e+00      9.00000   \n\n         mode_Major    mode_Minor  \ncount  5.000000e+04  5.000000e+04  \nmean   2.273737e-17 -2.273737e-17  \nstd    1.000010e+00  1.000010e+00  \nmin   -1.339082e+00 -7.467804e-01  \n25%   -1.339082e+00 -7.467804e-01  \n50%    7.467804e-01 -7.467804e-01  \n75%    7.467804e-01  1.339082e+00  \nmax    7.467804e-01  1.339082e+00  ",
      "text/html": "<div>\n<style scoped>\n    .dataframe tbody tr th:only-of-type {\n        vertical-align: middle;\n    }\n\n    .dataframe tbody tr th {\n        vertical-align: top;\n    }\n\n    .dataframe thead th {\n        text-align: right;\n    }\n</style>\n<table border=\"1\" class=\"dataframe\">\n  <thead>\n    <tr style=\"text-align: right;\">\n      <th></th>\n      <th>artist_name</th>\n      <th>popularity</th>\n      <th>acousticness</th>\n      <th>danceability</th>\n      <th>duration_ms</th>\n      <th>energy</th>\n      <th>instrumentalness</th>\n      <th>key</th>\n      <th>liveness</th>\n      <th>loudness</th>\n      <th>speechiness</th>\n      <th>tempo</th>\n      <th>valence</th>\n      <th>music_genre</th>\n      <th>mode_Major</th>\n      <th>mode_Minor</th>\n    </tr>\n  </thead>\n  <tbody>\n    <tr>\n      <th>count</th>\n      <td>5.000000e+04</td>\n      <td>5.000000e+04</td>\n      <td>5.000000e+04</td>\n      <td>5.000000e+04</td>\n      <td>5.000000e+04</td>\n      <td>5.000000e+04</td>\n      <td>5.000000e+04</td>\n      <td>5.000000e+04</td>\n      <td>5.000000e+04</td>\n      <td>5.000000e+04</td>\n      <td>5.000000e+04</td>\n      <td>5.000000e+04</td>\n      <td>5.000000e+04</td>\n      <td>50000.00000</td>\n      <td>5.000000e+04</td>\n      <td>5.000000e+04</td>\n    </tr>\n    <tr>\n      <th>mean</th>\n      <td>-4.689582e-18</td>\n      <td>1.796252e-16</td>\n      <td>2.842171e-16</td>\n      <td>-1.250555e-16</td>\n      <td>9.833911e-17</td>\n      <td>-7.958079e-18</td>\n      <td>-2.728484e-17</td>\n      <td>-5.400125e-17</td>\n      <td>-1.014655e-16</td>\n      <td>-1.136868e-16</td>\n      <td>-9.094947e-17</td>\n      <td>6.230039e-16</td>\n      <td>8.128609e-17</td>\n      <td>4.50000</td>\n      <td>2.273737e-17</td>\n      <td>-2.273737e-17</td>\n    </tr>\n    <tr>\n      <th>std</th>\n      <td>1.000010e+00</td>\n      <td>1.000010e+00</td>\n      <td>1.000010e+00</td>\n      <td>1.000010e+00</td>\n      <td>1.000010e+00</td>\n      <td>1.000010e+00</td>\n      <td>1.000010e+00</td>\n      <td>1.000010e+00</td>\n      <td>1.000010e+00</td>\n      <td>1.000010e+00</td>\n      <td>1.000010e+00</td>\n      <td>1.000010e+00</td>\n      <td>1.000010e+00</td>\n      <td>2.87231</td>\n      <td>1.000010e+00</td>\n      <td>1.000010e+00</td>\n    </tr>\n    <tr>\n      <th>min</th>\n      <td>-1.733575e+00</td>\n      <td>-2.845248e+00</td>\n      <td>-8.975970e-01</td>\n      <td>-2.791471e+00</td>\n      <td>-2.154402e+00</td>\n      <td>-2.264025e+00</td>\n      <td>-5.580745e-01</td>\n      <td>-1.548778e+00</td>\n      <td>-1.139765e+00</td>\n      <td>-6.151660e+00</td>\n      <td>-7.032154e-01</td>\n      <td>-2.944020e+00</td>\n      <td>-1.846356e+00</td>\n      <td>0.00000</td>\n      <td>-1.339082e+00</td>\n      <td>-7.467804e-01</td>\n    </tr>\n    <tr>\n      <th>25%</th>\n      <td>-8.388763e-01</td>\n      <td>-6.576063e-01</td>\n      <td>-8.390039e-01</td>\n      <td>-6.507353e-01</td>\n      <td>-4.610517e-01</td>\n      <td>-6.303180e-01</td>\n      <td>-5.580745e-01</td>\n      <td>-6.810212e-01</td>\n      <td>-6.000939e-01</td>\n      <td>-2.801004e-01</td>\n      <td>-5.670834e-01</td>\n      <td>-7.968878e-01</td>\n      <td>-8.063593e-01</td>\n      <td>2.00000</td>\n      <td>-1.339082e+00</td>\n      <td>-7.467804e-01</td>\n    </tr>\n    <tr>\n      <th>50%</th>\n      <td>-2.002380e-02</td>\n      <td>5.016004e-02</td>\n      <td>-4.757261e-01</td>\n      <td>5.463274e-02</td>\n      <td>-1.543688e-01</td>\n      <td>1.634630e-01</td>\n      <td>-5.575889e-01</td>\n      <td>-1.025168e-01</td>\n      <td>-4.200591e-01</td>\n      <td>3.013602e-01</td>\n      <td>-4.408160e-01</td>\n      <td>-2.290393e-03</td>\n      <td>-3.344372e-02</td>\n      <td>4.50000</td>\n      <td>7.467804e-01</td>\n      <td>-7.467804e-01</td>\n    </tr>\n    <tr>\n      <th>75%</th>\n      <td>8.857865e-01</td>\n      <td>7.579264e-01</td>\n      <td>7.195750e-01</td>\n      <td>7.208136e-01</td>\n      <td>2.350835e-01</td>\n      <td>8.136074e-01</td>\n      <td>-8.174618e-02</td>\n      <td>7.652399e-01</td>\n      <td>3.099788e-01</td>\n      <td>6.426752e-01</td>\n      <td>4.871678e-02</td>\n      <td>6.714489e-01</td>\n      <td>7.758919e-01</td>\n      <td>7.00000</td>\n      <td>7.467804e-01</td>\n      <td>1.339082e+00</td>\n    </tr>\n    <tr>\n      <th>max</th>\n      <td>1.581449e+00</td>\n      <td>3.524649e+00</td>\n      <td>2.020344e+00</td>\n      <td>2.394663e+00</td>\n      <td>4.330374e+01</td>\n      <td>1.509111e+00</td>\n      <td>2.502719e+00</td>\n      <td>1.632996e+00</td>\n      <td>4.987171e+00</td>\n      <td>2.089552e+00</td>\n      <td>8.369295e+00</td>\n      <td>3.450696e+00</td>\n      <td>2.167949e+00</td>\n      <td>9.00000</td>\n      <td>7.467804e-01</td>\n      <td>1.339082e+00</td>\n    </tr>\n  </tbody>\n</table>\n</div>"
     },
     "execution_count": 17,
     "metadata": {},
     "output_type": "execute_result"
    }
   ],
   "source": [
    "data_scaled.describe()"
   ],
   "metadata": {
    "collapsed": false,
    "pycharm": {
     "name": "#%%\n"
    }
   }
  },
  {
   "cell_type": "markdown",
   "source": [
    "## Разделение на обучающую и тестовую выборки"
   ],
   "metadata": {
    "collapsed": false
   }
  },
  {
   "cell_type": "markdown",
   "source": [
    "Разделим выборку на обучающую и тестовую методом train_test_split"
   ],
   "metadata": {
    "collapsed": false
   }
  },
  {
   "cell_type": "code",
   "execution_count": 18,
   "outputs": [],
   "source": [
    "from sklearn.model_selection import train_test_split\n",
    "data_X = data_scaled.drop(columns=['music_genre'])\n",
    "data_y = data_scaled['music_genre']\n",
    "data_X_train, data_X_test, data_Y_train, data_Y_test = train_test_split(data_X, data_y, random_state=40)"
   ],
   "metadata": {
    "collapsed": false,
    "pycharm": {
     "name": "#%%\n"
    }
   }
  },
  {
   "cell_type": "markdown",
   "source": [
    "## Обучение выборки для произвольного K"
   ],
   "metadata": {
    "collapsed": false
   }
  },
  {
   "cell_type": "code",
   "execution_count": 19,
   "outputs": [],
   "source": [
    "# Импортируем класс из библиотеки sklearn и создадим его экземпляр\n",
    "from sklearn.neighbors import KNeighborsClassifier\n",
    "knn_class = KNeighborsClassifier(n_neighbors=20)"
   ],
   "metadata": {
    "collapsed": false,
    "pycharm": {
     "name": "#%%\n"
    }
   }
  },
  {
   "cell_type": "code",
   "execution_count": 20,
   "outputs": [
    {
     "data": {
      "text/plain": "array([4, 8, 2, ..., 4, 4, 1])"
     },
     "execution_count": 20,
     "metadata": {},
     "output_type": "execute_result"
    }
   ],
   "source": [
    "# Обучение\n",
    "knn_class.fit(data_X_train, data_Y_train)\n",
    "predict = knn_class.predict(data_X_test)\n",
    "predict"
   ],
   "metadata": {
    "collapsed": false,
    "pycharm": {
     "name": "#%%\n"
    }
   }
  },
  {
   "cell_type": "markdown",
   "source": [
    "## Оценка качества построенной модели"
   ],
   "metadata": {
    "collapsed": false
   }
  },
  {
   "cell_type": "code",
   "execution_count": 21,
   "outputs": [],
   "source": [
    "from sklearn.metrics import accuracy_score\n",
    "from sklearn.metrics import ConfusionMatrixDisplay\n",
    "from sklearn.metrics import classification_report\n",
    "from sklearn.metrics import confusion_matrix\n",
    "from sklearn.metrics import roc_curve, roc_auc_score"
   ],
   "metadata": {
    "collapsed": false,
    "pycharm": {
     "name": "#%%\n"
    }
   }
  },
  {
   "cell_type": "markdown",
   "source": [
    "### Accuracy"
   ],
   "metadata": {
    "collapsed": false
   }
  },
  {
   "cell_type": "code",
   "execution_count": 22,
   "outputs": [
    {
     "data": {
      "text/plain": "0.50704"
     },
     "execution_count": 22,
     "metadata": {},
     "output_type": "execute_result"
    }
   ],
   "source": [
    "accuracy_score(data_Y_test, predict)"
   ],
   "metadata": {
    "collapsed": false,
    "pycharm": {
     "name": "#%%\n"
    }
   }
  },
  {
   "cell_type": "markdown",
   "source": [
    "Рассмотрим Accuracy для каждого класса"
   ],
   "metadata": {
    "collapsed": false
   }
  },
  {
   "cell_type": "code",
   "execution_count": 23,
   "outputs": [],
   "source": [
    "def accuracy_score_for_classes(\n",
    "        y_true: np.ndarray,\n",
    "        y_pred: np.ndarray) -> Dict[int, float]:\n",
    "    \"\"\"\n",
    "    Вычисление метрики accuracy для каждого класса\n",
    "    y_true - истинные значения классов\n",
    "    y_pred - предсказанные значения классов\n",
    "    Возвращает словарь: ключ - метка класса,\n",
    "    значение - Accuracy для данного класса\n",
    "    \"\"\"\n",
    "    # Для удобства фильтрации сформируем Pandas DataFrame\n",
    "    d = {'t': y_true, 'p': y_pred}\n",
    "    df = pd.DataFrame(data=d)\n",
    "    # Метки классов\n",
    "    classes = np.unique(y_true)\n",
    "    # Результирующий словарь\n",
    "    res = dict()\n",
    "    # Перебор меток классов\n",
    "    for c in classes:\n",
    "        # отфильтруем данные, которые соответствуют\n",
    "        # текущей метке класса в истинных значениях\n",
    "        temp_data_flt = df[df['t']==c]\n",
    "        # расчет accuracy для заданной метки класса\n",
    "        temp_acc = accuracy_score(\n",
    "            temp_data_flt['t'].values,\n",
    "            temp_data_flt['p'].values)\n",
    "        # сохранение результата в словарь\n",
    "        res[c] = temp_acc\n",
    "    return res\n",
    "\n",
    "def print_accuracy_score_for_classes(\n",
    "        y_true: np.ndarray,\n",
    "        y_pred: np.ndarray):\n",
    "    \"\"\"\n",
    "    Вывод метрики accuracy для каждого класса\n",
    "    \"\"\"\n",
    "    accs = accuracy_score_for_classes(y_true, y_pred)\n",
    "    if len(accs)>0:\n",
    "        print('Метка \\t Accuracy')\n",
    "    for i in accs:\n",
    "        print('{} \\t {}'.format(i, accs[i]))"
   ],
   "metadata": {
    "collapsed": false,
    "pycharm": {
     "name": "#%%\n"
    }
   }
  },
  {
   "cell_type": "code",
   "execution_count": 24,
   "outputs": [
    {
     "name": "stdout",
     "output_type": "stream",
     "text": [
      "Метка \t Accuracy\n",
      "0 \t 0.36242138364779874\n",
      "1 \t 0.6241776315789473\n",
      "2 \t 0.4539527302363488\n",
      "3 \t 0.8301127214170693\n",
      "4 \t 0.5860979462875198\n",
      "5 \t 0.5135350318471338\n",
      "6 \t 0.48093385214007783\n",
      "7 \t 0.38461538461538464\n",
      "8 \t 0.29832935560859186\n",
      "9 \t 0.542604501607717\n"
     ]
    }
   ],
   "source": [
    "print_accuracy_score_for_classes(data_Y_test, predict)"
   ],
   "metadata": {
    "collapsed": false,
    "pycharm": {
     "name": "#%%\n"
    }
   }
  },
  {
   "cell_type": "markdown",
   "source": [
    "### Confusion Matrix"
   ],
   "metadata": {
    "collapsed": false
   }
  },
  {
   "cell_type": "code",
   "execution_count": 25,
   "outputs": [
    {
     "data": {
      "text/plain": "array([[ 461,   17,   31,    3,  249,   58,  133,   65,   58,  197],\n       [  60,  759,  106,  110,   72,   70,    0,   32,    1,    6],\n       [  80,  153,  557,   16,  192,   62,   11,  114,    2,   40],\n       [  29,   48,   28, 1031,   18,   26,    0,   58,    1,    3],\n       [ 152,   29,   73,    2,  742,   16,   33,   45,   21,  153],\n       [ 126,   99,   60,   13,  110,  645,   59,  106,   11,   27],\n       [  58,    0,    3,    0,   43,   17,  618,   13,  444,   89],\n       [  68,   31,  152,  101,  147,  143,   74,  475,   18,   26],\n       [  66,    0,    1,    0,   43,   12,  614,    7,  375,  139],\n       [ 208,    3,   19,    3,  191,   23,   33,   47,   42,  675]],\n      dtype=int64)"
     },
     "execution_count": 25,
     "metadata": {},
     "output_type": "execute_result"
    }
   ],
   "source": [
    "matrix = confusion_matrix(data_Y_test, predict, labels=[0, 1, 2, 3, 4, 5, 6, 7, 8, 9])\n",
    "matrix"
   ],
   "metadata": {
    "collapsed": false,
    "pycharm": {
     "name": "#%%\n"
    }
   }
  },
  {
   "cell_type": "code",
   "execution_count": 26,
   "outputs": [
    {
     "data": {
      "text/plain": "<sklearn.metrics._plot.confusion_matrix.ConfusionMatrixDisplay at 0x1987a32afa0>"
     },
     "execution_count": 26,
     "metadata": {},
     "output_type": "execute_result"
    },
    {
     "data": {
      "text/plain": "<Figure size 1080x1080 with 2 Axes>",
      "image/png": "[encoded data removed]"
     },
     "metadata": {
      "needs_background": "light"
     },
     "output_type": "display_data"
    }
   ],
   "source": [
    "fig, ax = plt.subplots(figsize=(15, 15))\n",
    "ConfusionMatrixDisplay.from_predictions(data_Y_test, predict, display_labels=le.classes_, ax=ax, cmap='YlGnBu')"
   ],
   "metadata": {
    "collapsed": false,
    "pycharm": {
     "name": "#%%\n"
    }
   }
  },
  {
   "cell_type": "markdown",
   "source": [
    "### Precision, recall и F-мера"
   ],
   "metadata": {
    "collapsed": false
   }
  },
  {
   "cell_type": "code",
   "execution_count": 27,
   "outputs": [
    {
     "data": {
      "text/plain": "{'Alternative': {'precision': 0.35244648318042815,\n  'recall': 0.36242138364779874,\n  'f1-score': 0.3573643410852714,\n  'support': 1272},\n 'Anime': {'precision': 0.6663740122914837,\n  'recall': 0.6241776315789473,\n  'f1-score': 0.6445859872611465,\n  'support': 1216},\n 'Blues': {'precision': 0.5407766990291262,\n  'recall': 0.4539527302363488,\n  'f1-score': 0.4935755427558706,\n  'support': 1227},\n 'Classical': {'precision': 0.8060985144644254,\n  'recall': 0.8301127214170693,\n  'f1-score': 0.8179293930979771,\n  'support': 1242},\n 'Country': {'precision': 0.41062534587714444,\n  'recall': 0.5860979462875198,\n  'f1-score': 0.4829157175398633,\n  'support': 1266},\n 'Electronic': {'precision': 0.601679104477612,\n  'recall': 0.5135350318471338,\n  'f1-score': 0.5541237113402063,\n  'support': 1256},\n 'Hip-Hop': {'precision': 0.3923809523809524,\n  'recall': 0.48093385214007783,\n  'f1-score': 0.43216783216783217,\n  'support': 1285},\n 'Jazz': {'precision': 0.49376299376299376,\n  'recall': 0.38461538461538464,\n  'f1-score': 0.43240782885753304,\n  'support': 1235},\n 'Rap': {'precision': 0.3854059609455293,\n  'recall': 0.29832935560859186,\n  'f1-score': 0.336322869955157,\n  'support': 1257},\n 'Rock': {'precision': 0.4981549815498155,\n  'recall': 0.542604501607717,\n  'f1-score': 0.5194305502116198,\n  'support': 1244},\n 'accuracy': 0.50704,\n 'macro avg': {'precision': 0.514770504795951,\n  'recall': 0.5076780538986589,\n  'f1-score': 0.5070823774272477,\n  'support': 12500},\n 'weighted avg': {'precision': 0.5133646115514536,\n  'recall': 0.50704,\n  'f1-score': 0.5060407171503626,\n  'support': 12500}}"
     },
     "execution_count": 27,
     "metadata": {},
     "output_type": "execute_result"
    }
   ],
   "source": [
    "classification_report(data_Y_test, predict,\n",
    "                      target_names=le.classes_, output_dict=True)"
   ],
   "metadata": {
    "collapsed": false,
    "pycharm": {
     "name": "#%%\n"
    }
   }
  },
  {
   "cell_type": "markdown",
   "source": [
    "Для построения ROC кривой необходимо целевой признак сделать бинарным. Для этого выберем один класс и будем обозначать его 1, а остальные будем обозначать 0"
   ],
   "metadata": {
    "collapsed": false
   }
  },
  {
   "cell_type": "code",
   "execution_count": 28,
   "outputs": [],
   "source": [
    "def convert_target_to_binary(array:np.ndarray, target:int):\n",
    "    res = [1 if x==target else 0 for x in array]\n",
    "    return res"
   ],
   "metadata": {
    "collapsed": false,
    "pycharm": {
     "name": "#%%\n"
    }
   }
  },
  {
   "cell_type": "code",
   "execution_count": 29,
   "outputs": [],
   "source": [
    "bin_Y_train = convert_target_to_binary(data_Y_train, 3)\n",
    "bin_Y_test = convert_target_to_binary(data_Y_test, 3)"
   ],
   "metadata": {
    "collapsed": false,
    "pycharm": {
     "name": "#%%\n"
    }
   }
  },
  {
   "cell_type": "code",
   "execution_count": 30,
   "outputs": [
    {
     "data": {
      "text/plain": "array([0, 1])"
     },
     "execution_count": 30,
     "metadata": {},
     "output_type": "execute_result"
    }
   ],
   "source": [
    "bin_knn_class = KNeighborsClassifier(n_neighbors=20)\n",
    "\n",
    "bin_knn_class.fit(data_X_train, bin_Y_train)\n",
    "predict = bin_knn_class.predict(data_X_test)\n",
    "bin_knn_class.classes_"
   ],
   "metadata": {
    "collapsed": false,
    "pycharm": {
     "name": "#%%\n"
    }
   }
  },
  {
   "cell_type": "code",
   "execution_count": 31,
   "outputs": [
    {
     "data": {
      "text/plain": "(12500,\n array([[1.  , 0.  ],\n        [1.  , 0.  ],\n        [1.  , 0.  ],\n        ...,\n        [1.  , 0.  ],\n        [1.  , 0.  ],\n        [0.95, 0.05]]))"
     },
     "execution_count": 31,
     "metadata": {},
     "output_type": "execute_result"
    }
   ],
   "source": [
    "# предскажем вероятности классов\n",
    "proba_target = bin_knn_class.predict_proba(data_X_test)\n",
    "len(proba_target), proba_target"
   ],
   "metadata": {
    "collapsed": false,
    "pycharm": {
     "name": "#%%\n"
    }
   }
  },
  {
   "cell_type": "code",
   "execution_count": 32,
   "outputs": [
    {
     "data": {
      "text/plain": "array([0.  , 0.  , 0.  , ..., 0.  , 0.  , 0.05])"
     },
     "execution_count": 32,
     "metadata": {},
     "output_type": "execute_result"
    }
   ],
   "source": [
    "# вероятность единичного (истинного) класса\n",
    "true_proba_target1_1 = proba_target[:,1]\n",
    "true_proba_target1_1"
   ],
   "metadata": {
    "collapsed": false,
    "pycharm": {
     "name": "#%%\n"
    }
   }
  },
  {
   "cell_type": "code",
   "execution_count": 33,
   "outputs": [
    {
     "data": {
      "text/plain": "(array([0.00000000e+00, 3.55302896e-04, 7.99431515e-04, 1.68768875e-03,\n        2.93124889e-03, 4.79658909e-03, 6.04014923e-03, 7.99431515e-03,\n        9.85965536e-03, 1.23467756e-02, 1.43009416e-02, 1.66104104e-02,\n        1.98969622e-02, 2.27393853e-02, 2.72694972e-02, 3.06448748e-02,\n        3.52638124e-02, 4.38799076e-02, 5.80920234e-02, 9.69976905e-02,\n        2.14602949e-01, 1.00000000e+00]),\n array([0.        , 0.15861514, 0.30193237, 0.42351047, 0.50644122,\n        0.57487923, 0.64412238, 0.67713366, 0.7173913 , 0.74798712,\n        0.7705314 , 0.7962963 , 0.81078905, 0.83011272, 0.84943639,\n        0.86312399, 0.87761675, 0.89049919, 0.90499195, 0.931562  ,\n        0.96940419, 1.        ]),\n array([2.  , 1.  , 0.95, 0.9 , 0.85, 0.8 , 0.75, 0.7 , 0.65, 0.6 , 0.55,\n        0.5 , 0.45, 0.4 , 0.35, 0.3 , 0.25, 0.2 , 0.15, 0.1 , 0.05, 0.  ]))"
     },
     "execution_count": 33,
     "metadata": {},
     "output_type": "execute_result"
    }
   ],
   "source": [
    "fpr, tpr, thresholds = roc_curve(bin_Y_test, true_proba_target1_1,\n",
    "                                 pos_label=1)\n",
    "fpr, tpr, thresholds"
   ],
   "metadata": {
    "collapsed": false,
    "pycharm": {
     "name": "#%%\n"
    }
   }
  },
  {
   "cell_type": "code",
   "execution_count": 34,
   "outputs": [],
   "source": [
    "# Отрисовка ROC-кривой\n",
    "def draw_roc_curve(y_true, y_score, pos_label, average):\n",
    "    fpr, tpr, thresholds = roc_curve(y_true, y_score,\n",
    "                                     pos_label=pos_label)\n",
    "    roc_auc_value = roc_auc_score(y_true, y_score, average=average)\n",
    "    plt.figure()\n",
    "    lw = 2\n",
    "    plt.plot(fpr, tpr, color='darkorange',\n",
    "             lw=lw, label='ROC curve (area = %0.2f)' % roc_auc_value)\n",
    "    plt.plot([0, 1], [0, 1], color='navy', lw=lw, linestyle='--')\n",
    "    plt.xlim([0.0, 1.0])\n",
    "    plt.ylim([0.0, 1.05])\n",
    "    plt.xlabel('False Positive Rate')\n",
    "    plt.ylabel('True Positive Rate')\n",
    "    plt.title('Receiver operating characteristic')\n",
    "    plt.legend(loc=\"lower right\")\n",
    "    plt.show()"
   ],
   "metadata": {
    "collapsed": false,
    "pycharm": {
     "name": "#%%\n"
    }
   }
  },
  {
   "cell_type": "code",
   "execution_count": 35,
   "outputs": [
    {
     "data": {
      "text/plain": "<Figure size 432x288 with 1 Axes>",
      "image/png": "[encoded data removed]"
     },
     "metadata": {
      "needs_background": "light"
     },
     "output_type": "display_data"
    }
   ],
   "source": [
    "draw_roc_curve(bin_Y_test, predict, pos_label=1, average='micro')"
   ],
   "metadata": {
    "collapsed": false,
    "pycharm": {
     "name": "#%%\n"
    }
   }
  },
  {
   "cell_type": "markdown",
   "source": [
    "## Обучение с использованием кросс-валидации и подбором гиперпараметров"
   ],
   "metadata": {
    "collapsed": false
   }
  },
  {
   "cell_type": "markdown",
   "source": [
    "Применим кросс-валидацию для оценки качества построенной модели. Рассмотрим следующие стратегии кросс-валидации: K-fold, Repeated K-fold и ShuffleSplit. В качестве метрик качетсва используем accuracy и f1-weigthed"
   ],
   "metadata": {
    "collapsed": false
   }
  },
  {
   "cell_type": "code",
   "execution_count": 36,
   "outputs": [],
   "source": [
    "from sklearn.model_selection import KFold, RepeatedKFold, ShuffleSplit, cross_validate\n",
    "\n",
    "scoring = {'acc': 'accuracy',\n",
    "           'f1': 'f1_weighted'}"
   ],
   "metadata": {
    "collapsed": false,
    "pycharm": {
     "name": "#%%\n"
    }
   }
  },
  {
   "cell_type": "code",
   "execution_count": 37,
   "outputs": [
    {
     "name": "stdout",
     "output_type": "stream",
     "text": [
      "CPU times: total: 15.6 ms\n",
      "Wall time: 1min 21s\n"
     ]
    },
    {
     "data": {
      "text/plain": "{'fit_time': array([0.20004439, 0.19704366, 0.14803267, 0.14303064, 0.15803504]),\n 'score_time': array([7.88217306, 8.18824196, 4.97412896, 5.5402565 , 3.96349144]),\n 'test_acc': array([0., 0., 0., 0., 0.]),\n 'train_acc': array([0.588075, 0.652225, 0.661675, 0.621425, 0.6037  ]),\n 'test_f1': array([0., 0., 0., 0., 0.]),\n 'train_f1': array([0.58791505, 0.65059338, 0.65956784, 0.62078521, 0.60363686])}"
     },
     "execution_count": 37,
     "metadata": {},
     "output_type": "execute_result"
    }
   ],
   "source": [
    "%%time\n",
    "# KFold\n",
    "scores = cross_validate(KNeighborsClassifier(n_neighbors=20),\n",
    "                        data_X, data_y, scoring=scoring,\n",
    "                        cv=KFold(n_splits=5), return_train_score=True, n_jobs=2)\n",
    "scores"
   ],
   "metadata": {
    "collapsed": false,
    "pycharm": {
     "name": "#%%\n"
    }
   }
  },
  {
   "cell_type": "code",
   "execution_count": 38,
   "outputs": [
    {
     "ename": "KeyboardInterrupt",
     "evalue": "",
     "output_type": "error",
     "traceback": [
      "\u001B[1;31m---------------------------------------------------------------------------\u001B[0m",
      "\u001B[1;31mKeyboardInterrupt\u001B[0m                         Traceback (most recent call last)",
      "File \u001B[1;32m<timed exec>:2\u001B[0m, in \u001B[0;36m<module>\u001B[1;34m\u001B[0m\n",
      "File \u001B[1;32mD:\\Stud\\6 term\\TMO_BMSTU_22\\venv\\lib\\site-packages\\sklearn\\model_selection\\_validation.py:267\u001B[0m, in \u001B[0;36mcross_validate\u001B[1;34m(estimator, X, y, groups, scoring, cv, n_jobs, verbose, fit_params, pre_dispatch, return_train_score, return_estimator, error_score)\u001B[0m\n\u001B[0;32m    264\u001B[0m \u001B[38;5;66;03m# We clone the estimator to make sure that all the folds are\u001B[39;00m\n\u001B[0;32m    265\u001B[0m \u001B[38;5;66;03m# independent, and that it is pickle-able.\u001B[39;00m\n\u001B[0;32m    266\u001B[0m parallel \u001B[38;5;241m=\u001B[39m Parallel(n_jobs\u001B[38;5;241m=\u001B[39mn_jobs, verbose\u001B[38;5;241m=\u001B[39mverbose, pre_dispatch\u001B[38;5;241m=\u001B[39mpre_dispatch)\n\u001B[1;32m--> 267\u001B[0m results \u001B[38;5;241m=\u001B[39m \u001B[43mparallel\u001B[49m\u001B[43m(\u001B[49m\n\u001B[0;32m    268\u001B[0m \u001B[43m    \u001B[49m\u001B[43mdelayed\u001B[49m\u001B[43m(\u001B[49m\u001B[43m_fit_and_score\u001B[49m\u001B[43m)\u001B[49m\u001B[43m(\u001B[49m\n\u001B[0;32m    269\u001B[0m \u001B[43m        \u001B[49m\u001B[43mclone\u001B[49m\u001B[43m(\u001B[49m\u001B[43mestimator\u001B[49m\u001B[43m)\u001B[49m\u001B[43m,\u001B[49m\n\u001B[0;32m    270\u001B[0m \u001B[43m        \u001B[49m\u001B[43mX\u001B[49m\u001B[43m,\u001B[49m\n\u001B[0;32m    271\u001B[0m \u001B[43m        \u001B[49m\u001B[43my\u001B[49m\u001B[43m,\u001B[49m\n\u001B[0;32m    272\u001B[0m \u001B[43m        \u001B[49m\u001B[43mscorers\u001B[49m\u001B[43m,\u001B[49m\n\u001B[0;32m    273\u001B[0m \u001B[43m        \u001B[49m\u001B[43mtrain\u001B[49m\u001B[43m,\u001B[49m\n\u001B[0;32m    274\u001B[0m \u001B[43m        \u001B[49m\u001B[43mtest\u001B[49m\u001B[43m,\u001B[49m\n\u001B[0;32m    275\u001B[0m \u001B[43m        \u001B[49m\u001B[43mverbose\u001B[49m\u001B[43m,\u001B[49m\n\u001B[0;32m    276\u001B[0m \u001B[43m        \u001B[49m\u001B[38;5;28;43;01mNone\u001B[39;49;00m\u001B[43m,\u001B[49m\n\u001B[0;32m    277\u001B[0m \u001B[43m        \u001B[49m\u001B[43mfit_params\u001B[49m\u001B[43m,\u001B[49m\n\u001B[0;32m    278\u001B[0m \u001B[43m        \u001B[49m\u001B[43mreturn_train_score\u001B[49m\u001B[38;5;241;43m=\u001B[39;49m\u001B[43mreturn_train_score\u001B[49m\u001B[43m,\u001B[49m\n\u001B[0;32m    279\u001B[0m \u001B[43m        \u001B[49m\u001B[43mreturn_times\u001B[49m\u001B[38;5;241;43m=\u001B[39;49m\u001B[38;5;28;43;01mTrue\u001B[39;49;00m\u001B[43m,\u001B[49m\n\u001B[0;32m    280\u001B[0m \u001B[43m        \u001B[49m\u001B[43mreturn_estimator\u001B[49m\u001B[38;5;241;43m=\u001B[39;49m\u001B[43mreturn_estimator\u001B[49m\u001B[43m,\u001B[49m\n\u001B[0;32m    281\u001B[0m \u001B[43m        \u001B[49m\u001B[43merror_score\u001B[49m\u001B[38;5;241;43m=\u001B[39;49m\u001B[43merror_score\u001B[49m\u001B[43m,\u001B[49m\n\u001B[0;32m    282\u001B[0m \u001B[43m    \u001B[49m\u001B[43m)\u001B[49m\n\u001B[0;32m    283\u001B[0m \u001B[43m    \u001B[49m\u001B[38;5;28;43;01mfor\u001B[39;49;00m\u001B[43m \u001B[49m\u001B[43mtrain\u001B[49m\u001B[43m,\u001B[49m\u001B[43m \u001B[49m\u001B[43mtest\u001B[49m\u001B[43m \u001B[49m\u001B[38;5;129;43;01min\u001B[39;49;00m\u001B[43m \u001B[49m\u001B[43mcv\u001B[49m\u001B[38;5;241;43m.\u001B[39;49m\u001B[43msplit\u001B[49m\u001B[43m(\u001B[49m\u001B[43mX\u001B[49m\u001B[43m,\u001B[49m\u001B[43m \u001B[49m\u001B[43my\u001B[49m\u001B[43m,\u001B[49m\u001B[43m \u001B[49m\u001B[43mgroups\u001B[49m\u001B[43m)\u001B[49m\n\u001B[0;32m    284\u001B[0m \u001B[43m\u001B[49m\u001B[43m)\u001B[49m\n\u001B[0;32m    286\u001B[0m _warn_about_fit_failures(results, error_score)\n\u001B[0;32m    288\u001B[0m \u001B[38;5;66;03m# For callabe scoring, the return type is only know after calling. If the\u001B[39;00m\n\u001B[0;32m    289\u001B[0m \u001B[38;5;66;03m# return type is a dictionary, the error scores can now be inserted with\u001B[39;00m\n\u001B[0;32m    290\u001B[0m \u001B[38;5;66;03m# the correct key.\u001B[39;00m\n",
      "File \u001B[1;32mD:\\Stud\\6 term\\TMO_BMSTU_22\\venv\\lib\\site-packages\\joblib\\parallel.py:1056\u001B[0m, in \u001B[0;36mParallel.__call__\u001B[1;34m(self, iterable)\u001B[0m\n\u001B[0;32m   1053\u001B[0m     \u001B[38;5;28mself\u001B[39m\u001B[38;5;241m.\u001B[39m_iterating \u001B[38;5;241m=\u001B[39m \u001B[38;5;28;01mFalse\u001B[39;00m\n\u001B[0;32m   1055\u001B[0m \u001B[38;5;28;01mwith\u001B[39;00m \u001B[38;5;28mself\u001B[39m\u001B[38;5;241m.\u001B[39m_backend\u001B[38;5;241m.\u001B[39mretrieval_context():\n\u001B[1;32m-> 1056\u001B[0m     \u001B[38;5;28;43mself\u001B[39;49m\u001B[38;5;241;43m.\u001B[39;49m\u001B[43mretrieve\u001B[49m\u001B[43m(\u001B[49m\u001B[43m)\u001B[49m\n\u001B[0;32m   1057\u001B[0m \u001B[38;5;66;03m# Make sure that we get a last message telling us we are done\u001B[39;00m\n\u001B[0;32m   1058\u001B[0m elapsed_time \u001B[38;5;241m=\u001B[39m time\u001B[38;5;241m.\u001B[39mtime() \u001B[38;5;241m-\u001B[39m \u001B[38;5;28mself\u001B[39m\u001B[38;5;241m.\u001B[39m_start_time\n",
      "File \u001B[1;32mD:\\Stud\\6 term\\TMO_BMSTU_22\\venv\\lib\\site-packages\\joblib\\parallel.py:935\u001B[0m, in \u001B[0;36mParallel.retrieve\u001B[1;34m(self)\u001B[0m\n\u001B[0;32m    933\u001B[0m \u001B[38;5;28;01mtry\u001B[39;00m:\n\u001B[0;32m    934\u001B[0m     \u001B[38;5;28;01mif\u001B[39;00m \u001B[38;5;28mgetattr\u001B[39m(\u001B[38;5;28mself\u001B[39m\u001B[38;5;241m.\u001B[39m_backend, \u001B[38;5;124m'\u001B[39m\u001B[38;5;124msupports_timeout\u001B[39m\u001B[38;5;124m'\u001B[39m, \u001B[38;5;28;01mFalse\u001B[39;00m):\n\u001B[1;32m--> 935\u001B[0m         \u001B[38;5;28mself\u001B[39m\u001B[38;5;241m.\u001B[39m_output\u001B[38;5;241m.\u001B[39mextend(\u001B[43mjob\u001B[49m\u001B[38;5;241;43m.\u001B[39;49m\u001B[43mget\u001B[49m\u001B[43m(\u001B[49m\u001B[43mtimeout\u001B[49m\u001B[38;5;241;43m=\u001B[39;49m\u001B[38;5;28;43mself\u001B[39;49m\u001B[38;5;241;43m.\u001B[39;49m\u001B[43mtimeout\u001B[49m\u001B[43m)\u001B[49m)\n\u001B[0;32m    936\u001B[0m     \u001B[38;5;28;01melse\u001B[39;00m:\n\u001B[0;32m    937\u001B[0m         \u001B[38;5;28mself\u001B[39m\u001B[38;5;241m.\u001B[39m_output\u001B[38;5;241m.\u001B[39mextend(job\u001B[38;5;241m.\u001B[39mget())\n",
      "File \u001B[1;32mD:\\Stud\\6 term\\TMO_BMSTU_22\\venv\\lib\\site-packages\\joblib\\_parallel_backends.py:542\u001B[0m, in \u001B[0;36mLokyBackend.wrap_future_result\u001B[1;34m(future, timeout)\u001B[0m\n\u001B[0;32m    539\u001B[0m \u001B[38;5;124;03m\"\"\"Wrapper for Future.result to implement the same behaviour as\u001B[39;00m\n\u001B[0;32m    540\u001B[0m \u001B[38;5;124;03mAsyncResults.get from multiprocessing.\"\"\"\u001B[39;00m\n\u001B[0;32m    541\u001B[0m \u001B[38;5;28;01mtry\u001B[39;00m:\n\u001B[1;32m--> 542\u001B[0m     \u001B[38;5;28;01mreturn\u001B[39;00m \u001B[43mfuture\u001B[49m\u001B[38;5;241;43m.\u001B[39;49m\u001B[43mresult\u001B[49m\u001B[43m(\u001B[49m\u001B[43mtimeout\u001B[49m\u001B[38;5;241;43m=\u001B[39;49m\u001B[43mtimeout\u001B[49m\u001B[43m)\u001B[49m\n\u001B[0;32m    543\u001B[0m \u001B[38;5;28;01mexcept\u001B[39;00m CfTimeoutError \u001B[38;5;28;01mas\u001B[39;00m e:\n\u001B[0;32m    544\u001B[0m     \u001B[38;5;28;01mraise\u001B[39;00m \u001B[38;5;167;01mTimeoutError\u001B[39;00m \u001B[38;5;28;01mfrom\u001B[39;00m \u001B[38;5;21;01me\u001B[39;00m\n",
      "File \u001B[1;32m~\\AppData\\Local\\Programs\\Python\\Python39\\lib\\concurrent\\futures\\_base.py:440\u001B[0m, in \u001B[0;36mFuture.result\u001B[1;34m(self, timeout)\u001B[0m\n\u001B[0;32m    437\u001B[0m \u001B[38;5;28;01melif\u001B[39;00m \u001B[38;5;28mself\u001B[39m\u001B[38;5;241m.\u001B[39m_state \u001B[38;5;241m==\u001B[39m FINISHED:\n\u001B[0;32m    438\u001B[0m     \u001B[38;5;28;01mreturn\u001B[39;00m \u001B[38;5;28mself\u001B[39m\u001B[38;5;241m.\u001B[39m__get_result()\n\u001B[1;32m--> 440\u001B[0m \u001B[38;5;28;43mself\u001B[39;49m\u001B[38;5;241;43m.\u001B[39;49m\u001B[43m_condition\u001B[49m\u001B[38;5;241;43m.\u001B[39;49m\u001B[43mwait\u001B[49m\u001B[43m(\u001B[49m\u001B[43mtimeout\u001B[49m\u001B[43m)\u001B[49m\n\u001B[0;32m    442\u001B[0m \u001B[38;5;28;01mif\u001B[39;00m \u001B[38;5;28mself\u001B[39m\u001B[38;5;241m.\u001B[39m_state \u001B[38;5;129;01min\u001B[39;00m [CANCELLED, CANCELLED_AND_NOTIFIED]:\n\u001B[0;32m    443\u001B[0m     \u001B[38;5;28;01mraise\u001B[39;00m CancelledError()\n",
      "File \u001B[1;32m~\\AppData\\Local\\Programs\\Python\\Python39\\lib\\threading.py:312\u001B[0m, in \u001B[0;36mCondition.wait\u001B[1;34m(self, timeout)\u001B[0m\n\u001B[0;32m    310\u001B[0m \u001B[38;5;28;01mtry\u001B[39;00m:    \u001B[38;5;66;03m# restore state no matter what (e.g., KeyboardInterrupt)\u001B[39;00m\n\u001B[0;32m    311\u001B[0m     \u001B[38;5;28;01mif\u001B[39;00m timeout \u001B[38;5;129;01mis\u001B[39;00m \u001B[38;5;28;01mNone\u001B[39;00m:\n\u001B[1;32m--> 312\u001B[0m         \u001B[43mwaiter\u001B[49m\u001B[38;5;241;43m.\u001B[39;49m\u001B[43macquire\u001B[49m\u001B[43m(\u001B[49m\u001B[43m)\u001B[49m\n\u001B[0;32m    313\u001B[0m         gotit \u001B[38;5;241m=\u001B[39m \u001B[38;5;28;01mTrue\u001B[39;00m\n\u001B[0;32m    314\u001B[0m     \u001B[38;5;28;01melse\u001B[39;00m:\n",
      "\u001B[1;31mKeyboardInterrupt\u001B[0m: "
     ]
    }
   ],
   "source": [
    "%%time\n",
    "# RepeatedKFold\n",
    "scores = cross_validate(KNeighborsClassifier(n_neighbors=20),\n",
    "                        data_X, data_y, scoring=scoring,\n",
    "                        cv=RepeatedKFold(n_splits=5, n_repeats=3), return_train_score=True, n_jobs=2)\n",
    "scores"
   ],
   "metadata": {
    "collapsed": false,
    "pycharm": {
     "name": "#%%\n"
    }
   }
  },
  {
   "cell_type": "code",
   "execution_count": null,
   "outputs": [],
   "source": [
    "%%time\n",
    "# ShuffleSplit\n",
    "scores = cross_validate(KNeighborsClassifier(n_neighbors=20),\n",
    "                        data_X, data_y, scoring=scoring,\n",
    "                        cv=ShuffleSplit(n_splits=5, test_size=0.25), return_train_score=True, n_jobs=2)\n",
    "scores"
   ],
   "metadata": {
    "collapsed": false,
    "pycharm": {
     "name": "#%%\n",
     "is_executing": true
    }
   }
  },
  {
   "cell_type": "markdown",
   "source": [
    "Применим рандомизированный поиск для подбора оптимального количетсва ближайших соседей"
   ],
   "metadata": {
    "collapsed": false
   }
  },
  {
   "cell_type": "code",
   "execution_count": null,
   "outputs": [],
   "source": [
    "%%time\n",
    "from sklearn.model_selection import GridSearchCV, RandomizedSearchCV\n",
    "\n",
    "params = [{'n_neighbors': list(range(5, 100, 5)),\n",
    "           'p': [1, 2]}]\n",
    "search = RandomizedSearchCV(KNeighborsClassifier(), params, cv=5, scoring='f1_weighted', n_jobs=2)\n",
    "search.fit(data_X, data_y)"
   ],
   "metadata": {
    "collapsed": false,
    "pycharm": {
     "name": "#%%\n",
     "is_executing": true
    }
   }
  },
  {
   "cell_type": "code",
   "execution_count": null,
   "outputs": [],
   "source": [
    "search.best_score_, search.best_params_"
   ],
   "metadata": {
    "collapsed": false,
    "pycharm": {
     "name": "#%%\n",
     "is_executing": true
    }
   }
  },
  {
   "cell_type": "markdown",
   "source": [
    "Теперь уточним это значение с помощью обычного GridSearch"
   ],
   "metadata": {
    "collapsed": false
   }
  },
  {
   "cell_type": "code",
   "execution_count": null,
   "outputs": [],
   "source": [
    "%%time\n",
    "\n",
    "n_range = range(25, 61, 3)\n",
    "params = [{'n_neighbors': list(n_range),\n",
    "           'p': [1]}]\n",
    "search = GridSearchCV(KNeighborsClassifier(), params, cv=5, scoring='f1_weighted', n_jobs=3)\n",
    "search.fit(data_X, data_y)"
   ],
   "metadata": {
    "collapsed": false,
    "pycharm": {
     "name": "#%%\n",
     "is_executing": true
    }
   }
  },
  {
   "cell_type": "code",
   "execution_count": null,
   "outputs": [],
   "source": [
    "search.best_score_, search.best_params_"
   ],
   "metadata": {
    "collapsed": false,
    "pycharm": {
     "name": "#%%\n",
     "is_executing": true
    }
   }
  },
  {
   "cell_type": "code",
   "execution_count": null,
   "outputs": [],
   "source": [
    "plt.plot(n_range, search.cv_results_['mean_test_score'])"
   ],
   "metadata": {
    "collapsed": false,
    "pycharm": {
     "name": "#%%\n",
     "is_executing": true
    }
   }
  },
  {
   "cell_type": "markdown",
   "source": [
    "Обучим новую модель с учетом найденного гиперпараметра"
   ],
   "metadata": {
    "collapsed": false
   }
  },
  {
   "cell_type": "code",
   "execution_count": null,
   "outputs": [],
   "source": [
    "search.best_estimator_.fit(data_X_train, data_Y_train)\n",
    "best_est_predict_train = search.best_estimator_.predict(data_X_train)\n",
    "best_est_predict_test = search.best_estimator_.predict(data_X_test)"
   ],
   "metadata": {
    "collapsed": false,
    "pycharm": {
     "name": "#%%\n",
     "is_executing": true
    }
   }
  },
  {
   "cell_type": "code",
   "execution_count": null,
   "outputs": [],
   "source": [
    "# Accuracy новой модели\n",
    "accuracy_score(data_Y_train, best_est_predict_train), accuracy_score(data_Y_test, best_est_predict_test)"
   ],
   "metadata": {
    "collapsed": false,
    "pycharm": {
     "name": "#%%\n",
     "is_executing": true
    }
   }
  },
  {
   "cell_type": "markdown",
   "source": [
    "Построим кривые обучения и валидации"
   ],
   "metadata": {
    "collapsed": false
   }
  },
  {
   "cell_type": "code",
   "execution_count": null,
   "outputs": [],
   "source": [
    "from sklearn.model_selection import learning_curve, validation_curve\n",
    "\n",
    "def plot_learning_curve(estimator, title, X, y, ylim=None, cv=None,\n",
    "                        n_jobs=None, train_sizes=np.linspace(.1, 1.0, 5), scoring='accuracy'):\n",
    "    plt.figure()\n",
    "    plt.title(title)\n",
    "    if ylim is not None:\n",
    "        plt.ylim(*ylim)\n",
    "    plt.xlabel(\"Training examples\")\n",
    "    plt.ylabel(scoring)\n",
    "    train_sizes, train_scores, test_scores = learning_curve(\n",
    "        estimator, X, y, cv=cv, scoring=scoring, n_jobs=n_jobs, train_sizes=train_sizes)\n",
    "    train_scores_mean = np.mean(train_scores, axis=1)\n",
    "    train_scores_std = np.std(train_scores, axis=1)\n",
    "    test_scores_mean = np.mean(test_scores, axis=1)\n",
    "    test_scores_std = np.std(test_scores, axis=1)\n",
    "    plt.grid()\n",
    "\n",
    "    plt.fill_between(train_sizes, train_scores_mean - train_scores_std,\n",
    "                     train_scores_mean + train_scores_std, alpha=0.3,\n",
    "                     color=\"r\")\n",
    "    plt.fill_between(train_sizes, test_scores_mean - test_scores_std,\n",
    "                     test_scores_mean + test_scores_std, alpha=0.1, color=\"g\")\n",
    "    plt.plot(train_sizes, train_scores_mean, 'o-', color=\"r\",\n",
    "             label=\"Training score\")\n",
    "    plt.plot(train_sizes, test_scores_mean, 'o-', color=\"g\",\n",
    "             label=\"Cross-validation score\")\n",
    "\n",
    "    plt.legend(loc=\"best\")\n",
    "    return plt"
   ],
   "metadata": {
    "collapsed": false,
    "pycharm": {
     "name": "#%%\n",
     "is_executing": true
    }
   }
  },
  {
   "cell_type": "code",
   "execution_count": null,
   "outputs": [],
   "source": [
    "def plot_validation_curve(estimator, title, X, y,\n",
    "                          param_name, param_range, cv,\n",
    "                          scoring='accuracy', n_jobs=1):\n",
    "\n",
    "    train_scores, test_scores = validation_curve(\n",
    "        estimator, X, y, param_name=param_name, param_range=param_range,\n",
    "        cv=cv, scoring=scoring, n_jobs=n_jobs)\n",
    "    train_scores_mean = np.mean(train_scores, axis=1)\n",
    "    train_scores_std = np.std(train_scores, axis=1)\n",
    "    test_scores_mean = np.mean(test_scores, axis=1)\n",
    "    test_scores_std = np.std(test_scores, axis=1)\n",
    "\n",
    "    plt.title(title)\n",
    "    plt.xlabel(param_name)\n",
    "    plt.ylabel(str(scoring))\n",
    "    plt.ylim(0.0, 1.1)\n",
    "    lw = 2\n",
    "    plt.plot(param_range, train_scores_mean, label=\"Training score\",\n",
    "             color=\"darkorange\", lw=lw)\n",
    "    plt.fill_between(param_range, train_scores_mean - train_scores_std,\n",
    "                     train_scores_mean + train_scores_std, alpha=0.4,\n",
    "                     color=\"darkorange\", lw=lw)\n",
    "    plt.plot(param_range, test_scores_mean, label=\"Cross-validation score\",\n",
    "             color=\"navy\", lw=lw)\n",
    "    plt.fill_between(param_range, test_scores_mean - test_scores_std,\n",
    "                     test_scores_mean + test_scores_std, alpha=0.2,\n",
    "                     color=\"navy\", lw=lw)\n",
    "    plt.legend(loc=\"best\")\n",
    "    return plt"
   ],
   "metadata": {
    "collapsed": false,
    "pycharm": {
     "name": "#%%\n",
     "is_executing": true
    }
   }
  },
  {
   "cell_type": "code",
   "execution_count": null,
   "outputs": [],
   "source": [
    "plot_learning_curve(search.best_estimator_, 'n_neighbors=42',\n",
    "                    data_X_train, data_Y_train, cv=5, train_sizes=np.linspace(.2, 1.0, 5), n_jobs=4)"
   ],
   "metadata": {
    "collapsed": false,
    "pycharm": {
     "name": "#%%\n",
     "is_executing": true
    }
   }
  },
  {
   "cell_type": "code",
   "execution_count": null,
   "outputs": [],
   "source": [
    "n_range2 = np.array(range(10, 100, 10))"
   ],
   "metadata": {
    "collapsed": false,
    "pycharm": {
     "name": "#%%\n",
     "is_executing": true
    }
   }
  },
  {
   "cell_type": "code",
   "execution_count": null,
   "outputs": [],
   "source": [
    "plot_validation_curve(search.best_estimator_, 'knn',\n",
    "                      data_X_train, data_Y_train,\n",
    "                      param_name='n_neighbors', param_range=n_range2,\n",
    "                      cv=5, scoring='accuracy', n_jobs=4)"
   ],
   "metadata": {
    "collapsed": false,
    "pycharm": {
     "name": "#%%\n",
     "is_executing": true
    }
   }
  },
  {
   "cell_type": "code",
   "execution_count": null,
   "outputs": [],
   "source": [],
   "metadata": {
    "collapsed": false,
    "pycharm": {
     "name": "#%%\n",
     "is_executing": true
    }
   }
  }
 ],
 "metadata": {
  "kernelspec": {
   "display_name": "Python 3",
   "language": "python",
   "name": "python3"
  },
  "language_info": {
   "codemirror_mode": {
    "name": "ipython",
    "version": 2
   },
   "file_extension": ".py",
   "mimetype": "text/x-python",
   "name": "python",
   "nbconvert_exporter": "python",
   "pygments_lexer": "ipython2",
   "version": "2.7.6"
  }
 },
 "nbformat": 4,
 "nbformat_minor": 0
}