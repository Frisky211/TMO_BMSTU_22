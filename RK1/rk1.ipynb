{
 "cells": [
  {
   "cell_type": "markdown",
   "metadata": {},
   "source": [
    "# Рубежный контроль №1\n",
    "## Технологии разведочного анализа и обработки данных. Вариант 12\n",
    "## Выполнил Плешаков Владислав, РТ5-61Б\n",
    "\n",
    "Задача: Для заданного набора данных проведите обработку пропусков в данных для одного категориального и одного количественного признака. Какие способы обработки пропусков в данных для категориальных и количественных признаков Вы использовали? Какие признаки Вы будете использовать для дальнейшего построения моделей машинного обучения и почему?\n",
    "\n",
    "Датасет: https://www.kaggle.com/noriuk/us-education-datasets-unification-project"
   ]
  },
  {
   "cell_type": "code",
   "execution_count": 1,
   "metadata": {
    "collapsed": true
   },
   "outputs": [],
   "source": [
    "import numpy as np\n",
    "import pandas as pd\n",
    "import matplotlib.pyplot as plt\n",
    "import seaborn as sns\n",
    "from sklearn.impute import SimpleImputer"
   ]
  },
  {
   "cell_type": "markdown",
   "metadata": {},
   "source": [
    "## Общая информация о данных"
   ]
  },
  {
   "cell_type": "code",
   "execution_count": 2,
   "metadata": {
    "pycharm": {
     "name": "#%%\n"
    }
   },
   "outputs": [],
   "source": [
    "data = pd.read_csv('data/states_all.csv', sep=',')"
   ]
  },
  {
   "cell_type": "code",
   "execution_count": 3,
   "metadata": {
    "collapsed": true,
    "pycharm": {
     "name": "#%%\n"
    }
   },
   "outputs": [
    {
     "data": {
      "text/html": [
       "<div>\n",
       "<style scoped>\n",
       "    .dataframe tbody tr th:only-of-type {\n",
       "        vertical-align: middle;\n",
       "    }\n",
       "\n",
       "    .dataframe tbody tr th {\n",
       "        vertical-align: top;\n",
       "    }\n",
       "\n",
       "    .dataframe thead th {\n",
       "        text-align: right;\n",
       "    }\n",
       "</style>\n",
       "<table border=\"1\" class=\"dataframe\">\n",
       "  <thead>\n",
       "    <tr style=\"text-align: right;\">\n",
       "      <th></th>\n",
       "      <th>PRIMARY_KEY</th>\n",
       "      <th>STATE</th>\n",
       "      <th>YEAR</th>\n",
       "      <th>ENROLL</th>\n",
       "      <th>TOTAL_REVENUE</th>\n",
       "      <th>FEDERAL_REVENUE</th>\n",
       "      <th>STATE_REVENUE</th>\n",
       "      <th>LOCAL_REVENUE</th>\n",
       "      <th>TOTAL_EXPENDITURE</th>\n",
       "      <th>INSTRUCTION_EXPENDITURE</th>\n",
       "      <th>...</th>\n",
       "      <th>GRADES_4_G</th>\n",
       "      <th>GRADES_8_G</th>\n",
       "      <th>GRADES_12_G</th>\n",
       "      <th>GRADES_1_8_G</th>\n",
       "      <th>GRADES_9_12_G</th>\n",
       "      <th>GRADES_ALL_G</th>\n",
       "      <th>AVG_MATH_4_SCORE</th>\n",
       "      <th>AVG_MATH_8_SCORE</th>\n",
       "      <th>AVG_READING_4_SCORE</th>\n",
       "      <th>AVG_READING_8_SCORE</th>\n",
       "    </tr>\n",
       "  </thead>\n",
       "  <tbody>\n",
       "    <tr>\n",
       "      <th>0</th>\n",
       "      <td>1992_ALABAMA</td>\n",
       "      <td>ALABAMA</td>\n",
       "      <td>1992</td>\n",
       "      <td>NaN</td>\n",
       "      <td>2678885.0</td>\n",
       "      <td>304177.0</td>\n",
       "      <td>1659028.0</td>\n",
       "      <td>715680.0</td>\n",
       "      <td>2653798.0</td>\n",
       "      <td>1481703.0</td>\n",
       "      <td>...</td>\n",
       "      <td>57948.0</td>\n",
       "      <td>58025.0</td>\n",
       "      <td>41167.0</td>\n",
       "      <td>NaN</td>\n",
       "      <td>NaN</td>\n",
       "      <td>731634.0</td>\n",
       "      <td>208.0</td>\n",
       "      <td>252.0</td>\n",
       "      <td>207.0</td>\n",
       "      <td>NaN</td>\n",
       "    </tr>\n",
       "    <tr>\n",
       "      <th>1</th>\n",
       "      <td>1992_ALASKA</td>\n",
       "      <td>ALASKA</td>\n",
       "      <td>1992</td>\n",
       "      <td>NaN</td>\n",
       "      <td>1049591.0</td>\n",
       "      <td>106780.0</td>\n",
       "      <td>720711.0</td>\n",
       "      <td>222100.0</td>\n",
       "      <td>972488.0</td>\n",
       "      <td>498362.0</td>\n",
       "      <td>...</td>\n",
       "      <td>9748.0</td>\n",
       "      <td>8789.0</td>\n",
       "      <td>6714.0</td>\n",
       "      <td>NaN</td>\n",
       "      <td>NaN</td>\n",
       "      <td>122487.0</td>\n",
       "      <td>NaN</td>\n",
       "      <td>NaN</td>\n",
       "      <td>NaN</td>\n",
       "      <td>NaN</td>\n",
       "    </tr>\n",
       "    <tr>\n",
       "      <th>2</th>\n",
       "      <td>1992_ARIZONA</td>\n",
       "      <td>ARIZONA</td>\n",
       "      <td>1992</td>\n",
       "      <td>NaN</td>\n",
       "      <td>3258079.0</td>\n",
       "      <td>297888.0</td>\n",
       "      <td>1369815.0</td>\n",
       "      <td>1590376.0</td>\n",
       "      <td>3401580.0</td>\n",
       "      <td>1435908.0</td>\n",
       "      <td>...</td>\n",
       "      <td>55433.0</td>\n",
       "      <td>49081.0</td>\n",
       "      <td>37410.0</td>\n",
       "      <td>NaN</td>\n",
       "      <td>NaN</td>\n",
       "      <td>673477.0</td>\n",
       "      <td>215.0</td>\n",
       "      <td>265.0</td>\n",
       "      <td>209.0</td>\n",
       "      <td>NaN</td>\n",
       "    </tr>\n",
       "    <tr>\n",
       "      <th>3</th>\n",
       "      <td>1992_ARKANSAS</td>\n",
       "      <td>ARKANSAS</td>\n",
       "      <td>1992</td>\n",
       "      <td>NaN</td>\n",
       "      <td>1711959.0</td>\n",
       "      <td>178571.0</td>\n",
       "      <td>958785.0</td>\n",
       "      <td>574603.0</td>\n",
       "      <td>1743022.0</td>\n",
       "      <td>964323.0</td>\n",
       "      <td>...</td>\n",
       "      <td>34632.0</td>\n",
       "      <td>36011.0</td>\n",
       "      <td>27651.0</td>\n",
       "      <td>NaN</td>\n",
       "      <td>NaN</td>\n",
       "      <td>441490.0</td>\n",
       "      <td>210.0</td>\n",
       "      <td>256.0</td>\n",
       "      <td>211.0</td>\n",
       "      <td>NaN</td>\n",
       "    </tr>\n",
       "    <tr>\n",
       "      <th>4</th>\n",
       "      <td>1992_CALIFORNIA</td>\n",
       "      <td>CALIFORNIA</td>\n",
       "      <td>1992</td>\n",
       "      <td>NaN</td>\n",
       "      <td>26260025.0</td>\n",
       "      <td>2072470.0</td>\n",
       "      <td>16546514.0</td>\n",
       "      <td>7641041.0</td>\n",
       "      <td>27138832.0</td>\n",
       "      <td>14358922.0</td>\n",
       "      <td>...</td>\n",
       "      <td>418418.0</td>\n",
       "      <td>363296.0</td>\n",
       "      <td>270675.0</td>\n",
       "      <td>NaN</td>\n",
       "      <td>NaN</td>\n",
       "      <td>5254844.0</td>\n",
       "      <td>208.0</td>\n",
       "      <td>261.0</td>\n",
       "      <td>202.0</td>\n",
       "      <td>NaN</td>\n",
       "    </tr>\n",
       "  </tbody>\n",
       "</table>\n",
       "<p>5 rows × 25 columns</p>\n",
       "</div>"
      ],
      "text/plain": [
       "       PRIMARY_KEY       STATE  YEAR  ENROLL  TOTAL_REVENUE  FEDERAL_REVENUE  \\\n",
       "0     1992_ALABAMA     ALABAMA  1992     NaN      2678885.0         304177.0   \n",
       "1      1992_ALASKA      ALASKA  1992     NaN      1049591.0         106780.0   \n",
       "2     1992_ARIZONA     ARIZONA  1992     NaN      3258079.0         297888.0   \n",
       "3    1992_ARKANSAS    ARKANSAS  1992     NaN      1711959.0         178571.0   \n",
       "4  1992_CALIFORNIA  CALIFORNIA  1992     NaN     26260025.0        2072470.0   \n",
       "\n",
       "   STATE_REVENUE  LOCAL_REVENUE  TOTAL_EXPENDITURE  INSTRUCTION_EXPENDITURE  \\\n",
       "0      1659028.0       715680.0          2653798.0                1481703.0   \n",
       "1       720711.0       222100.0           972488.0                 498362.0   \n",
       "2      1369815.0      1590376.0          3401580.0                1435908.0   \n",
       "3       958785.0       574603.0          1743022.0                 964323.0   \n",
       "4     16546514.0      7641041.0         27138832.0               14358922.0   \n",
       "\n",
       "   ...  GRADES_4_G  GRADES_8_G  GRADES_12_G  GRADES_1_8_G  GRADES_9_12_G  \\\n",
       "0  ...     57948.0     58025.0      41167.0           NaN            NaN   \n",
       "1  ...      9748.0      8789.0       6714.0           NaN            NaN   \n",
       "2  ...     55433.0     49081.0      37410.0           NaN            NaN   \n",
       "3  ...     34632.0     36011.0      27651.0           NaN            NaN   \n",
       "4  ...    418418.0    363296.0     270675.0           NaN            NaN   \n",
       "\n",
       "   GRADES_ALL_G  AVG_MATH_4_SCORE  AVG_MATH_8_SCORE  AVG_READING_4_SCORE  \\\n",
       "0      731634.0             208.0             252.0                207.0   \n",
       "1      122487.0               NaN               NaN                  NaN   \n",
       "2      673477.0             215.0             265.0                209.0   \n",
       "3      441490.0             210.0             256.0                211.0   \n",
       "4     5254844.0             208.0             261.0                202.0   \n",
       "\n",
       "   AVG_READING_8_SCORE  \n",
       "0                  NaN  \n",
       "1                  NaN  \n",
       "2                  NaN  \n",
       "3                  NaN  \n",
       "4                  NaN  \n",
       "\n",
       "[5 rows x 25 columns]"
      ]
     },
     "execution_count": 3,
     "metadata": {},
     "output_type": "execute_result"
    }
   ],
   "source": [
    "data.head()"
   ]
  },
  {
   "cell_type": "code",
   "execution_count": 4,
   "metadata": {
    "collapsed": true,
    "pycharm": {
     "name": "#%%\n"
    }
   },
   "outputs": [
    {
     "data": {
      "text/html": [
       "<div>\n",
       "<style scoped>\n",
       "    .dataframe tbody tr th:only-of-type {\n",
       "        vertical-align: middle;\n",
       "    }\n",
       "\n",
       "    .dataframe tbody tr th {\n",
       "        vertical-align: top;\n",
       "    }\n",
       "\n",
       "    .dataframe thead th {\n",
       "        text-align: right;\n",
       "    }\n",
       "</style>\n",
       "<table border=\"1\" class=\"dataframe\">\n",
       "  <thead>\n",
       "    <tr style=\"text-align: right;\">\n",
       "      <th></th>\n",
       "      <th>YEAR</th>\n",
       "      <th>ENROLL</th>\n",
       "      <th>TOTAL_REVENUE</th>\n",
       "      <th>FEDERAL_REVENUE</th>\n",
       "      <th>STATE_REVENUE</th>\n",
       "      <th>LOCAL_REVENUE</th>\n",
       "      <th>TOTAL_EXPENDITURE</th>\n",
       "      <th>INSTRUCTION_EXPENDITURE</th>\n",
       "      <th>SUPPORT_SERVICES_EXPENDITURE</th>\n",
       "      <th>OTHER_EXPENDITURE</th>\n",
       "      <th>...</th>\n",
       "      <th>GRADES_4_G</th>\n",
       "      <th>GRADES_8_G</th>\n",
       "      <th>GRADES_12_G</th>\n",
       "      <th>GRADES_1_8_G</th>\n",
       "      <th>GRADES_9_12_G</th>\n",
       "      <th>GRADES_ALL_G</th>\n",
       "      <th>AVG_MATH_4_SCORE</th>\n",
       "      <th>AVG_MATH_8_SCORE</th>\n",
       "      <th>AVG_READING_4_SCORE</th>\n",
       "      <th>AVG_READING_8_SCORE</th>\n",
       "    </tr>\n",
       "  </thead>\n",
       "  <tbody>\n",
       "    <tr>\n",
       "      <th>count</th>\n",
       "      <td>1715.000000</td>\n",
       "      <td>1.224000e+03</td>\n",
       "      <td>1.275000e+03</td>\n",
       "      <td>1.275000e+03</td>\n",
       "      <td>1.275000e+03</td>\n",
       "      <td>1.275000e+03</td>\n",
       "      <td>1.275000e+03</td>\n",
       "      <td>1.275000e+03</td>\n",
       "      <td>1.275000e+03</td>\n",
       "      <td>1.224000e+03</td>\n",
       "      <td>...</td>\n",
       "      <td>1632.000000</td>\n",
       "      <td>1632.000000</td>\n",
       "      <td>1632.000000</td>\n",
       "      <td>1.020000e+03</td>\n",
       "      <td>1.071000e+03</td>\n",
       "      <td>1.632000e+03</td>\n",
       "      <td>565.000000</td>\n",
       "      <td>602.000000</td>\n",
       "      <td>650.000000</td>\n",
       "      <td>562.000000</td>\n",
       "    </tr>\n",
       "    <tr>\n",
       "      <th>mean</th>\n",
       "      <td>2002.075219</td>\n",
       "      <td>9.175416e+05</td>\n",
       "      <td>9.102045e+06</td>\n",
       "      <td>7.677799e+05</td>\n",
       "      <td>4.223743e+06</td>\n",
       "      <td>4.110522e+06</td>\n",
       "      <td>9.206242e+06</td>\n",
       "      <td>4.768010e+06</td>\n",
       "      <td>2.682587e+06</td>\n",
       "      <td>4.299509e+05</td>\n",
       "      <td>...</td>\n",
       "      <td>69166.507966</td>\n",
       "      <td>68106.537377</td>\n",
       "      <td>58420.870711</td>\n",
       "      <td>5.779547e+05</td>\n",
       "      <td>2.820691e+05</td>\n",
       "      <td>9.139695e+05</td>\n",
       "      <td>236.327434</td>\n",
       "      <td>278.280731</td>\n",
       "      <td>218.806154</td>\n",
       "      <td>263.558719</td>\n",
       "    </tr>\n",
       "    <tr>\n",
       "      <th>std</th>\n",
       "      <td>9.568621</td>\n",
       "      <td>1.066514e+06</td>\n",
       "      <td>1.175962e+07</td>\n",
       "      <td>1.146992e+06</td>\n",
       "      <td>5.549735e+06</td>\n",
       "      <td>5.489562e+06</td>\n",
       "      <td>1.199279e+07</td>\n",
       "      <td>6.300569e+06</td>\n",
       "      <td>3.357214e+06</td>\n",
       "      <td>5.347893e+05</td>\n",
       "      <td>...</td>\n",
       "      <td>79957.990356</td>\n",
       "      <td>77965.847263</td>\n",
       "      <td>67438.530709</td>\n",
       "      <td>6.757837e+05</td>\n",
       "      <td>3.307098e+05</td>\n",
       "      <td>1.055893e+06</td>\n",
       "      <td>9.285505</td>\n",
       "      <td>10.343482</td>\n",
       "      <td>7.681805</td>\n",
       "      <td>6.612601</td>\n",
       "    </tr>\n",
       "    <tr>\n",
       "      <th>min</th>\n",
       "      <td>1986.000000</td>\n",
       "      <td>4.386600e+04</td>\n",
       "      <td>4.656500e+05</td>\n",
       "      <td>3.102000e+04</td>\n",
       "      <td>0.000000e+00</td>\n",
       "      <td>2.209300e+04</td>\n",
       "      <td>4.816650e+05</td>\n",
       "      <td>2.655490e+05</td>\n",
       "      <td>1.399630e+05</td>\n",
       "      <td>1.154100e+04</td>\n",
       "      <td>...</td>\n",
       "      <td>4577.000000</td>\n",
       "      <td>3371.000000</td>\n",
       "      <td>2572.000000</td>\n",
       "      <td>3.769800e+04</td>\n",
       "      <td>1.353000e+04</td>\n",
       "      <td>6.844900e+04</td>\n",
       "      <td>192.000000</td>\n",
       "      <td>231.000000</td>\n",
       "      <td>179.000000</td>\n",
       "      <td>236.000000</td>\n",
       "    </tr>\n",
       "    <tr>\n",
       "      <th>25%</th>\n",
       "      <td>1994.000000</td>\n",
       "      <td>2.645145e+05</td>\n",
       "      <td>2.189504e+06</td>\n",
       "      <td>1.899575e+05</td>\n",
       "      <td>1.165776e+06</td>\n",
       "      <td>7.151210e+05</td>\n",
       "      <td>2.170404e+06</td>\n",
       "      <td>1.171336e+06</td>\n",
       "      <td>6.380760e+05</td>\n",
       "      <td>1.034492e+05</td>\n",
       "      <td>...</td>\n",
       "      <td>18971.500000</td>\n",
       "      <td>19594.250000</td>\n",
       "      <td>16076.500000</td>\n",
       "      <td>1.649250e+05</td>\n",
       "      <td>8.060800e+04</td>\n",
       "      <td>2.480832e+05</td>\n",
       "      <td>232.000000</td>\n",
       "      <td>272.000000</td>\n",
       "      <td>215.000000</td>\n",
       "      <td>260.000000</td>\n",
       "    </tr>\n",
       "    <tr>\n",
       "      <th>50%</th>\n",
       "      <td>2002.000000</td>\n",
       "      <td>6.499335e+05</td>\n",
       "      <td>5.085826e+06</td>\n",
       "      <td>4.035480e+05</td>\n",
       "      <td>2.537754e+06</td>\n",
       "      <td>2.058996e+06</td>\n",
       "      <td>5.242672e+06</td>\n",
       "      <td>2.658253e+06</td>\n",
       "      <td>1.525471e+06</td>\n",
       "      <td>2.717040e+05</td>\n",
       "      <td>...</td>\n",
       "      <td>49087.000000</td>\n",
       "      <td>47880.000000</td>\n",
       "      <td>39408.000000</td>\n",
       "      <td>4.051115e+05</td>\n",
       "      <td>1.869190e+05</td>\n",
       "      <td>6.458050e+05</td>\n",
       "      <td>238.000000</td>\n",
       "      <td>280.500000</td>\n",
       "      <td>220.000000</td>\n",
       "      <td>265.000000</td>\n",
       "    </tr>\n",
       "    <tr>\n",
       "      <th>75%</th>\n",
       "      <td>2010.000000</td>\n",
       "      <td>1.010532e+06</td>\n",
       "      <td>1.084516e+07</td>\n",
       "      <td>8.279320e+05</td>\n",
       "      <td>5.055548e+06</td>\n",
       "      <td>4.755293e+06</td>\n",
       "      <td>1.074420e+07</td>\n",
       "      <td>5.561959e+06</td>\n",
       "      <td>3.222924e+06</td>\n",
       "      <td>5.172222e+05</td>\n",
       "      <td>...</td>\n",
       "      <td>78504.250000</td>\n",
       "      <td>78976.000000</td>\n",
       "      <td>69397.250000</td>\n",
       "      <td>6.439752e+05</td>\n",
       "      <td>3.223280e+05</td>\n",
       "      <td>1.043420e+06</td>\n",
       "      <td>242.000000</td>\n",
       "      <td>286.000000</td>\n",
       "      <td>224.000000</td>\n",
       "      <td>268.000000</td>\n",
       "    </tr>\n",
       "    <tr>\n",
       "      <th>max</th>\n",
       "      <td>2019.000000</td>\n",
       "      <td>6.307022e+06</td>\n",
       "      <td>8.921726e+07</td>\n",
       "      <td>9.990221e+06</td>\n",
       "      <td>5.090457e+07</td>\n",
       "      <td>3.610526e+07</td>\n",
       "      <td>8.532013e+07</td>\n",
       "      <td>4.396452e+07</td>\n",
       "      <td>2.605802e+07</td>\n",
       "      <td>3.995951e+06</td>\n",
       "      <td>...</td>\n",
       "      <td>493415.000000</td>\n",
       "      <td>500143.000000</td>\n",
       "      <td>498403.000000</td>\n",
       "      <td>3.929869e+06</td>\n",
       "      <td>2.013687e+06</td>\n",
       "      <td>6.441557e+06</td>\n",
       "      <td>253.000000</td>\n",
       "      <td>301.000000</td>\n",
       "      <td>237.000000</td>\n",
       "      <td>280.000000</td>\n",
       "    </tr>\n",
       "  </tbody>\n",
       "</table>\n",
       "<p>8 rows × 23 columns</p>\n",
       "</div>"
      ],
      "text/plain": [
       "              YEAR        ENROLL  TOTAL_REVENUE  FEDERAL_REVENUE  \\\n",
       "count  1715.000000  1.224000e+03   1.275000e+03     1.275000e+03   \n",
       "mean   2002.075219  9.175416e+05   9.102045e+06     7.677799e+05   \n",
       "std       9.568621  1.066514e+06   1.175962e+07     1.146992e+06   \n",
       "min    1986.000000  4.386600e+04   4.656500e+05     3.102000e+04   \n",
       "25%    1994.000000  2.645145e+05   2.189504e+06     1.899575e+05   \n",
       "50%    2002.000000  6.499335e+05   5.085826e+06     4.035480e+05   \n",
       "75%    2010.000000  1.010532e+06   1.084516e+07     8.279320e+05   \n",
       "max    2019.000000  6.307022e+06   8.921726e+07     9.990221e+06   \n",
       "\n",
       "       STATE_REVENUE  LOCAL_REVENUE  TOTAL_EXPENDITURE  \\\n",
       "count   1.275000e+03   1.275000e+03       1.275000e+03   \n",
       "mean    4.223743e+06   4.110522e+06       9.206242e+06   \n",
       "std     5.549735e+06   5.489562e+06       1.199279e+07   \n",
       "min     0.000000e+00   2.209300e+04       4.816650e+05   \n",
       "25%     1.165776e+06   7.151210e+05       2.170404e+06   \n",
       "50%     2.537754e+06   2.058996e+06       5.242672e+06   \n",
       "75%     5.055548e+06   4.755293e+06       1.074420e+07   \n",
       "max     5.090457e+07   3.610526e+07       8.532013e+07   \n",
       "\n",
       "       INSTRUCTION_EXPENDITURE  SUPPORT_SERVICES_EXPENDITURE  \\\n",
       "count             1.275000e+03                  1.275000e+03   \n",
       "mean              4.768010e+06                  2.682587e+06   \n",
       "std               6.300569e+06                  3.357214e+06   \n",
       "min               2.655490e+05                  1.399630e+05   \n",
       "25%               1.171336e+06                  6.380760e+05   \n",
       "50%               2.658253e+06                  1.525471e+06   \n",
       "75%               5.561959e+06                  3.222924e+06   \n",
       "max               4.396452e+07                  2.605802e+07   \n",
       "\n",
       "       OTHER_EXPENDITURE  ...     GRADES_4_G     GRADES_8_G    GRADES_12_G  \\\n",
       "count       1.224000e+03  ...    1632.000000    1632.000000    1632.000000   \n",
       "mean        4.299509e+05  ...   69166.507966   68106.537377   58420.870711   \n",
       "std         5.347893e+05  ...   79957.990356   77965.847263   67438.530709   \n",
       "min         1.154100e+04  ...    4577.000000    3371.000000    2572.000000   \n",
       "25%         1.034492e+05  ...   18971.500000   19594.250000   16076.500000   \n",
       "50%         2.717040e+05  ...   49087.000000   47880.000000   39408.000000   \n",
       "75%         5.172222e+05  ...   78504.250000   78976.000000   69397.250000   \n",
       "max         3.995951e+06  ...  493415.000000  500143.000000  498403.000000   \n",
       "\n",
       "       GRADES_1_8_G  GRADES_9_12_G  GRADES_ALL_G  AVG_MATH_4_SCORE  \\\n",
       "count  1.020000e+03   1.071000e+03  1.632000e+03        565.000000   \n",
       "mean   5.779547e+05   2.820691e+05  9.139695e+05        236.327434   \n",
       "std    6.757837e+05   3.307098e+05  1.055893e+06          9.285505   \n",
       "min    3.769800e+04   1.353000e+04  6.844900e+04        192.000000   \n",
       "25%    1.649250e+05   8.060800e+04  2.480832e+05        232.000000   \n",
       "50%    4.051115e+05   1.869190e+05  6.458050e+05        238.000000   \n",
       "75%    6.439752e+05   3.223280e+05  1.043420e+06        242.000000   \n",
       "max    3.929869e+06   2.013687e+06  6.441557e+06        253.000000   \n",
       "\n",
       "       AVG_MATH_8_SCORE  AVG_READING_4_SCORE  AVG_READING_8_SCORE  \n",
       "count        602.000000           650.000000           562.000000  \n",
       "mean         278.280731           218.806154           263.558719  \n",
       "std           10.343482             7.681805             6.612601  \n",
       "min          231.000000           179.000000           236.000000  \n",
       "25%          272.000000           215.000000           260.000000  \n",
       "50%          280.500000           220.000000           265.000000  \n",
       "75%          286.000000           224.000000           268.000000  \n",
       "max          301.000000           237.000000           280.000000  \n",
       "\n",
       "[8 rows x 23 columns]"
      ]
     },
     "execution_count": 4,
     "metadata": {},
     "output_type": "execute_result"
    }
   ],
   "source": [
    "data.describe()"
   ]
  },
  {
   "cell_type": "code",
   "execution_count": 5,
   "metadata": {
    "collapsed": true,
    "pycharm": {
     "name": "#%%\n"
    }
   },
   "outputs": [
    {
     "data": {
      "text/plain": [
       "PRIMARY_KEY                      object\n",
       "STATE                            object\n",
       "YEAR                              int64\n",
       "ENROLL                          float64\n",
       "TOTAL_REVENUE                   float64\n",
       "FEDERAL_REVENUE                 float64\n",
       "STATE_REVENUE                   float64\n",
       "LOCAL_REVENUE                   float64\n",
       "TOTAL_EXPENDITURE               float64\n",
       "INSTRUCTION_EXPENDITURE         float64\n",
       "SUPPORT_SERVICES_EXPENDITURE    float64\n",
       "OTHER_EXPENDITURE               float64\n",
       "CAPITAL_OUTLAY_EXPENDITURE      float64\n",
       "GRADES_PK_G                     float64\n",
       "GRADES_KG_G                     float64\n",
       "GRADES_4_G                      float64\n",
       "GRADES_8_G                      float64\n",
       "GRADES_12_G                     float64\n",
       "GRADES_1_8_G                    float64\n",
       "GRADES_9_12_G                   float64\n",
       "GRADES_ALL_G                    float64\n",
       "AVG_MATH_4_SCORE                float64\n",
       "AVG_MATH_8_SCORE                float64\n",
       "AVG_READING_4_SCORE             float64\n",
       "AVG_READING_8_SCORE             float64\n",
       "dtype: object"
      ]
     },
     "execution_count": 5,
     "metadata": {},
     "output_type": "execute_result"
    }
   ],
   "source": [
    "data.dtypes"
   ]
  },
  {
   "cell_type": "code",
   "execution_count": 6,
   "metadata": {
    "collapsed": true,
    "pycharm": {
     "name": "#%%\n"
    }
   },
   "outputs": [
    {
     "data": {
      "text/plain": [
       "PRIMARY_KEY                        0\n",
       "STATE                              0\n",
       "YEAR                               0\n",
       "ENROLL                           491\n",
       "TOTAL_REVENUE                    440\n",
       "FEDERAL_REVENUE                  440\n",
       "STATE_REVENUE                    440\n",
       "LOCAL_REVENUE                    440\n",
       "TOTAL_EXPENDITURE                440\n",
       "INSTRUCTION_EXPENDITURE          440\n",
       "SUPPORT_SERVICES_EXPENDITURE     440\n",
       "OTHER_EXPENDITURE                491\n",
       "CAPITAL_OUTLAY_EXPENDITURE       440\n",
       "GRADES_PK_G                      173\n",
       "GRADES_KG_G                       83\n",
       "GRADES_4_G                        83\n",
       "GRADES_8_G                        83\n",
       "GRADES_12_G                       83\n",
       "GRADES_1_8_G                     695\n",
       "GRADES_9_12_G                    644\n",
       "GRADES_ALL_G                      83\n",
       "AVG_MATH_4_SCORE                1150\n",
       "AVG_MATH_8_SCORE                1113\n",
       "AVG_READING_4_SCORE             1065\n",
       "AVG_READING_8_SCORE             1153\n",
       "dtype: int64"
      ]
     },
     "execution_count": 6,
     "metadata": {},
     "output_type": "execute_result"
    }
   ],
   "source": [
    "data.isnull().sum()"
   ]
  },
  {
   "cell_type": "markdown",
   "metadata": {},
   "source": [
    "## Заполнение пропусков"
   ]
  },
  {
   "cell_type": "markdown",
   "metadata": {},
   "source": [
    "Посмотрим процент пропусков для каждой из колонок"
   ]
  },
  {
   "cell_type": "code",
   "execution_count": 7,
   "metadata": {
    "collapsed": true,
    "pycharm": {
     "name": "#%%\n"
    }
   },
   "outputs": [
    {
     "name": "stdout",
     "output_type": "stream",
     "text": [
      "Колонка PRIMARY_KEY, тип object, процент пропусков 0.00%\n",
      "Колонка STATE, тип object, процент пропусков 0.00%\n",
      "Колонка YEAR, тип int64, процент пропусков 0.00%\n",
      "Колонка ENROLL, тип float64, процент пропусков 28.63%\n",
      "Колонка TOTAL_REVENUE, тип float64, процент пропусков 25.66%\n",
      "Колонка FEDERAL_REVENUE, тип float64, процент пропусков 25.66%\n",
      "Колонка STATE_REVENUE, тип float64, процент пропусков 25.66%\n",
      "Колонка LOCAL_REVENUE, тип float64, процент пропусков 25.66%\n",
      "Колонка TOTAL_EXPENDITURE, тип float64, процент пропусков 25.66%\n",
      "Колонка INSTRUCTION_EXPENDITURE, тип float64, процент пропусков 25.66%\n",
      "Колонка SUPPORT_SERVICES_EXPENDITURE, тип float64, процент пропусков 25.66%\n",
      "Колонка OTHER_EXPENDITURE, тип float64, процент пропусков 28.63%\n",
      "Колонка CAPITAL_OUTLAY_EXPENDITURE, тип float64, процент пропусков 25.66%\n",
      "Колонка GRADES_PK_G, тип float64, процент пропусков 10.09%\n",
      "Колонка GRADES_KG_G, тип float64, процент пропусков 4.84%\n",
      "Колонка GRADES_4_G, тип float64, процент пропусков 4.84%\n",
      "Колонка GRADES_8_G, тип float64, процент пропусков 4.84%\n",
      "Колонка GRADES_12_G, тип float64, процент пропусков 4.84%\n",
      "Колонка GRADES_1_8_G, тип float64, процент пропусков 40.52%\n",
      "Колонка GRADES_9_12_G, тип float64, процент пропусков 37.55%\n",
      "Колонка GRADES_ALL_G, тип float64, процент пропусков 4.84%\n",
      "Колонка AVG_MATH_4_SCORE, тип float64, процент пропусков 67.06%\n",
      "Колонка AVG_MATH_8_SCORE, тип float64, процент пропусков 64.90%\n",
      "Колонка AVG_READING_4_SCORE, тип float64, процент пропусков 62.10%\n",
      "Колонка AVG_READING_8_SCORE, тип float64, процент пропусков 67.23%\n"
     ]
    }
   ],
   "source": [
    "total_rows = data.shape[0]\n",
    "for col in data.columns:\n",
    "    null_count = data[data[col].isnull()].shape[0]\n",
    "    col_type = str(data[col].dtype)\n",
    "    print(f'Колонка {col}, тип {col_type}, процент пропусков {null_count / total_rows * 100:.2f}%')"
   ]
  },
  {
   "cell_type": "markdown",
   "metadata": {},
   "source": [
    "Пропусков в категориальных колонках нет. Для заполнения пропусков возьмем колонку GRADES_ALL_G.\n",
    "Сначала построим гистограмму данной колонки"
   ]
  },
  {
   "cell_type": "code",
   "execution_count": 8,
   "metadata": {
    "collapsed": true,
    "pycharm": {
     "name": "#%%\n"
    }
   },
   "outputs": [
    {
     "data": {
      "text/plain": [
       "<AxesSubplot:xlabel='GRADES_ALL_G', ylabel='Count'>"
      ]
     },
     "execution_count": 8,
     "metadata": {},
     "output_type": "execute_result"
    },
    {
     "data": {
      "image/png": "[encoded data removed]",
      "text/plain": [
       "<Figure size 864x432 with 1 Axes>"
      ]
     },
     "metadata": {},
     "output_type": "display_data"
    }
   ],
   "source": [
    "sns.set(rc={\"figure.figsize\":(12, 6)})\n",
    "sns.histplot(data=data['GRADES_ALL_G'])"
   ]
  },
  {
   "cell_type": "markdown",
   "metadata": {},
   "source": [
    "Заполним ее с применением различных стратегий"
   ]
  },
  {
   "cell_type": "code",
   "execution_count": 9,
   "metadata": {
    "collapsed": true,
    "pycharm": {
     "name": "#%%\n"
    }
   },
   "outputs": [
    {
     "data": {
      "text/plain": [
       "<AxesSubplot:ylabel='Count'>"
      ]
     },
     "execution_count": 9,
     "metadata": {},
     "output_type": "execute_result"
    },
    {
     "data": {
      "image/png": "[encoded data removed]",
      "text/plain": [
       "<Figure size 864x432 with 1 Axes>"
      ]
     },
     "metadata": {},
     "output_type": "display_data"
    }
   ],
   "source": [
    "# Заполнение средним\n",
    "mean_imp = SimpleImputer(strategy='mean')\n",
    "tot_exp_mean = mean_imp.fit_transform(data[['GRADES_ALL_G']])\n",
    "sns.histplot(data=tot_exp_mean)"
   ]
  },
  {
   "cell_type": "code",
   "execution_count": 10,
   "metadata": {
    "collapsed": true,
    "pycharm": {
     "name": "#%%\n"
    }
   },
   "outputs": [
    {
     "data": {
      "text/plain": [
       "<AxesSubplot:ylabel='Count'>"
      ]
     },
     "execution_count": 10,
     "metadata": {},
     "output_type": "execute_result"
    },
    {
     "data": {
      "image/png": "[encoded data removed]",
      "text/plain": [
       "<Figure size 864x432 with 1 Axes>"
      ]
     },
     "metadata": {},
     "output_type": "display_data"
    }
   ],
   "source": [
    "# Заполнение медианой\n",
    "median_imp = SimpleImputer(strategy='median')\n",
    "tot_exp_mean = median_imp.fit_transform(data[['GRADES_ALL_G']])\n",
    "sns.histplot(data=tot_exp_mean)"
   ]
  },
  {
   "cell_type": "code",
   "execution_count": 11,
   "metadata": {
    "collapsed": true,
    "pycharm": {
     "name": "#%%\n"
    }
   },
   "outputs": [
    {
     "data": {
      "text/plain": [
       "<AxesSubplot:ylabel='Count'>"
      ]
     },
     "execution_count": 11,
     "metadata": {},
     "output_type": "execute_result"
    },
    {
     "data": {
      "image/png": "[encoded data removed]",
      "text/plain": [
       "<Figure size 864x432 with 1 Axes>"
      ]
     },
     "metadata": {},
     "output_type": "display_data"
    }
   ],
   "source": [
    "# Заполнение модой\n",
    "most_freq_imp = SimpleImputer(strategy='most_frequent')\n",
    "tot_exp_mean = most_freq_imp.fit_transform(data[['GRADES_ALL_G']])\n",
    "sns.histplot(data=tot_exp_mean)"
   ]
  },
  {
   "cell_type": "markdown",
   "metadata": {
    "pycharm": {
     "name": "#%% md\n"
    }
   },
   "source": [
    "Для обработки пропусков был использован класс SimpleImputer и рассмотрены три стратегии, которые он реализует: заполнение средним, медианой и модой. Для колонки GRADES_ALL_G, исходя из гистограмм, лучшего всего подходит заполнение средним, т.к. не так сильно влияет на плотность вероятности распределения.\n",
    "\n",
    "Для заполнения пропусков в категориальных признаках также используется класс SimpleImputer, только в этом случае он реализует стратегии most frequent (заполнение самым часто встречаемым значением) и constant (заполнение некторой константой).\n",
    "\n",
    "Для дальнейшего построения модели точно следует исключить признаки AVG_MATH_4_SCORE, AVG_MATH_8_SCORE, AVG_READING_4_SCORE и AVG_READING_8_SCORE, т.к. они имеют слишком много пропусков. Следует оставить колонки GRADES_PK_G, GRADES_KG_G, GRADES_4_G, GRADES_8_G, GRADES_12_G и GRADES_ALL_G т.к. в каждой из них меньше 5 процентов пропусков"
   ]
  }
 ],
 "metadata": {
  "kernelspec": {
   "display_name": "Python 3 (ipykernel)",
   "language": "python",
   "name": "python3"
  },
  "language_info": {
   "codemirror_mode": {
    "name": "ipython",
    "version": 3
   },
   "file_extension": ".py",
   "mimetype": "text/x-python",
   "name": "python",
   "nbconvert_exporter": "python",
   "pygments_lexer": "ipython3",
   "version": "3.9.7"
  }
 },
 "nbformat": 4,
 "nbformat_minor": 1
}